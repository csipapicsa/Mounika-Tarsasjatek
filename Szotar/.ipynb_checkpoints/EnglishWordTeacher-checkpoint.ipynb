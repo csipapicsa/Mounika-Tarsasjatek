{
 "cells": [
  {
   "cell_type": "code",
   "execution_count": 1,
   "id": "9f0cdb41",
   "metadata": {},
   "outputs": [
    {
     "name": "stdout",
     "output_type": "stream",
     "text": [
      "*** get the sheet\n",
      " How many words? \n",
      "3\n",
      " how many possible answers? \n",
      "10\n",
      "*** making the quiz\n",
      "Number of known words:  79 \n",
      " Number of unknown words:  179\n"
     ]
    }
   ],
   "source": [
    "#### import\n",
    "import main as mm\n",
    "import importlib as r\n",
    "# get the sheets\n",
    "print(\"*** get the sheet\")\n",
    "sheet = mm.googleDocReadIn()\n",
    "# user inputs - how many questions, how many possible answers\n",
    "print(\" How many words? \")\n",
    "numberOfQuestions = mm.userInputValidator(100)\n",
    "print(\" how many possible answers? \")\n",
    "numberWrongAnswers = mm.userInputValidator(100)\n",
    "print(\"*** making the quiz\")\n",
    "\n",
    "records_df, wordsStat, words_array, meaning_array, stats_data, stat, help_array = mm.wordsSheet(sheet)\n",
    "# handle empty cells in meaning and help arrays\n",
    "meaning_array, help_array= mm.emptyCellsHandler(words_array, meaning_array, help_array)\n",
    "# get rid of known words\n",
    "daysInt = 62\n",
    "words_array, meaning_array, help_array, numbersQuiz = mm.deleteKnownWords(wordsStat, words_array, meaning_array, help_array, days=daysInt)\n",
    "# make quiz\n",
    "quizQ, possibleWrongAnswers = mm.questions(words_array, meaning_array, help_array, numbersQuiz, length=numberOfQuestions)"
   ]
  },
  {
   "cell_type": "code",
   "execution_count": 3,
   "id": "798cb2ad",
   "metadata": {},
   "outputs": [
    {
     "name": "stdout",
     "output_type": "stream",
     "text": [
      "*** get the sheet\n",
      "Number of known words:  79 \n",
      " Number of unknown words:  179\n",
      " How many words? \n",
      "3\n",
      " how many possible answers? \n",
      "10\n",
      "*** making the quiz\n"
     ]
    }
   ],
   "source": [
    "#### import\n",
    "import main as mm\n",
    "import importlib as r\n",
    "# get the sheets\n",
    "print(\"*** get the sheet\")\n",
    "sheet = mm.googleDocReadIn()\n",
    "\n",
    "\n",
    "\n",
    "records_df, wordsStat, words_array, meaning_array, stats_data, stat, help_array = mm.wordsSheet(sheet)\n",
    "# handle empty cells in meaning and help arrays\n",
    "meaning_array, help_array= mm.emptyCellsHandler(words_array, meaning_array, help_array)\n",
    "# get rid of known words\n",
    "daysInt = 62\n",
    "\n",
    "\n",
    "\n",
    "\n",
    "words_array, meaning_array, help_array, numbersQuiz = mm.deleteKnownWords(wordsStat, words_array, meaning_array, help_array, days=daysInt)\n",
    "\n",
    "# user inputs - how many questions, how many possible answers\n",
    "print(\" How many words? \")\n",
    "numberOfQuestions = mm.userInputValidator(100)\n",
    "print(\" how many possible answers? \")\n",
    "numberWrongAnswers = mm.userInputValidator(100)\n",
    "print(\"*** making the quiz\")\n",
    "\n",
    "# make quiz\n",
    "quizQ, possibleWrongAnswers = mm.questions(words_array, meaning_array, help_array, numbersQuiz, length=numberOfQuestions)"
   ]
  },
  {
   "cell_type": "code",
   "execution_count": 53,
   "id": "adb9d94e",
   "metadata": {},
   "outputs": [
    {
     "data": {
      "text/plain": [
       "<module 'main' from 'D:\\\\DICTIONARY\\\\Dictionary\\\\main.py'>"
      ]
     },
     "execution_count": 53,
     "metadata": {},
     "output_type": "execute_result"
    }
   ],
   "source": [
    "r.reload(mm)"
   ]
  },
  {
   "cell_type": "code",
   "execution_count": 51,
   "id": "177b2495",
   "metadata": {},
   "outputs": [],
   "source": [
    "###################################################### \n",
    "######################################################\n",
    "############### TODO: SOLVE THE PROBLEM OF THE HELP ARRAY ( BASED ON THE INDEXIES)"
   ]
  },
  {
   "cell_type": "code",
   "execution_count": 4,
   "id": "0418eb59",
   "metadata": {},
   "outputs": [
    {
     "name": "stdout",
     "output_type": "stream",
     "text": [
      "compile\n",
      "1  -  szakadás (fizikai, body)\n",
      "2  -  összeállít\n",
      "3  -  feleződik\n",
      "4  -  átlós\n",
      "3\n",
      "### Wrong answer, help:  A report compiled by the Fed's Philadelphia branch described the economy as weak\n",
      "4\n",
      "Correct answer:  összeállít\n",
      "ordinal\n",
      "1  -  következmény (amit várok)\n",
      "2  -  szomszédos\n",
      "3  -  sorrendi\n",
      "4  -  Előre látott, vizionizált cél\n",
      "3\n",
      "Good answer! \n",
      "--------------\n"
     ]
    }
   ],
   "source": [
    "def quizF (quizQ, possibleWrongAnswers,numberWrongAnswers):\n",
    "    for i in quizQ:\n",
    "        question = i[0]\n",
    "        goodAnswer = i[1]\n",
    "        helP = i[2]\n",
    "        # define x wrong answer\n",
    "        # print(\"-------- quizF \", question, goodAnswer)\n",
    "        wrongAnswers = mm.random.choices(possibleWrongAnswers, k=numberWrongAnswers)\n",
    "        mapAnswers(question, goodAnswer, helP, wrongAnswers, numberWrongAnswers)\n",
    "        # print(question, goodAnswer, \" ::: wrong ones ::: \", wrongAnswers)\n",
    "        \n",
    "def mapAnswers(question, goodAnswer, helP, wrongAnswers, numberWrongAnswers):\n",
    "    q = [] #variable for all answers\n",
    "    q.append(goodAnswer)\n",
    "    dicT = {}\n",
    "    # print(\"Q: \", question, \" A: \", goodAnswer, \" H: \", helP)\n",
    "    ######## until here it is good\n",
    "    for i in wrongAnswers:\n",
    "        q.append(i)\n",
    "    mm.random.shuffle(q)\n",
    "    #print(\"## q is this: \", q)\n",
    "    n = range(1,numberWrongAnswers+2)\n",
    "    ######## until here it is good\n",
    "    for n, a in zip(n, q):\n",
    "        # n=number, a=corresponding answer\n",
    "        # print(n, \"  \", a)\n",
    "        dicT[n] = a\n",
    "    \n",
    "    answeringF(dicT,goodAnswer, helP, question) ### unlock it after the help is done\n",
    "    return None\n",
    "\n",
    "\n",
    "def goodAnswerDictWrite(question, goodAnswer):\n",
    "    print(\"Good answer! \")\n",
    "    print(question, \" : \",goodAnswer)\n",
    "    goodAnswersDict[question] = int(mm.datetime.datetime.now().timestamp())\n",
    "    return \n",
    "\n",
    "def goodAnswerChecker(dicT, ans, goodAnswer):\n",
    "    if dicT[ans] == goodAnswer:\n",
    "        return True\n",
    "    else:\n",
    "        return False\n",
    "    \n",
    "def answeringF(dicT, goodAnswer, helP, question):\n",
    "    print(question)\n",
    "    # say it\n",
    "    mm.speak(question)\n",
    "    # print(helP)\n",
    "    # print the answers\n",
    "    for i in dicT:\n",
    "        print(i,\" - \", dicT[i])\n",
    "    # answer\n",
    "    ans = mm.userInputValidator(numberWrongAnswers+1)\n",
    "    if goodAnswerChecker(dicT, ans, goodAnswer): #if the answer is good\n",
    "        goodAnswerDictWrite(question, goodAnswer)\n",
    "    else:\n",
    "        # wrong answer, print help\n",
    "        wrongAnswersDict[question] = int(mm.datetime.datetime.now().timestamp())\n",
    "        print(\"### Wrong answer, help: \", helP)\n",
    "        ans = mm.userInputValidator(numberWrongAnswers+1)\n",
    "        if goodAnswerChecker(dicT, ans, goodAnswer):\n",
    "            goodAnswerDictWrite(question)\n",
    "        if goodAnswerChecker(dicT, ans, goodAnswer) == False:\n",
    "            wrongAnswersDict[question] = int(mm.datetime.datetime.now().timestamp())\n",
    "            print(\"Correct answer: \", goodAnswer)\n",
    "            mm.webbrowser.open('https://www.collinsdictionary.com/dictionary/english/'+question)\n",
    "            # print(\"::: MAPPED GOOD ANSWER IS: \", )\n",
    "            # print(\" ::: DICT :::: \", dicT)\n",
    "            \n",
    "# decleare an empty viaraible for the wrong answers\n",
    "wrongAnswersDict = {}\n",
    "goodAnswersDict = {}\n",
    "\n",
    "quizF(quizQ, possibleWrongAnswers, numberWrongAnswers)"
   ]
  },
  {
   "cell_type": "code",
   "execution_count": 6,
   "id": "0205fcae",
   "metadata": {},
   "outputs": [
    {
     "data": {
      "text/plain": [
       "{'compile': 1665332604}"
      ]
     },
     "execution_count": 6,
     "metadata": {},
     "output_type": "execute_result"
    }
   ],
   "source": [
    "wrongAnswersDict"
   ]
  },
  {
   "cell_type": "code",
   "execution_count": 8,
   "id": "9a1f5175",
   "metadata": {},
   "outputs": [
    {
     "data": {
      "text/plain": [
       "' Validate user input '"
      ]
     },
     "execution_count": 8,
     "metadata": {},
     "output_type": "execute_result"
    }
   ],
   "source": [
    "mm.userInputValidator.__doc__"
   ]
  },
  {
   "cell_type": "code",
   "execution_count": 36,
   "id": "0c380724",
   "metadata": {},
   "outputs": [],
   "source": [
    "type(wordsStat)\n",
    "tt = wordsStat.squeeze('columns')"
   ]
  },
  {
   "cell_type": "code",
   "execution_count": 37,
   "id": "09c54b27",
   "metadata": {},
   "outputs": [
    {
     "data": {
      "text/plain": [
       "pandas.core.frame.DataFrame"
      ]
     },
     "execution_count": 37,
     "metadata": {},
     "output_type": "execute_result"
    }
   ],
   "source": [
    "type(tt)"
   ]
  },
  {
   "cell_type": "code",
   "execution_count": 38,
   "id": "f215a32f",
   "metadata": {},
   "outputs": [
    {
     "data": {
      "text/plain": [
       "pandas.core.series.Series"
      ]
     },
     "execution_count": 38,
     "metadata": {},
     "output_type": "execute_result"
    }
   ],
   "source": [
    "type(t)"
   ]
  },
  {
   "cell_type": "code",
   "execution_count": 30,
   "id": "bd1e8edc",
   "metadata": {},
   "outputs": [
    {
     "ename": "SyntaxError",
     "evalue": "invalid syntax (3237625668.py, line 2)",
     "output_type": "error",
     "traceback": [
      "\u001b[1;36m  Cell \u001b[1;32mIn [30], line 2\u001b[1;36m\u001b[0m\n\u001b[1;33m    t =\u001b[0m\n\u001b[1;37m        ^\u001b[0m\n\u001b[1;31mSyntaxError\u001b[0m\u001b[1;31m:\u001b[0m invalid syntax\n"
     ]
    }
   ],
   "source": [
    "# append wrong and good answers\n",
    "t = \n",
    "for i in wrongAnswersDict:\n",
    "    #wordsStat = wordsStat.append({'Word': i, \"NOK\":wrongAnswersDict[i], \"OK\":\"\" }, ignore_index=True)\n",
    "    t = mm.pd.Series([i, \"\", wrongAnswersDict[i]])\n",
    "    print(t)\n",
    "    print(mm.pd.concat(wordsStat, [t]))\n",
    "for i in goodAnswersDict:\n",
    "    None\n",
    "    #wordsStat = wordsStat.append({'Word': i, \"OK\":goodAnswersDict[i], \"NOK\":\"\" }, ignore_index=True)\n",
    "\n",
    "# update the sheet\n",
    "#stat.update([wordsStat.columns.values.tolist()] + wordsStat.values.tolist())"
   ]
  },
  {
   "cell_type": "code",
   "execution_count": 12,
   "id": "ce5d7b68",
   "metadata": {},
   "outputs": [
    {
     "data": {
      "text/plain": [
       "pandas.core.frame.DataFrame"
      ]
     },
     "execution_count": 12,
     "metadata": {},
     "output_type": "execute_result"
    }
   ],
   "source": [
    "type(wordsStat)"
   ]
  },
  {
   "cell_type": "code",
   "execution_count": 9,
   "id": "0c0da8c9",
   "metadata": {},
   "outputs": [
    {
     "data": {
      "text/html": [
       "<div>\n",
       "<style scoped>\n",
       "    .dataframe tbody tr th:only-of-type {\n",
       "        vertical-align: middle;\n",
       "    }\n",
       "\n",
       "    .dataframe tbody tr th {\n",
       "        vertical-align: top;\n",
       "    }\n",
       "\n",
       "    .dataframe thead th {\n",
       "        text-align: right;\n",
       "    }\n",
       "</style>\n",
       "<table border=\"1\" class=\"dataframe\">\n",
       "  <thead>\n",
       "    <tr style=\"text-align: right;\">\n",
       "      <th></th>\n",
       "      <th>Word</th>\n",
       "      <th>OK</th>\n",
       "      <th>NOK</th>\n",
       "    </tr>\n",
       "  </thead>\n",
       "  <tbody>\n",
       "    <tr>\n",
       "      <th>0</th>\n",
       "      <td>Forge</td>\n",
       "      <td></td>\n",
       "      <td>1663608778</td>\n",
       "    </tr>\n",
       "    <tr>\n",
       "      <th>1</th>\n",
       "      <td>Evasion</td>\n",
       "      <td></td>\n",
       "      <td>1663608840</td>\n",
       "    </tr>\n",
       "    <tr>\n",
       "      <th>2</th>\n",
       "      <td>submit</td>\n",
       "      <td>1663608759</td>\n",
       "      <td></td>\n",
       "    </tr>\n",
       "    <tr>\n",
       "      <th>3</th>\n",
       "      <td>Inertia</td>\n",
       "      <td>1663608765</td>\n",
       "      <td></td>\n",
       "    </tr>\n",
       "    <tr>\n",
       "      <th>4</th>\n",
       "      <td>Classification</td>\n",
       "      <td>1663608770</td>\n",
       "      <td></td>\n",
       "    </tr>\n",
       "    <tr>\n",
       "      <th>...</th>\n",
       "      <td>...</td>\n",
       "      <td>...</td>\n",
       "      <td>...</td>\n",
       "    </tr>\n",
       "    <tr>\n",
       "      <th>417</th>\n",
       "      <td>investigation</td>\n",
       "      <td>1665332238</td>\n",
       "      <td></td>\n",
       "    </tr>\n",
       "    <tr>\n",
       "      <th>418</th>\n",
       "      <td>plausible</td>\n",
       "      <td>1665332250</td>\n",
       "      <td></td>\n",
       "    </tr>\n",
       "    <tr>\n",
       "      <th>419</th>\n",
       "      <td>disseminate</td>\n",
       "      <td>1665332271</td>\n",
       "      <td></td>\n",
       "    </tr>\n",
       "    <tr>\n",
       "      <th>420</th>\n",
       "      <td>compile</td>\n",
       "      <td></td>\n",
       "      <td>1665332604</td>\n",
       "    </tr>\n",
       "    <tr>\n",
       "      <th>421</th>\n",
       "      <td>ordinal</td>\n",
       "      <td>1665332609</td>\n",
       "      <td></td>\n",
       "    </tr>\n",
       "  </tbody>\n",
       "</table>\n",
       "<p>422 rows × 3 columns</p>\n",
       "</div>"
      ],
      "text/plain": [
       "               Word          OK         NOK\n",
       "0             Forge              1663608778\n",
       "1           Evasion              1663608840\n",
       "2            submit  1663608759            \n",
       "3           Inertia  1663608765            \n",
       "4    Classification  1663608770            \n",
       "..              ...         ...         ...\n",
       "417   investigation  1665332238            \n",
       "418       plausible  1665332250            \n",
       "419     disseminate  1665332271            \n",
       "420         compile              1665332604\n",
       "421         ordinal  1665332609            \n",
       "\n",
       "[422 rows x 3 columns]"
      ]
     },
     "execution_count": 9,
     "metadata": {},
     "output_type": "execute_result"
    }
   ],
   "source": [
    "wordsStat"
   ]
  },
  {
   "cell_type": "code",
   "execution_count": 7,
   "id": "dff3ba21",
   "metadata": {},
   "outputs": [
    {
     "data": {
      "text/plain": [
       "{'spreadsheetId': '1FLbb3hTuk6CV8IbjYAw1IF8ABTWY6T8ZTfneCiRJ2TM',\n",
       " 'updatedRange': 'STAT!A1:C421',\n",
       " 'updatedRows': 421,\n",
       " 'updatedColumns': 3,\n",
       " 'updatedCells': 1263}"
      ]
     },
     "execution_count": 7,
     "metadata": {},
     "output_type": "execute_result"
    }
   ],
   "source": [
    "stat.update([wordsStat.columns.values.tolist()] + wordsStat.values.tolist())"
   ]
  },
  {
   "cell_type": "code",
   "execution_count": null,
   "id": "6736774e",
   "metadata": {},
   "outputs": [],
   "source": []
  }
 ],
 "metadata": {
  "kernelspec": {
   "display_name": "Python 3 (ipykernel)",
   "language": "python",
   "name": "python3"
  },
  "language_info": {
   "codemirror_mode": {
    "name": "ipython",
    "version": 3
   },
   "file_extension": ".py",
   "mimetype": "text/x-python",
   "name": "python",
   "nbconvert_exporter": "python",
   "pygments_lexer": "ipython3",
   "version": "3.10.7"
  }
 },
 "nbformat": 4,
 "nbformat_minor": 5
}
