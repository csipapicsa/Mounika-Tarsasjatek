{
 "cells": [
  {
   "cell_type": "code",
   "execution_count": 1,
   "id": "9f994e28",
   "metadata": {
    "ExecuteTime": {
     "end_time": "2023-07-09T16:41:29.791229Z",
     "start_time": "2023-07-09T16:41:14.198328Z"
    }
   },
   "outputs": [],
   "source": [
    "import lottomain as lm\n",
    "import importlib as i\n",
    "i.reload(lm)\n",
    "\n",
    "\n",
    "# NN\n",
    "from keras.layers import LSTM, Dense, Bidirectional, Dropout\n",
    "# optimizer\n",
    "from tensorflow.keras.optimizers import Adam\n",
    "\n",
    "from tensorflow import keras\n",
    "from tensorflow.keras.models import Sequential\n",
    "from tensorflow.keras.layers import Dense, LSTM\n",
    "\n",
    "# normalize\n",
    "from tensorflow.keras.constraints import min_max_norm\n",
    "\n",
    "import tensorflow as tf"
   ]
  },
  {
   "cell_type": "code",
   "execution_count": 2,
   "id": "0af8cdfc",
   "metadata": {
    "ExecuteTime": {
     "end_time": "2023-07-09T16:41:31.964299Z",
     "start_time": "2023-07-09T16:41:29.796218Z"
    }
   },
   "outputs": [],
   "source": [
    "df = lm.getLotto(link='https://bet.szerencsejatek.hu/cmsfiles/hatos.xls',\n",
    "                mode=\"hatos\")"
   ]
  },
  {
   "cell_type": "code",
   "execution_count": 30,
   "id": "d85999f5",
   "metadata": {
    "ExecuteTime": {
     "end_time": "2023-07-09T16:51:20.498118Z",
     "start_time": "2023-07-09T16:51:20.490113Z"
    }
   },
   "outputs": [],
   "source": [
    "# get the x last week\n",
    "WEEK = 52*30\n",
    "dfNumpy = df[:WEEK][[\"1\",\"2\",\"3\",\"4\",\"5\",\"6\"]].values\n",
    "dfNumpy = df[:WEEK][[\"1\",\"2\",\"3\",\"4\",\"5\",\"6\"]]"
   ]
  },
  {
   "cell_type": "markdown",
   "id": "975c24f8",
   "metadata": {},
   "source": [
    "# Scaler?"
   ]
  },
  {
   "cell_type": "code",
   "execution_count": 33,
   "id": "b9c99691",
   "metadata": {
    "ExecuteTime": {
     "end_time": "2023-07-09T16:51:54.485901Z",
     "start_time": "2023-07-09T16:51:54.464933Z"
    }
   },
   "outputs": [],
   "source": [
    "#scaler?\n",
    "#### It has to be done with the original df \n",
    "# between -1 and 1\n",
    "scaler, BATCH, EPOCS = lm.StandardScaler().fit(df.values), 300, 300\n",
    "# between 0 and 1\n",
    "scaler, BATCH, EPOCS = lm.MinMaxScaler().fit(df.values), 50, 10\n",
    "\n",
    "# here I just scaling the last 3 years\n",
    "transformed_dataset = scaler.transform(dfNumpy.values)\n",
    "transformed_df = lm.pd.DataFrame(data=transformed_dataset, index=dfNumpy.index)\n"
   ]
  },
  {
   "cell_type": "code",
   "execution_count": 6,
   "id": "39e53ba5",
   "metadata": {
    "ExecuteTime": {
     "end_time": "2023-07-09T16:41:59.369606Z",
     "start_time": "2023-07-09T16:41:59.351654Z"
    }
   },
   "outputs": [
    {
     "name": "stdout",
     "output_type": "stream",
     "text": [
      " minimum value 0.0, maximum value 0.861111111111111 column 1\n",
      " minimum value 0.0, maximum value 0.9444444444444444 column 2\n",
      " minimum value 0.05405405405405406, maximum value 0.9189189189189189 column 3\n",
      " minimum value 0.05405405405405406, maximum value 0.9729729729729729 column 4\n",
      " minimum value 0.08571428571428574, maximum value 1.0 column 5\n",
      " minimum value 0.16129032258064518, maximum value 1.0 column 6\n",
      " minimum value 1, maximum value 37 column 1\n",
      " minimum value 2, maximum value 38 column 2\n",
      " minimum value 3, maximum value 40 column 3\n",
      " minimum value 6, maximum value 43 column 4\n",
      " minimum value 9, maximum value 44 column 5\n",
      " minimum value 14, maximum value 45 column 6\n"
     ]
    }
   ],
   "source": [
    "lm.minMaxValuePrint(transformed_dataset)\n",
    "chance = lm.minMaxValuePrint(df.values)"
   ]
  },
  {
   "cell_type": "code",
   "execution_count": 35,
   "id": "6cb46a74",
   "metadata": {
    "ExecuteTime": {
     "end_time": "2023-07-05T15:19:40.126273Z",
     "start_time": "2023-07-05T15:19:40.106326Z"
    }
   },
   "outputs": [
    {
     "name": "stdout",
     "output_type": "stream",
     "text": [
      "0.000000000439113592550219400607\n"
     ]
    }
   ],
   "source": [
    "def calculate_probabilities(ranges):\n",
    "    # Számsorok\n",
    "    numbers = []\n",
    "    for r in ranges:\n",
    "        numbers.append(list(range(r[0], r[1]+1)))\n",
    "\n",
    "    # Lehetséges kombinációk száma\n",
    "    total_combinations = 1\n",
    "    for nums in numbers:\n",
    "        total_combinations *= len(nums)\n",
    "\n",
    "    # Átfedés kezelése\n",
    "    for i in range(len(ranges)):\n",
    "        overlap = set(numbers[i]) & set(numbers[i-1])\n",
    "        if overlap:\n",
    "            total_combinations -= 1\n",
    "\n",
    "    # Esély kiszámítása\n",
    "    probability = 1 / total_combinations\n",
    "\n",
    "    return probability\n",
    "\n",
    "# Számsorok\n",
    "number_ranges = [\n",
    "    (1, 37),\n",
    "    (2, 38),\n",
    "    (3, 40),\n",
    "    (6, 43),\n",
    "    (9, 44),\n",
    "    (14,45)\n",
    "]\n",
    "\n",
    "# Esély kiszámítása\n",
    "result = calculate_probabilities(number_ranges)\n",
    "print('{:.30f}'.format(result))"
   ]
  },
  {
   "cell_type": "code",
   "execution_count": null,
   "id": "c3adfab8",
   "metadata": {},
   "outputs": [],
   "source": []
  },
  {
   "cell_type": "code",
   "execution_count": 27,
   "id": "ddc54a19",
   "metadata": {
    "ExecuteTime": {
     "end_time": "2023-07-05T14:30:08.316208Z",
     "start_time": "2023-07-05T14:30:08.306235Z"
    }
   },
   "outputs": [
    {
     "data": {
      "text/plain": [
       "[32, 36, 37, 37, 38, 38]"
      ]
     },
     "execution_count": 27,
     "metadata": {},
     "output_type": "execute_result"
    }
   ],
   "source": [
    "chance"
   ]
  },
  {
   "cell_type": "code",
   "execution_count": 32,
   "id": "9aee9e85",
   "metadata": {
    "ExecuteTime": {
     "end_time": "2023-07-05T14:35:10.376568Z",
     "start_time": "2023-07-05T14:35:10.357594Z"
    }
   },
   "outputs": [],
   "source": [
    "t = 1/32*1/36*1/37*1/37*1/38*1/38\n",
    "t = 1/32"
   ]
  },
  {
   "cell_type": "code",
   "execution_count": 34,
   "id": "fdd6629e",
   "metadata": {
    "ExecuteTime": {
     "end_time": "2023-07-05T15:10:47.949640Z",
     "start_time": "2023-07-05T15:10:47.940663Z"
    }
   },
   "outputs": [
    {
     "data": {
      "text/plain": [
       "2277315072.0"
      ]
     },
     "execution_count": 34,
     "metadata": {},
     "output_type": "execute_result"
    }
   ],
   "source": [
    "1/t"
   ]
  },
  {
   "cell_type": "code",
   "execution_count": 33,
   "id": "0ea7967b",
   "metadata": {
    "ExecuteTime": {
     "end_time": "2023-07-05T14:35:12.532427Z",
     "start_time": "2023-07-05T14:35:12.515473Z"
    }
   },
   "outputs": [
    {
     "name": "stdout",
     "output_type": "stream",
     "text": [
      "0.0000000004391136\n"
     ]
    }
   ],
   "source": [
    "print('{:.16f}'.format(t))"
   ]
  },
  {
   "cell_type": "code",
   "execution_count": 7,
   "id": "0dbdc44f",
   "metadata": {
    "ExecuteTime": {
     "end_time": "2023-07-05T13:29:20.034265Z",
     "start_time": "2023-07-05T13:29:20.027284Z"
    }
   },
   "outputs": [
    {
     "data": {
      "text/plain": [
       "array([37., 38., 40., 43., 44., 45.])"
      ]
     },
     "execution_count": 7,
     "metadata": {},
     "output_type": "execute_result"
    }
   ],
   "source": [
    "scaler.data_max_"
   ]
  },
  {
   "cell_type": "code",
   "execution_count": 20,
   "id": "788b58ff",
   "metadata": {
    "ExecuteTime": {
     "end_time": "2023-06-21T17:25:49.070986Z",
     "start_time": "2023-06-21T17:25:49.050068Z"
    }
   },
   "outputs": [
    {
     "name": "stdout",
     "output_type": "stream",
     "text": [
      "[[ 1.02777778  0.88888889  0.78378378 -0.13513514  1.          1.        ]]\n"
     ]
    }
   ],
   "source": [
    "#print(scaler.transform([[38,34,32,1,44,45]]))"
   ]
  },
  {
   "cell_type": "markdown",
   "id": "9dfa9c0c",
   "metadata": {},
   "source": [
    "# Train / Test split"
   ]
  },
  {
   "cell_type": "code",
   "execution_count": 7,
   "id": "7fc6aac6",
   "metadata": {
    "ExecuteTime": {
     "end_time": "2023-07-09T16:42:09.923652Z",
     "start_time": "2023-07-09T16:42:09.917666Z"
    }
   },
   "outputs": [],
   "source": [
    "#trainY,trainX = dfNumpy[0:1],dfNumpy[1:WEEK]\n",
    "trainY,trainX = transformed_df[0:1].values,transformed_df[1:WEEK].values"
   ]
  },
  {
   "cell_type": "markdown",
   "id": "6d618917",
   "metadata": {},
   "source": [
    "# Model 1"
   ]
  },
  {
   "cell_type": "code",
   "execution_count": 89,
   "id": "36b92068",
   "metadata": {
    "ExecuteTime": {
     "end_time": "2023-06-19T10:26:49.118420Z",
     "start_time": "2023-06-19T10:26:10.535200Z"
    }
   },
   "outputs": [
    {
     "name": "stdout",
     "output_type": "stream",
     "text": [
      "Epoch 1/100\n",
      "155/155 - 2s - loss: 0.3099 - 2s/epoch - 12ms/step\n",
      "Epoch 2/100\n",
      "155/155 - 0s - loss: 0.0026 - 359ms/epoch - 2ms/step\n",
      "Epoch 3/100\n",
      "155/155 - 0s - loss: 8.5341e-04 - 361ms/epoch - 2ms/step\n",
      "Epoch 4/100\n",
      "155/155 - 0s - loss: 3.8157e-04 - 355ms/epoch - 2ms/step\n",
      "Epoch 5/100\n",
      "155/155 - 0s - loss: 2.1239e-04 - 353ms/epoch - 2ms/step\n",
      "Epoch 6/100\n",
      "155/155 - 0s - loss: 1.4567e-04 - 357ms/epoch - 2ms/step\n",
      "Epoch 7/100\n",
      "155/155 - 0s - loss: 1.0682e-04 - 355ms/epoch - 2ms/step\n",
      "Epoch 8/100\n",
      "155/155 - 0s - loss: 1.0601e-04 - 355ms/epoch - 2ms/step\n",
      "Epoch 9/100\n",
      "155/155 - 0s - loss: 1.8244e-04 - 357ms/epoch - 2ms/step\n",
      "Epoch 10/100\n",
      "155/155 - 0s - loss: 9.3644e-05 - 355ms/epoch - 2ms/step\n",
      "Epoch 11/100\n",
      "155/155 - 0s - loss: 1.1215e-04 - 352ms/epoch - 2ms/step\n",
      "Epoch 12/100\n",
      "155/155 - 0s - loss: 1.0392e-04 - 354ms/epoch - 2ms/step\n",
      "Epoch 13/100\n",
      "155/155 - 0s - loss: 6.8065e-05 - 368ms/epoch - 2ms/step\n",
      "Epoch 14/100\n",
      "155/155 - 0s - loss: 6.8654e-05 - 357ms/epoch - 2ms/step\n",
      "Epoch 15/100\n",
      "155/155 - 0s - loss: 8.9292e-05 - 359ms/epoch - 2ms/step\n",
      "Epoch 16/100\n",
      "155/155 - 0s - loss: 7.9270e-05 - 370ms/epoch - 2ms/step\n",
      "Epoch 17/100\n",
      "155/155 - 0s - loss: 1.3572e-04 - 347ms/epoch - 2ms/step\n",
      "Epoch 18/100\n",
      "155/155 - 0s - loss: 7.3570e-05 - 368ms/epoch - 2ms/step\n",
      "Epoch 19/100\n",
      "155/155 - 0s - loss: 1.1439e-04 - 366ms/epoch - 2ms/step\n",
      "Epoch 20/100\n",
      "155/155 - 0s - loss: 7.3796e-05 - 361ms/epoch - 2ms/step\n",
      "Epoch 21/100\n",
      "155/155 - 0s - loss: 4.6115e-05 - 348ms/epoch - 2ms/step\n",
      "Epoch 22/100\n",
      "155/155 - 0s - loss: 3.3151e-04 - 371ms/epoch - 2ms/step\n",
      "Epoch 23/100\n",
      "155/155 - 0s - loss: 2.1298e-04 - 362ms/epoch - 2ms/step\n",
      "Epoch 24/100\n",
      "155/155 - 0s - loss: 0.0042 - 375ms/epoch - 2ms/step\n",
      "Epoch 25/100\n",
      "155/155 - 0s - loss: 1.2812e-05 - 373ms/epoch - 2ms/step\n",
      "Epoch 26/100\n",
      "155/155 - 0s - loss: 1.0466e-05 - 360ms/epoch - 2ms/step\n",
      "Epoch 27/100\n",
      "155/155 - 0s - loss: 1.1180e-05 - 354ms/epoch - 2ms/step\n",
      "Epoch 28/100\n",
      "155/155 - 0s - loss: 1.0041e-05 - 375ms/epoch - 2ms/step\n",
      "Epoch 29/100\n",
      "155/155 - 0s - loss: 9.4181e-06 - 354ms/epoch - 2ms/step\n",
      "Epoch 30/100\n",
      "155/155 - 0s - loss: 7.2886e-06 - 356ms/epoch - 2ms/step\n",
      "Epoch 31/100\n",
      "155/155 - 0s - loss: 7.6597e-06 - 360ms/epoch - 2ms/step\n",
      "Epoch 32/100\n",
      "155/155 - 0s - loss: 7.9677e-06 - 354ms/epoch - 2ms/step\n",
      "Epoch 33/100\n",
      "155/155 - 0s - loss: 8.6147e-06 - 351ms/epoch - 2ms/step\n",
      "Epoch 34/100\n",
      "155/155 - 0s - loss: 8.5835e-06 - 358ms/epoch - 2ms/step\n",
      "Epoch 35/100\n",
      "155/155 - 0s - loss: 8.5230e-06 - 355ms/epoch - 2ms/step\n",
      "Epoch 36/100\n",
      "155/155 - 0s - loss: 1.5731e-05 - 356ms/epoch - 2ms/step\n",
      "Epoch 37/100\n",
      "155/155 - 0s - loss: 1.1958e-05 - 352ms/epoch - 2ms/step\n",
      "Epoch 38/100\n",
      "155/155 - 0s - loss: 1.7732e-05 - 353ms/epoch - 2ms/step\n",
      "Epoch 39/100\n",
      "155/155 - 0s - loss: 2.6225e-05 - 372ms/epoch - 2ms/step\n",
      "Epoch 40/100\n",
      "155/155 - 0s - loss: 1.3861e-04 - 356ms/epoch - 2ms/step\n",
      "Epoch 41/100\n",
      "155/155 - 0s - loss: 1.3575e-05 - 354ms/epoch - 2ms/step\n",
      "Epoch 42/100\n",
      "155/155 - 0s - loss: 1.2220e-05 - 371ms/epoch - 2ms/step\n",
      "Epoch 43/100\n",
      "155/155 - 0s - loss: 1.6518e-05 - 369ms/epoch - 2ms/step\n",
      "Epoch 44/100\n",
      "155/155 - 0s - loss: 2.5952e-04 - 356ms/epoch - 2ms/step\n",
      "Epoch 45/100\n",
      "155/155 - 0s - loss: 1.1805e-04 - 359ms/epoch - 2ms/step\n",
      "Epoch 46/100\n",
      "155/155 - 0s - loss: 1.0077e-05 - 354ms/epoch - 2ms/step\n",
      "Epoch 47/100\n",
      "155/155 - 0s - loss: 9.0695e-06 - 351ms/epoch - 2ms/step\n",
      "Epoch 48/100\n",
      "155/155 - 0s - loss: 2.5041e-05 - 353ms/epoch - 2ms/step\n",
      "Epoch 49/100\n",
      "155/155 - 0s - loss: 9.0838e-06 - 352ms/epoch - 2ms/step\n",
      "Epoch 50/100\n",
      "155/155 - 0s - loss: 1.7654e-05 - 355ms/epoch - 2ms/step\n",
      "Epoch 51/100\n",
      "155/155 - 0s - loss: 2.4577e-05 - 369ms/epoch - 2ms/step\n",
      "Epoch 52/100\n",
      "155/155 - 0s - loss: 2.1404e-05 - 391ms/epoch - 3ms/step\n",
      "Epoch 53/100\n",
      "155/155 - 0s - loss: 1.1498e-04 - 372ms/epoch - 2ms/step\n",
      "Epoch 54/100\n",
      "155/155 - 0s - loss: 6.1677e-05 - 431ms/epoch - 3ms/step\n",
      "Epoch 55/100\n",
      "155/155 - 0s - loss: 1.1313e-05 - 373ms/epoch - 2ms/step\n",
      "Epoch 56/100\n",
      "155/155 - 0s - loss: 6.0666e-06 - 377ms/epoch - 2ms/step\n",
      "Epoch 57/100\n",
      "155/155 - 0s - loss: 5.9909e-06 - 361ms/epoch - 2ms/step\n",
      "Epoch 58/100\n",
      "155/155 - 0s - loss: 1.3420e-04 - 360ms/epoch - 2ms/step\n",
      "Epoch 59/100\n",
      "155/155 - 0s - loss: 3.0462e-05 - 379ms/epoch - 2ms/step\n",
      "Epoch 60/100\n",
      "155/155 - 0s - loss: 5.5311e-06 - 362ms/epoch - 2ms/step\n",
      "Epoch 61/100\n",
      "155/155 - 0s - loss: 4.4299e-06 - 386ms/epoch - 2ms/step\n",
      "Epoch 62/100\n",
      "155/155 - 0s - loss: 1.2448e-05 - 403ms/epoch - 3ms/step\n",
      "Epoch 63/100\n",
      "155/155 - 0s - loss: 1.4769e-05 - 374ms/epoch - 2ms/step\n",
      "Epoch 64/100\n",
      "155/155 - 0s - loss: 2.3643e-05 - 370ms/epoch - 2ms/step\n",
      "Epoch 65/100\n",
      "155/155 - 0s - loss: 3.6318e-05 - 363ms/epoch - 2ms/step\n",
      "Epoch 66/100\n",
      "155/155 - 0s - loss: 2.1892e-05 - 362ms/epoch - 2ms/step\n",
      "Epoch 67/100\n",
      "155/155 - 0s - loss: 2.6042e-05 - 358ms/epoch - 2ms/step\n",
      "Epoch 68/100\n",
      "155/155 - 0s - loss: 1.7859e-05 - 356ms/epoch - 2ms/step\n",
      "Epoch 69/100\n",
      "155/155 - 0s - loss: 8.7322e-06 - 374ms/epoch - 2ms/step\n",
      "Epoch 70/100\n",
      "155/155 - 0s - loss: 8.5764e-06 - 387ms/epoch - 2ms/step\n",
      "Epoch 71/100\n",
      "155/155 - 0s - loss: 5.4159e-05 - 371ms/epoch - 2ms/step\n",
      "Epoch 72/100\n",
      "155/155 - 0s - loss: 2.2381e-05 - 380ms/epoch - 2ms/step\n",
      "Epoch 73/100\n",
      "155/155 - 0s - loss: 6.6859e-06 - 363ms/epoch - 2ms/step\n",
      "Epoch 74/100\n",
      "155/155 - 0s - loss: 2.3601e-05 - 372ms/epoch - 2ms/step\n",
      "Epoch 75/100\n",
      "155/155 - 0s - loss: 4.7765e-05 - 403ms/epoch - 3ms/step\n",
      "Epoch 76/100\n",
      "155/155 - 0s - loss: 1.1053e-05 - 367ms/epoch - 2ms/step\n",
      "Epoch 77/100\n",
      "155/155 - 0s - loss: 9.1505e-06 - 351ms/epoch - 2ms/step\n",
      "Epoch 78/100\n",
      "155/155 - 0s - loss: 4.3216e-05 - 353ms/epoch - 2ms/step\n",
      "Epoch 79/100\n",
      "155/155 - 0s - loss: 2.1675e-04 - 365ms/epoch - 2ms/step\n",
      "Epoch 80/100\n",
      "155/155 - 0s - loss: 2.0593e-05 - 352ms/epoch - 2ms/step\n",
      "Epoch 81/100\n",
      "155/155 - 0s - loss: 1.9511e-06 - 367ms/epoch - 2ms/step\n",
      "Epoch 82/100\n",
      "155/155 - 0s - loss: 1.4596e-06 - 361ms/epoch - 2ms/step\n",
      "Epoch 83/100\n",
      "155/155 - 0s - loss: 1.1428e-06 - 362ms/epoch - 2ms/step\n",
      "Epoch 84/100\n",
      "155/155 - 0s - loss: 1.2932e-06 - 353ms/epoch - 2ms/step\n",
      "Epoch 85/100\n",
      "155/155 - 0s - loss: 1.6073e-05 - 363ms/epoch - 2ms/step\n",
      "Epoch 86/100\n",
      "155/155 - 0s - loss: 5.6189e-05 - 352ms/epoch - 2ms/step\n",
      "Epoch 87/100\n",
      "155/155 - 0s - loss: 2.2035e-06 - 363ms/epoch - 2ms/step\n",
      "Epoch 88/100\n",
      "155/155 - 0s - loss: 4.9519e-06 - 360ms/epoch - 2ms/step\n",
      "Epoch 89/100\n",
      "155/155 - 0s - loss: 2.2919e-06 - 359ms/epoch - 2ms/step\n",
      "Epoch 90/100\n",
      "155/155 - 0s - loss: 4.7274e-06 - 369ms/epoch - 2ms/step\n",
      "Epoch 91/100\n",
      "155/155 - 0s - loss: 1.0893e-06 - 357ms/epoch - 2ms/step\n",
      "Epoch 92/100\n",
      "155/155 - 0s - loss: 2.9268e-06 - 360ms/epoch - 2ms/step\n",
      "Epoch 93/100\n",
      "155/155 - 0s - loss: 1.0979e-05 - 366ms/epoch - 2ms/step\n",
      "Epoch 94/100\n",
      "155/155 - 0s - loss: 5.8558e-05 - 373ms/epoch - 2ms/step\n",
      "Epoch 95/100\n",
      "155/155 - 0s - loss: 7.7710e-06 - 382ms/epoch - 2ms/step\n",
      "Epoch 96/100\n",
      "155/155 - 0s - loss: 1.9094e-06 - 371ms/epoch - 2ms/step\n",
      "Epoch 97/100\n",
      "155/155 - 0s - loss: 1.1121e-04 - 451ms/epoch - 3ms/step\n",
      "Epoch 98/100\n",
      "155/155 - 0s - loss: 1.5145e-05 - 387ms/epoch - 2ms/step\n",
      "Epoch 99/100\n",
      "155/155 - 0s - loss: 1.0956e-06 - 373ms/epoch - 2ms/step\n",
      "Epoch 100/100\n",
      "155/155 - 0s - loss: 1.6353e-06 - 362ms/epoch - 2ms/step\n"
     ]
    },
    {
     "data": {
      "text/plain": [
       "<keras.callbacks.History at 0x213a85eb070>"
      ]
     },
     "execution_count": 89,
     "metadata": {},
     "output_type": "execute_result"
    }
   ],
   "source": [
    "import numpy as np\n",
    "\n",
    "\n",
    "# Define the train dataset\n",
    "\n",
    "# Define the target sequence to predict\n",
    "\n",
    "\n",
    "# Repeat the target sequence to match the number of samples in the train data\n",
    "#target_sequence = np.repeat(target_sequence, train_data.shape[0], axis=0)\n",
    "target_sequence = np.repeat(trainY, trainX.shape[0], axis=0)\n",
    "\n",
    "# Reshape the train data and target sequence for input to the RNN\n",
    "train_data = trainX.reshape((trainX.shape[0], trainX.shape[1], 1))\n",
    "target_sequence = target_sequence.reshape((target_sequence.shape[0], target_sequence.shape[1]))\n",
    "\n",
    "# Create the RNN model\n",
    "model = Sequential()\n",
    "model.add(LSTM(50, input_shape=(train_data.shape[1], train_data.shape[2])))\n",
    "model.add(Dense(target_sequence.shape[1]))\n",
    "\n",
    "# Compile the model\n",
    "model.compile(loss='mean_squared_error', optimizer='adam')\n",
    "\n",
    "# Train the model\n",
    "model.fit(train_data, target_sequence, epochs=100, batch_size=1, verbose=2)\n",
    "\n",
    "# Make predictions\n",
    "predictions = model.predict(train_data)\n",
    "\n",
    "print(\"Predicted sequence:\")\n",
    "print(predictions)"
   ]
  },
  {
   "cell_type": "markdown",
   "id": "6c9746a7",
   "metadata": {},
   "source": [
    "# Model 2"
   ]
  },
  {
   "cell_type": "code",
   "execution_count": 31,
   "id": "9a5f41ec",
   "metadata": {
    "ExecuteTime": {
     "end_time": "2023-07-09T16:51:33.180206Z",
     "start_time": "2023-07-09T16:51:33.115431Z"
    }
   },
   "outputs": [
    {
     "ename": "ValueError",
     "evalue": "could not broadcast input array from shape (0,6) into shape (6,)",
     "output_type": "error",
     "traceback": [
      "\u001b[1;31m---------------------------------------------------------------------------\u001b[0m",
      "\u001b[1;31mValueError\u001b[0m                                Traceback (most recent call last)",
      "Cell \u001b[1;32mIn [31], line 12\u001b[0m\n\u001b[0;32m     10\u001b[0m \u001b[38;5;28;01mfor\u001b[39;00m i \u001b[38;5;129;01min\u001b[39;00m \u001b[38;5;28mrange\u001b[39m(\u001b[38;5;241m0\u001b[39m, number_of_rows\u001b[38;5;241m-\u001b[39mwindow_length):\n\u001b[0;32m     11\u001b[0m     X[i] \u001b[38;5;241m=\u001b[39m transformed_df\u001b[38;5;241m.\u001b[39miloc[i : i\u001b[38;5;241m+\u001b[39mwindow_length, \u001b[38;5;241m0\u001b[39m : number_of_features]\n\u001b[1;32m---> 12\u001b[0m     y[i] \u001b[38;5;241m=\u001b[39m transformed_df\u001b[38;5;241m.\u001b[39miloc[i\u001b[38;5;241m+\u001b[39mwindow_length : i\u001b[38;5;241m+\u001b[39mwindow_length\u001b[38;5;241m+\u001b[39m\u001b[38;5;241m1\u001b[39m, \u001b[38;5;241m0\u001b[39m : number_of_features]\n",
      "\u001b[1;31mValueError\u001b[0m: could not broadcast input array from shape (0,6) into shape (6,)"
     ]
    }
   ],
   "source": [
    "# init \n",
    "# Amount of games we need to take into consideration for prediction\n",
    "window_length = 14\n",
    "window_length\n",
    "number_of_features = 6 # how many balls\n",
    "number_of_rows = 6*52 # based on last 3 years   \n",
    "\n",
    "X = lm.np.empty([ number_of_rows - window_length, window_length, number_of_features], dtype=float)\n",
    "y = lm.np.empty([ number_of_rows - window_length, number_of_features], dtype=float)\n",
    "for i in range(0, number_of_rows-window_length):\n",
    "    X[i] = transformed_df.iloc[i : i+window_length, 0 : number_of_features]\n",
    "    y[i] = transformed_df.iloc[i+window_length : i+window_length+1, 0 : number_of_features]\n",
    "    \n"
   ]
  },
  {
   "cell_type": "code",
   "execution_count": 37,
   "id": "6d91c782",
   "metadata": {
    "ExecuteTime": {
     "end_time": "2023-07-09T16:53:20.504420Z",
     "start_time": "2023-07-09T16:53:20.409227Z"
    }
   },
   "outputs": [],
   "source": [
    "import numpy as np\n",
    "\n",
    "window_length = 28\n",
    "number_of_features = 6\n",
    "number_of_rows = 6 * 52\n",
    "\n",
    "X = np.empty((number_of_rows - window_length, window_length, number_of_features), dtype=float)\n",
    "y = np.empty((number_of_rows - window_length, number_of_features), dtype=float)\n",
    "\n",
    "for i in range(0, number_of_rows - window_length):\n",
    "    try:\n",
    "        X[i] = transformed_df.iloc[i : i + window_length, 0 : number_of_features]\n",
    "        y[i] = transformed_df.iloc[i + window_length : i + window_length + 1, 0 : number_of_features].values.reshape(number_of_features,)\n",
    "    except (ValueError, IndexError):\n",
    "        print(f\"Error encountered at index {i + window_length}. Skipping...\")"
   ]
  },
  {
   "cell_type": "code",
   "execution_count": 53,
   "id": "400d6230",
   "metadata": {
    "ExecuteTime": {
     "end_time": "2023-06-21T17:48:07.022631Z",
     "start_time": "2023-06-21T17:48:06.959432Z"
    }
   },
   "outputs": [],
   "source": [
    "model = Sequential()\n",
    "parameters = 240\n",
    "model.add(Bidirectional(LSTM(parameters, input_shape = (window_length, number_of_features), return_sequences = True)))\n",
    "# reduce overfitting\n",
    "model.add(Dropout(0.2))\n",
    "# second layer\n",
    "model.add(Bidirectional(LSTM(parameters, input_shape = (window_length, number_of_features), return_sequences = True)))\n",
    "# second dropout\n",
    "model.add(Dropout(0.2))\n",
    "\n",
    "model.add(Bidirectional(LSTM(parameters, input_shape = (window_length, number_of_features), return_sequences = True)))\n",
    "\n",
    "model.add(Bidirectional(LSTM(parameters, input_shape = (window_length, number_of_features), return_sequences = False)))\n",
    "\n",
    "# add Dense layer\n",
    "model.add(Dense(59))\n",
    "\n",
    "# output\n",
    "model.add(Dense(number_of_features))\n",
    "\n",
    "# complier\n",
    "model.compile(optimizer=Adam(learning_rate=0.0001), loss ='mse', metrics=['accuracy'])"
   ]
  },
  {
   "cell_type": "markdown",
   "id": "983d4181",
   "metadata": {},
   "source": [
    "# Model 2 with Output constrains"
   ]
  },
  {
   "cell_type": "code",
   "execution_count": 43,
   "id": "61832743",
   "metadata": {
    "ExecuteTime": {
     "end_time": "2023-07-09T16:56:32.180304Z",
     "start_time": "2023-07-09T16:56:32.108548Z"
    }
   },
   "outputs": [],
   "source": [
    "# Set output constraints\n",
    "min_value = 0.0\n",
    "max_value = 1.0\n",
    "\n",
    "model = Sequential()\n",
    "parameters = 240\n",
    "model.add(Bidirectional(LSTM(parameters, input_shape = (window_length, number_of_features), return_sequences = True)))\n",
    "# reduce overfitting\n",
    "model.add(Dropout(0.2))\n",
    "# second layer\n",
    "model.add(Bidirectional(LSTM(parameters, input_shape = (window_length, number_of_features), return_sequences = True)))\n",
    "# second dropout\n",
    "model.add(Dropout(0.2))\n",
    "\n",
    "model.add(Bidirectional(LSTM(parameters, input_shape = (window_length, number_of_features), return_sequences = True)))\n",
    "\n",
    "model.add(Bidirectional(LSTM(parameters, input_shape = (window_length, number_of_features), return_sequences = False)))\n",
    "\n",
    "# Define the output constraints as a custom constraint\n",
    "output_constraint = min_max_norm(min_value=min_value, max_value=max_value)\n",
    "\n",
    "# add Dense layer\n",
    "model.add(Dense(30, activation='relu'))\n",
    "\n",
    "# output\n",
    "model.add(Dense(number_of_features, activation='sigmoid'))\n",
    "\n",
    "# Apply the constraint to the Dense layer\n",
    "model.layers[-1].kernel_constraint = output_constraint\n",
    "model.layers[-1].bias_constraint = output_constraint\n",
    "\n",
    "model.layers[-2].kernel_constraint = output_constraint\n",
    "model.layers[-2].bias_constraint = output_constraint\n",
    "\n",
    "# complier\n",
    "# New model complier\n",
    "def sequence_accuracy(y_true, y_pred):\n",
    "    # Convert the predicted and true sequences to tensors\n",
    "    y_true = tf.convert_to_tensor(y_true)\n",
    "    y_pred = tf.convert_to_tensor(y_pred)\n",
    "\n",
    "    # Compute element-wise matches\n",
    "    matches = tf.cast(tf.equal(y_true, y_pred), tf.float32)\n",
    "    #print(matches)\n",
    "\n",
    "    # Calculate the accuracy for each element in the sequence\n",
    "    per_element_accuracy = tf.reduce_mean(matches, axis=-1)\n",
    "    #print(per_element_accuracy)\n",
    "\n",
    "    # Calculate the overall accuracy\n",
    "    accuracy = tf.reduce_mean(per_element_accuracy)\n",
    "    #print(accuracy)\n",
    "\n",
    "    return accuracy\n",
    "\n",
    "model.compile(optimizer=Adam(learning_rate=0.0001), loss='mse', metrics=[\"accuracy\", sequence_accuracy])"
   ]
  },
  {
   "cell_type": "code",
   "execution_count": 41,
   "id": "8a4b58a6",
   "metadata": {
    "ExecuteTime": {
     "end_time": "2023-07-09T16:55:58.424575Z",
     "start_time": "2023-07-09T16:55:58.419590Z"
    }
   },
   "outputs": [],
   "source": [
    "tX = [[1,1,1,1,1,1],[10,10,10,10,10,10]]\n",
    "ty = [[2,3,4,5,6,7],[7,8,9,10,11,12]]"
   ]
  },
  {
   "cell_type": "code",
   "execution_count": 42,
   "id": "93b44d54",
   "metadata": {
    "ExecuteTime": {
     "end_time": "2023-07-09T16:56:04.013859Z",
     "start_time": "2023-07-09T16:56:03.815014Z"
    }
   },
   "outputs": [
    {
     "name": "stdout",
     "output_type": "stream",
     "text": [
      "Epoch 1/20\n",
      "WARNING:tensorflow:Model was constructed with shape (None, 28, 6) for input KerasTensor(type_spec=TensorSpec(shape=(None, 28, 6), dtype=tf.float32, name='bidirectional_12_input'), name='bidirectional_12_input', description=\"created by layer 'bidirectional_12_input'\"), but it was called on an input with incompatible shape (None, 6).\n"
     ]
    },
    {
     "ename": "ValueError",
     "evalue": "in user code:\n\n    File \"C:\\Users\\MUSIC\\AppData\\Local\\Programs\\Python\\Python310\\lib\\site-packages\\keras\\engine\\training.py\", line 1160, in train_function  *\n        return step_function(self, iterator)\n    File \"C:\\Users\\MUSIC\\AppData\\Local\\Programs\\Python\\Python310\\lib\\site-packages\\keras\\engine\\training.py\", line 1146, in step_function  **\n        outputs = model.distribute_strategy.run(run_step, args=(data,))\n    File \"C:\\Users\\MUSIC\\AppData\\Local\\Programs\\Python\\Python310\\lib\\site-packages\\keras\\engine\\training.py\", line 1135, in run_step  **\n        outputs = model.train_step(data)\n    File \"C:\\Users\\MUSIC\\AppData\\Local\\Programs\\Python\\Python310\\lib\\site-packages\\keras\\engine\\training.py\", line 993, in train_step\n        y_pred = self(x, training=True)\n    File \"C:\\Users\\MUSIC\\AppData\\Local\\Programs\\Python\\Python310\\lib\\site-packages\\keras\\utils\\traceback_utils.py\", line 70, in error_handler\n        raise e.with_traceback(filtered_tb) from None\n    File \"C:\\Users\\MUSIC\\AppData\\Local\\Programs\\Python\\Python310\\lib\\site-packages\\keras\\engine\\input_spec.py\", line 232, in assert_input_compatibility\n        raise ValueError(\n\n    ValueError: Exception encountered when calling layer \"sequential_3\" \"                 f\"(type Sequential).\n    \n    Input 0 of layer \"bidirectional_12\" is incompatible with the layer: expected ndim=3, found ndim=2. Full shape received: (None, 6)\n    \n    Call arguments received by layer \"sequential_3\" \"                 f\"(type Sequential):\n      • inputs=tf.Tensor(shape=(None, 6), dtype=int32)\n      • training=True\n      • mask=None\n",
     "output_type": "error",
     "traceback": [
      "\u001b[1;31m---------------------------------------------------------------------------\u001b[0m",
      "\u001b[1;31mValueError\u001b[0m                                Traceback (most recent call last)",
      "Cell \u001b[1;32mIn [42], line 1\u001b[0m\n\u001b[1;32m----> 1\u001b[0m history \u001b[38;5;241m=\u001b[39m model\u001b[38;5;241m.\u001b[39mfit(x\u001b[38;5;241m=\u001b[39mtX, y\u001b[38;5;241m=\u001b[39mty, batch_size\u001b[38;5;241m=\u001b[39mBATCH, epochs\u001b[38;5;241m=\u001b[39mEPOCS, verbose\u001b[38;5;241m=\u001b[39m\u001b[38;5;241m2\u001b[39m)\n",
      "File \u001b[1;32m~\\AppData\\Local\\Programs\\Python\\Python310\\lib\\site-packages\\keras\\utils\\traceback_utils.py:70\u001b[0m, in \u001b[0;36mfilter_traceback.<locals>.error_handler\u001b[1;34m(*args, **kwargs)\u001b[0m\n\u001b[0;32m     67\u001b[0m     filtered_tb \u001b[38;5;241m=\u001b[39m _process_traceback_frames(e\u001b[38;5;241m.\u001b[39m__traceback__)\n\u001b[0;32m     68\u001b[0m     \u001b[38;5;66;03m# To get the full stack trace, call:\u001b[39;00m\n\u001b[0;32m     69\u001b[0m     \u001b[38;5;66;03m# `tf.debugging.disable_traceback_filtering()`\u001b[39;00m\n\u001b[1;32m---> 70\u001b[0m     \u001b[38;5;28;01mraise\u001b[39;00m e\u001b[38;5;241m.\u001b[39mwith_traceback(filtered_tb) \u001b[38;5;28;01mfrom\u001b[39;00m \u001b[38;5;28mNone\u001b[39m\n\u001b[0;32m     71\u001b[0m \u001b[38;5;28;01mfinally\u001b[39;00m:\n\u001b[0;32m     72\u001b[0m     \u001b[38;5;28;01mdel\u001b[39;00m filtered_tb\n",
      "File \u001b[1;32m~\\AppData\\Local\\Temp\\__autograph_generated_file2gsobdiq.py:15\u001b[0m, in \u001b[0;36mouter_factory.<locals>.inner_factory.<locals>.tf__train_function\u001b[1;34m(iterator)\u001b[0m\n\u001b[0;32m     13\u001b[0m \u001b[38;5;28;01mtry\u001b[39;00m:\n\u001b[0;32m     14\u001b[0m     do_return \u001b[38;5;241m=\u001b[39m \u001b[38;5;28;01mTrue\u001b[39;00m\n\u001b[1;32m---> 15\u001b[0m     retval_ \u001b[38;5;241m=\u001b[39m ag__\u001b[38;5;241m.\u001b[39mconverted_call(ag__\u001b[38;5;241m.\u001b[39mld(step_function), (ag__\u001b[38;5;241m.\u001b[39mld(\u001b[38;5;28mself\u001b[39m), ag__\u001b[38;5;241m.\u001b[39mld(iterator)), \u001b[38;5;28;01mNone\u001b[39;00m, fscope)\n\u001b[0;32m     16\u001b[0m \u001b[38;5;28;01mexcept\u001b[39;00m:\n\u001b[0;32m     17\u001b[0m     do_return \u001b[38;5;241m=\u001b[39m \u001b[38;5;28;01mFalse\u001b[39;00m\n",
      "\u001b[1;31mValueError\u001b[0m: in user code:\n\n    File \"C:\\Users\\MUSIC\\AppData\\Local\\Programs\\Python\\Python310\\lib\\site-packages\\keras\\engine\\training.py\", line 1160, in train_function  *\n        return step_function(self, iterator)\n    File \"C:\\Users\\MUSIC\\AppData\\Local\\Programs\\Python\\Python310\\lib\\site-packages\\keras\\engine\\training.py\", line 1146, in step_function  **\n        outputs = model.distribute_strategy.run(run_step, args=(data,))\n    File \"C:\\Users\\MUSIC\\AppData\\Local\\Programs\\Python\\Python310\\lib\\site-packages\\keras\\engine\\training.py\", line 1135, in run_step  **\n        outputs = model.train_step(data)\n    File \"C:\\Users\\MUSIC\\AppData\\Local\\Programs\\Python\\Python310\\lib\\site-packages\\keras\\engine\\training.py\", line 993, in train_step\n        y_pred = self(x, training=True)\n    File \"C:\\Users\\MUSIC\\AppData\\Local\\Programs\\Python\\Python310\\lib\\site-packages\\keras\\utils\\traceback_utils.py\", line 70, in error_handler\n        raise e.with_traceback(filtered_tb) from None\n    File \"C:\\Users\\MUSIC\\AppData\\Local\\Programs\\Python\\Python310\\lib\\site-packages\\keras\\engine\\input_spec.py\", line 232, in assert_input_compatibility\n        raise ValueError(\n\n    ValueError: Exception encountered when calling layer \"sequential_3\" \"                 f\"(type Sequential).\n    \n    Input 0 of layer \"bidirectional_12\" is incompatible with the layer: expected ndim=3, found ndim=2. Full shape received: (None, 6)\n    \n    Call arguments received by layer \"sequential_3\" \"                 f\"(type Sequential):\n      • inputs=tf.Tensor(shape=(None, 6), dtype=int32)\n      • training=True\n      • mask=None\n"
     ]
    }
   ],
   "source": [
    "history = model.fit(x=tX, y=ty, batch_size=BATCH, epochs=EPOCS, verbose=2)"
   ]
  },
  {
   "cell_type": "markdown",
   "id": "72fafc55",
   "metadata": {},
   "source": [
    "# FIT"
   ]
  },
  {
   "cell_type": "code",
   "execution_count": 44,
   "id": "b5f24bd1",
   "metadata": {
    "ExecuteTime": {
     "end_time": "2023-07-09T16:58:21.834019Z",
     "start_time": "2023-07-09T16:56:36.296129Z"
    }
   },
   "outputs": [
    {
     "name": "stdout",
     "output_type": "stream",
     "text": [
      "Epoch 1/20\n",
      "3/3 - 20s - loss: 0.0846 - accuracy: 0.8239 - sequence_accuracy: 0.0000e+00 - 20s/epoch - 7s/step\n",
      "Epoch 2/20\n",
      "3/3 - 5s - loss: 0.0756 - accuracy: 0.8345 - sequence_accuracy: 0.0000e+00 - 5s/epoch - 2s/step\n",
      "Epoch 3/20\n",
      "3/3 - 4s - loss: 0.0638 - accuracy: 0.8345 - sequence_accuracy: 0.0000e+00 - 4s/epoch - 1s/step\n",
      "Epoch 4/20\n",
      "3/3 - 4s - loss: 0.0521 - accuracy: 0.8345 - sequence_accuracy: 0.0000e+00 - 4s/epoch - 1s/step\n",
      "Epoch 5/20\n",
      "3/3 - 4s - loss: 0.0442 - accuracy: 0.8345 - sequence_accuracy: 0.0000e+00 - 4s/epoch - 1s/step\n",
      "Epoch 6/20\n",
      "3/3 - 4s - loss: 0.0407 - accuracy: 0.8345 - sequence_accuracy: 0.0000e+00 - 4s/epoch - 1s/step\n",
      "Epoch 7/20\n",
      "3/3 - 5s - loss: 0.0371 - accuracy: 0.8345 - sequence_accuracy: 0.0000e+00 - 5s/epoch - 2s/step\n",
      "Epoch 8/20\n",
      "3/3 - 4s - loss: 0.0341 - accuracy: 0.8345 - sequence_accuracy: 0.0000e+00 - 4s/epoch - 1s/step\n",
      "Epoch 9/20\n",
      "3/3 - 4s - loss: 0.0336 - accuracy: 0.8345 - sequence_accuracy: 0.0000e+00 - 4s/epoch - 1s/step\n",
      "Epoch 10/20\n",
      "3/3 - 5s - loss: 0.0334 - accuracy: 0.8345 - sequence_accuracy: 0.0000e+00 - 5s/epoch - 2s/step\n",
      "Epoch 11/20\n",
      "3/3 - 5s - loss: 0.0333 - accuracy: 0.8345 - sequence_accuracy: 0.0000e+00 - 5s/epoch - 2s/step\n",
      "Epoch 12/20\n",
      "3/3 - 5s - loss: 0.0336 - accuracy: 0.8345 - sequence_accuracy: 0.0000e+00 - 5s/epoch - 2s/step\n",
      "Epoch 13/20\n",
      "3/3 - 5s - loss: 0.0335 - accuracy: 0.8345 - sequence_accuracy: 0.0000e+00 - 5s/epoch - 2s/step\n",
      "Epoch 14/20\n",
      "3/3 - 5s - loss: 0.0333 - accuracy: 0.8345 - sequence_accuracy: 0.0000e+00 - 5s/epoch - 2s/step\n",
      "Epoch 15/20\n",
      "3/3 - 5s - loss: 0.0333 - accuracy: 0.8345 - sequence_accuracy: 0.0000e+00 - 5s/epoch - 2s/step\n",
      "Epoch 16/20\n",
      "3/3 - 5s - loss: 0.0332 - accuracy: 0.8345 - sequence_accuracy: 0.0000e+00 - 5s/epoch - 2s/step\n",
      "Epoch 17/20\n",
      "3/3 - 5s - loss: 0.0331 - accuracy: 0.8345 - sequence_accuracy: 0.0000e+00 - 5s/epoch - 2s/step\n",
      "Epoch 18/20\n",
      "3/3 - 5s - loss: 0.0331 - accuracy: 0.8345 - sequence_accuracy: 0.0000e+00 - 5s/epoch - 2s/step\n",
      "Epoch 19/20\n",
      "3/3 - 5s - loss: 0.0331 - accuracy: 0.8345 - sequence_accuracy: 0.0000e+00 - 5s/epoch - 2s/step\n",
      "Epoch 20/20\n",
      "3/3 - 5s - loss: 0.0331 - accuracy: 0.8345 - sequence_accuracy: 0.0000e+00 - 5s/epoch - 2s/step\n"
     ]
    }
   ],
   "source": [
    "EPOCS = 20\n",
    "BATCH = 100\n",
    "# fit it\n",
    "history = model.fit(x=X, y=y, batch_size=BATCH, epochs=EPOCS, verbose=2)"
   ]
  },
  {
   "cell_type": "code",
   "execution_count": 46,
   "id": "c2351437",
   "metadata": {
    "ExecuteTime": {
     "end_time": "2023-07-09T16:58:32.721598Z",
     "start_time": "2023-07-09T16:58:32.621706Z"
    }
   },
   "outputs": [
    {
     "name": "stdout",
     "output_type": "stream",
     "text": [
      "1/1 [==============================] - 0s 31ms/step\n",
      "The predicted numbers in the last lottery game are: [11 16 20 25 29 34]\n"
     ]
    }
   ],
   "source": [
    "# the model is done now. Lets take the last X games and try to predict\n",
    "BASEDON = 10\n",
    "#to_pred = df[1:BASEDON][[\"1\",\"2\",\"3\",\"4\",\"5\",\"6\"]].values\n",
    "# predict based on the last x weeks\n",
    "to_pred = df[0:BASEDON][[\"1\",\"2\",\"3\",\"4\",\"5\",\"6\"]].values\n",
    "# scaling\n",
    "to_pred = scaler.transform(to_pred)\n",
    "pred = df[0:1][[\"1\",\"2\",\"3\",\"4\",\"5\",\"6\"]].values\n",
    "\n",
    "y_pred = model.predict(lm.np.array([to_pred]))\n",
    "print(\"The predicted numbers in the last lottery game are:\", scaler.inverse_transform(y_pred).astype(int)[0])"
   ]
  },
  {
   "cell_type": "code",
   "execution_count": 181,
   "id": "4c6afbac",
   "metadata": {
    "ExecuteTime": {
     "end_time": "2023-06-21T18:43:33.611853Z",
     "start_time": "2023-06-21T18:43:33.593901Z"
    }
   },
   "outputs": [
    {
     "data": {
      "text/plain": [
       "array([[0.03890081, 0.2079196 , 0.39232567, 0.5402744 , 0.7727668 ,\n",
       "        0.92842317]], dtype=float32)"
      ]
     },
     "execution_count": 181,
     "metadata": {},
     "output_type": "execute_result"
    }
   ],
   "source": [
    "y_pred"
   ]
  },
  {
   "cell_type": "code",
   "execution_count": 20,
   "id": "6423f234",
   "metadata": {
    "ExecuteTime": {
     "end_time": "2023-07-05T13:35:45.842663Z",
     "start_time": "2023-07-05T13:35:45.820723Z"
    }
   },
   "outputs": [
    {
     "data": {
      "text/plain": [
       "array([[ 5, 18, 20, 26, 35, 43],\n",
       "       [ 3,  8, 12, 26, 34, 37],\n",
       "       [ 2, 26, 27, 34, 36, 37],\n",
       "       [ 2,  3, 17, 19, 36, 38],\n",
       "       [ 8, 20, 25, 28, 35, 45],\n",
       "       [11, 14, 21, 22, 34, 40],\n",
       "       [ 3,  4,  8, 21, 22, 29],\n",
       "       [ 2,  9, 10, 19, 22, 26],\n",
       "       [10, 13, 15, 31, 36, 42],\n",
       "       [ 4, 14, 19, 23, 27, 42],\n",
       "       [19, 28, 31, 33, 37, 43],\n",
       "       [ 6, 23, 26, 27, 34, 37],\n",
       "       [17, 23, 35, 36, 37, 43],\n",
       "       [ 9, 18, 25, 29, 33, 40],\n",
       "       [ 4,  7, 16, 26, 28, 37],\n",
       "       [ 1,  4, 14, 19, 25, 31],\n",
       "       [13, 14, 16, 22, 27, 33],\n",
       "       [17, 18, 30, 32, 34, 35],\n",
       "       [10, 12, 14, 29, 36, 37],\n",
       "       [ 3,  7, 15, 19, 32, 40],\n",
       "       [ 5, 18, 21, 26, 37, 44],\n",
       "       [13, 20, 24, 26, 38, 42],\n",
       "       [ 1,  3, 17, 26, 40, 45],\n",
       "       [ 2, 11, 12, 17, 37, 44],\n",
       "       [ 3,  5,  6, 14, 35, 37],\n",
       "       [ 6,  9, 16, 19, 23, 29],\n",
       "       [ 4, 14, 19, 28, 43, 44],\n",
       "       [16, 18, 28, 36, 41, 45],\n",
       "       [ 1, 13, 24, 26, 27, 31],\n",
       "       [ 1,  4, 26, 32, 36, 44],\n",
       "       [ 6, 12, 14, 15, 17, 42],\n",
       "       [ 7, 17, 18, 22, 25, 32],\n",
       "       [ 8, 13, 21, 29, 34, 40],\n",
       "       [ 8, 12, 22, 27, 33, 36],\n",
       "       [ 1,  6,  9, 26, 28, 41],\n",
       "       [ 1, 11, 14, 18, 25, 41],\n",
       "       [ 4, 12, 23, 28, 34, 44],\n",
       "       [ 5, 18, 24, 26, 32, 42],\n",
       "       [ 3,  6, 18, 38, 42, 43],\n",
       "       [ 1,  2,  9, 10, 12, 20],\n",
       "       [ 1, 15, 21, 26, 31, 35],\n",
       "       [ 8, 22, 23, 28, 39, 44],\n",
       "       [ 2,  4, 18, 30, 36, 43],\n",
       "       [ 2,  3,  5, 10, 17, 19],\n",
       "       [10, 16, 17, 18, 23, 35],\n",
       "       [ 7, 11, 12, 17, 26, 34],\n",
       "       [ 1,  7, 15, 16, 24, 38],\n",
       "       [ 2,  5,  6, 20, 42, 43],\n",
       "       [ 3,  4, 10, 17, 26, 42],\n",
       "       [ 1,  5, 17, 18, 23, 29],\n",
       "       [ 2, 31, 34, 39, 44, 45],\n",
       "       [ 3,  6, 16, 17, 30, 32],\n",
       "       [ 1, 12, 15, 33, 40, 45],\n",
       "       [ 3,  9, 12, 13, 38, 44],\n",
       "       [ 7, 10, 18, 21, 27, 42],\n",
       "       [ 5, 24, 28, 36, 39, 44],\n",
       "       [ 4,  6, 10, 32, 37, 45],\n",
       "       [ 6,  7, 15, 22, 35, 41],\n",
       "       [ 4,  8, 13, 32, 37, 44],\n",
       "       [ 6, 11, 21, 28, 40, 41],\n",
       "       [ 1, 16, 21, 32, 42, 44],\n",
       "       [11, 12, 18, 28, 43, 44],\n",
       "       [ 5,  6,  7,  8, 32, 36],\n",
       "       [ 6, 10, 24, 37, 39, 42],\n",
       "       [19, 29, 30, 31, 42, 44],\n",
       "       [ 8, 19, 25, 27, 41, 45],\n",
       "       [21, 24, 25, 32, 37, 39],\n",
       "       [12, 13, 17, 28, 35, 38],\n",
       "       [ 8,  9, 17, 28, 32, 34],\n",
       "       [ 2, 17, 31, 32, 37, 38],\n",
       "       [11, 12, 14, 16, 27, 36],\n",
       "       [ 7, 14, 17, 26, 33, 37],\n",
       "       [ 9, 10, 23, 27, 33, 35],\n",
       "       [ 2, 18, 24, 26, 35, 37],\n",
       "       [ 6,  9, 13, 35, 37, 42],\n",
       "       [ 4,  6,  9, 19, 28, 40],\n",
       "       [ 2,  8, 11, 15, 18, 44],\n",
       "       [ 2,  3, 12, 16, 18, 41],\n",
       "       [ 4, 11, 23, 24, 27, 35],\n",
       "       [ 1,  3,  7, 12, 16, 27],\n",
       "       [ 7, 29, 32, 37, 41, 42],\n",
       "       [ 9, 11, 31, 34, 40, 42],\n",
       "       [ 2, 30, 31, 35, 36, 42],\n",
       "       [16, 22, 28, 30, 32, 36],\n",
       "       [ 4,  9, 17, 28, 29, 43],\n",
       "       [ 1,  8, 17, 18, 32, 42],\n",
       "       [ 2,  6,  7,  8, 13, 37],\n",
       "       [ 5, 21, 24, 32, 41, 43],\n",
       "       [13, 31, 34, 35, 36, 39],\n",
       "       [ 5,  7, 12, 18, 30, 41],\n",
       "       [ 2,  5, 16, 17, 18, 38],\n",
       "       [14, 22, 25, 27, 38, 40],\n",
       "       [ 2,  9, 10, 18, 22, 25],\n",
       "       [ 3, 18, 19, 23, 25, 38],\n",
       "       [ 2,  3, 11, 13, 20, 38],\n",
       "       [ 9, 15, 18, 19, 24, 43],\n",
       "       [ 4, 19, 25, 27, 35, 40],\n",
       "       [ 3,  4, 13, 15, 43, 45],\n",
       "       [ 1,  2, 11, 37, 42, 44],\n",
       "       [ 2, 11, 28, 34, 38, 42]], dtype=int64)"
      ]
     },
     "execution_count": 20,
     "metadata": {},
     "output_type": "execute_result"
    }
   ],
   "source": [
    "df[0:BASEDON][[\"1\",\"2\",\"3\",\"4\",\"5\",\"6\"]].values"
   ]
  },
  {
   "cell_type": "code",
   "execution_count": 144,
   "id": "35b0bbf9",
   "metadata": {
    "ExecuteTime": {
     "end_time": "2023-06-19T10:55:42.905182Z",
     "start_time": "2023-06-19T10:55:42.884225Z"
    }
   },
   "outputs": [
    {
     "data": {
      "text/plain": [
       "array([[ 2, 26, 27, 34, 36, 37]], dtype=int64)"
      ]
     },
     "execution_count": 144,
     "metadata": {},
     "output_type": "execute_result"
    }
   ],
   "source": [
    "pred"
   ]
  },
  {
   "cell_type": "code",
   "execution_count": null,
   "id": "6f6f4bc0",
   "metadata": {},
   "outputs": [],
   "source": []
  }
 ],
 "metadata": {
  "kernelspec": {
   "display_name": "Python 3 (ipykernel)",
   "language": "python",
   "name": "python3"
  },
  "language_info": {
   "codemirror_mode": {
    "name": "ipython",
    "version": 3
   },
   "file_extension": ".py",
   "mimetype": "text/x-python",
   "name": "python",
   "nbconvert_exporter": "python",
   "pygments_lexer": "ipython3",
   "version": "3.10.7"
  }
 },
 "nbformat": 4,
 "nbformat_minor": 5
}
