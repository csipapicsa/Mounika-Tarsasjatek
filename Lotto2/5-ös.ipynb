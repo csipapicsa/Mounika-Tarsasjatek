{
 "cells": [
  {
   "cell_type": "code",
   "execution_count": 93,
   "id": "e629fed1",
   "metadata": {
    "ExecuteTime": {
     "end_time": "2023-07-05T15:44:10.788596Z",
     "start_time": "2023-07-05T15:44:10.766653Z"
    }
   },
   "outputs": [],
   "source": [
    "import lottomain as lm\n",
    "import importlib as i\n",
    "i.reload(lm)\n",
    "\n",
    "# NN\n",
    "from keras.layers import LSTM, Dense, Bidirectional, Dropout\n",
    "# optimizer\n",
    "from tensorflow.keras.optimizers import Adam\n",
    "\n",
    "from tensorflow import keras\n",
    "from tensorflow.keras.models import Sequential\n",
    "from tensorflow.keras.layers import Dense, LSTM\n",
    "\n",
    "# normalize\n",
    "from tensorflow.keras.constraints import min_max_norm\n",
    "\n",
    "import tensorflow as tf"
   ]
  },
  {
   "cell_type": "code",
   "execution_count": 58,
   "id": "27707ce5",
   "metadata": {
    "ExecuteTime": {
     "end_time": "2023-07-05T15:25:16.108656Z",
     "start_time": "2023-07-05T15:25:13.407658Z"
    }
   },
   "outputs": [],
   "source": [
    "df = lm.getLotto(link='https://bet.szerencsejatek.hu/cmsfiles/otos.xls',\n",
    "                mode=\"otos\")"
   ]
  },
  {
   "cell_type": "code",
   "execution_count": 80,
   "id": "e628ac22",
   "metadata": {
    "ExecuteTime": {
     "end_time": "2023-07-05T15:34:12.764781Z",
     "start_time": "2023-07-05T15:34:12.753785Z"
    }
   },
   "outputs": [],
   "source": [
    "# filter last 30 yeras\n",
    "ÉVEK = 30\n",
    "df = df[0:(ÉVEK*52)]\n",
    "\n",
    "# get the x last week\n",
    "WEEK = 52*4\n",
    "#dfNumpy = df[:WEEK][[\"1\",\"2\",\"3\",\"4\",\"5\"].values\n",
    "dfNumpy = df[:WEEK][[\"1\",\"2\",\"3\",\"4\",\"5\"]]"
   ]
  },
  {
   "cell_type": "code",
   "execution_count": 81,
   "id": "8d941b8e",
   "metadata": {
    "ExecuteTime": {
     "end_time": "2023-07-05T15:34:16.460282Z",
     "start_time": "2023-07-05T15:34:16.444326Z"
    }
   },
   "outputs": [
    {
     "data": {
      "text/html": [
       "<div>\n",
       "<style scoped>\n",
       "    .dataframe tbody tr th:only-of-type {\n",
       "        vertical-align: middle;\n",
       "    }\n",
       "\n",
       "    .dataframe tbody tr th {\n",
       "        vertical-align: top;\n",
       "    }\n",
       "\n",
       "    .dataframe thead th {\n",
       "        text-align: right;\n",
       "    }\n",
       "</style>\n",
       "<table border=\"1\" class=\"dataframe\">\n",
       "  <thead>\n",
       "    <tr style=\"text-align: right;\">\n",
       "      <th></th>\n",
       "      <th>1</th>\n",
       "      <th>2</th>\n",
       "      <th>3</th>\n",
       "      <th>4</th>\n",
       "      <th>5</th>\n",
       "    </tr>\n",
       "    <tr>\n",
       "      <th>Év</th>\n",
       "      <th></th>\n",
       "      <th></th>\n",
       "      <th></th>\n",
       "      <th></th>\n",
       "      <th></th>\n",
       "    </tr>\n",
       "  </thead>\n",
       "  <tbody>\n",
       "    <tr>\n",
       "      <th>2023</th>\n",
       "      <td>18</td>\n",
       "      <td>42</td>\n",
       "      <td>44</td>\n",
       "      <td>48</td>\n",
       "      <td>86</td>\n",
       "    </tr>\n",
       "    <tr>\n",
       "      <th>2023</th>\n",
       "      <td>25</td>\n",
       "      <td>36</td>\n",
       "      <td>38</td>\n",
       "      <td>51</td>\n",
       "      <td>89</td>\n",
       "    </tr>\n",
       "    <tr>\n",
       "      <th>2023</th>\n",
       "      <td>12</td>\n",
       "      <td>37</td>\n",
       "      <td>50</td>\n",
       "      <td>74</td>\n",
       "      <td>77</td>\n",
       "    </tr>\n",
       "    <tr>\n",
       "      <th>2023</th>\n",
       "      <td>24</td>\n",
       "      <td>27</td>\n",
       "      <td>50</td>\n",
       "      <td>54</td>\n",
       "      <td>71</td>\n",
       "    </tr>\n",
       "    <tr>\n",
       "      <th>2023</th>\n",
       "      <td>29</td>\n",
       "      <td>35</td>\n",
       "      <td>36</td>\n",
       "      <td>48</td>\n",
       "      <td>83</td>\n",
       "    </tr>\n",
       "    <tr>\n",
       "      <th>...</th>\n",
       "      <td>...</td>\n",
       "      <td>...</td>\n",
       "      <td>...</td>\n",
       "      <td>...</td>\n",
       "      <td>...</td>\n",
       "    </tr>\n",
       "    <tr>\n",
       "      <th>1993</th>\n",
       "      <td>31</td>\n",
       "      <td>44</td>\n",
       "      <td>52</td>\n",
       "      <td>54</td>\n",
       "      <td>73</td>\n",
       "    </tr>\n",
       "    <tr>\n",
       "      <th>1993</th>\n",
       "      <td>1</td>\n",
       "      <td>4</td>\n",
       "      <td>39</td>\n",
       "      <td>54</td>\n",
       "      <td>79</td>\n",
       "    </tr>\n",
       "    <tr>\n",
       "      <th>1993</th>\n",
       "      <td>6</td>\n",
       "      <td>22</td>\n",
       "      <td>65</td>\n",
       "      <td>78</td>\n",
       "      <td>79</td>\n",
       "    </tr>\n",
       "    <tr>\n",
       "      <th>1993</th>\n",
       "      <td>7</td>\n",
       "      <td>32</td>\n",
       "      <td>54</td>\n",
       "      <td>60</td>\n",
       "      <td>78</td>\n",
       "    </tr>\n",
       "    <tr>\n",
       "      <th>1993</th>\n",
       "      <td>32</td>\n",
       "      <td>49</td>\n",
       "      <td>53</td>\n",
       "      <td>78</td>\n",
       "      <td>86</td>\n",
       "    </tr>\n",
       "  </tbody>\n",
       "</table>\n",
       "<p>1560 rows × 5 columns</p>\n",
       "</div>"
      ],
      "text/plain": [
       "       1   2   3   4   5\n",
       "Év                      \n",
       "2023  18  42  44  48  86\n",
       "2023  25  36  38  51  89\n",
       "2023  12  37  50  74  77\n",
       "2023  24  27  50  54  71\n",
       "2023  29  35  36  48  83\n",
       "...   ..  ..  ..  ..  ..\n",
       "1993  31  44  52  54  73\n",
       "1993   1   4  39  54  79\n",
       "1993   6  22  65  78  79\n",
       "1993   7  32  54  60  78\n",
       "1993  32  49  53  78  86\n",
       "\n",
       "[1560 rows x 5 columns]"
      ]
     },
     "execution_count": 81,
     "metadata": {},
     "output_type": "execute_result"
    }
   ],
   "source": [
    "df"
   ]
  },
  {
   "cell_type": "code",
   "execution_count": 60,
   "id": "de8371c9",
   "metadata": {
    "ExecuteTime": {
     "end_time": "2023-07-05T15:25:43.025883Z",
     "start_time": "2023-07-05T15:25:43.010926Z"
    }
   },
   "outputs": [],
   "source": [
    "#scaler?\n",
    "#### It has to be done with the original df \n",
    "# between -1 and 1\n",
    "scaler, BATCH, EPOCS = lm.StandardScaler().fit(df.values), 300, 300\n",
    "# between 0 and 1\n",
    "scaler, BATCH, EPOCS = lm.MinMaxScaler().fit(df.values), 500, 100\n",
    "\n",
    "# here I just scaling the last 3 years\n",
    "transformed_dataset = scaler.transform(dfNumpy.values)\n",
    "transformed_df = lm.pd.DataFrame(data=transformed_dataset, index=dfNumpy.index)"
   ]
  },
  {
   "cell_type": "code",
   "execution_count": 61,
   "id": "555551e0",
   "metadata": {
    "ExecuteTime": {
     "end_time": "2023-07-05T15:25:56.322733Z",
     "start_time": "2023-07-05T15:25:56.311764Z"
    }
   },
   "outputs": [],
   "source": [
    "#trainY,trainX = dfNumpy[0:1],dfNumpy[1:WEEK]\n",
    "trainY,trainX = transformed_df[0:1].values,transformed_df[1:WEEK].values"
   ]
  },
  {
   "cell_type": "code",
   "execution_count": 62,
   "id": "a6813f01",
   "metadata": {
    "ExecuteTime": {
     "end_time": "2023-07-05T15:26:08.022267Z",
     "start_time": "2023-07-05T15:26:07.959413Z"
    }
   },
   "outputs": [
    {
     "name": "stdout",
     "output_type": "stream",
     "text": [
      " minimum value 0.0, maximum value 0.8064516129032258 column 1\n",
      " minimum value 0.012987012987012984, maximum value 0.8831168831168832 column 2\n",
      " minimum value 0.02631578947368421, maximum value 0.9473684210526315 column 3\n",
      " minimum value 0.013513513513513514, maximum value 0.9864864864864865 column 4\n",
      " minimum value 0.03278688524590162, maximum value 1.0 column 5\n"
     ]
    },
    {
     "ename": "IndexError",
     "evalue": "index 5 is out of bounds for axis 1 with size 5",
     "output_type": "error",
     "traceback": [
      "\u001b[1;31m---------------------------------------------------------------------------\u001b[0m",
      "\u001b[1;31mIndexError\u001b[0m                                Traceback (most recent call last)",
      "Cell \u001b[1;32mIn [62], line 1\u001b[0m\n\u001b[1;32m----> 1\u001b[0m lm\u001b[38;5;241m.\u001b[39mminMaxValuePrint(transformed_dataset)\n",
      "File \u001b[1;32mD:\\MÓNIKA\\Mounika-Tarsasjatek\\Lotto\\lottomain.py:39\u001b[0m, in \u001b[0;36mminMaxValuePrint\u001b[1;34m(array, columns)\u001b[0m\n\u001b[0;32m     37\u001b[0m chance \u001b[38;5;241m=\u001b[39m []\n\u001b[0;32m     38\u001b[0m \u001b[38;5;28;01mfor\u001b[39;00m i \u001b[38;5;129;01min\u001b[39;00m \u001b[38;5;28mrange\u001b[39m(\u001b[38;5;241m0\u001b[39m,columns):\n\u001b[1;32m---> 39\u001b[0m     \u001b[38;5;28mprint\u001b[39m(\u001b[38;5;124mf\u001b[39m\u001b[38;5;124m\"\u001b[39m\u001b[38;5;124m minimum value \u001b[39m\u001b[38;5;132;01m{\u001b[39;00m\u001b[38;5;28mmin\u001b[39m(array[:,\u001b[38;5;250m \u001b[39mi])\u001b[38;5;132;01m}\u001b[39;00m\u001b[38;5;124m, maximum value \u001b[39m\u001b[38;5;132;01m{\u001b[39;00m\u001b[38;5;28mmax\u001b[39m(array[:,\u001b[38;5;250m \u001b[39mi])\u001b[38;5;132;01m}\u001b[39;00m\u001b[38;5;124m column \u001b[39m\u001b[38;5;132;01m{\u001b[39;00mi\u001b[38;5;241m+\u001b[39m\u001b[38;5;241m1\u001b[39m\u001b[38;5;132;01m}\u001b[39;00m\u001b[38;5;124m\"\u001b[39m)\n\u001b[0;32m     40\u001b[0m     c \u001b[38;5;241m=\u001b[39m \u001b[38;5;28mmax\u001b[39m(array[:, i])\u001b[38;5;241m-\u001b[39m\u001b[38;5;28mmin\u001b[39m(array[:, i])\u001b[38;5;241m+\u001b[39m\u001b[38;5;241m1\u001b[39m\n\u001b[0;32m     41\u001b[0m     chance\u001b[38;5;241m.\u001b[39mappend(\u001b[38;5;28mmax\u001b[39m(array[:, i])\u001b[38;5;241m-\u001b[39m\u001b[38;5;28mmin\u001b[39m(array[:, i])\u001b[38;5;241m+\u001b[39m\u001b[38;5;241m1\u001b[39m)\n",
      "\u001b[1;31mIndexError\u001b[0m: index 5 is out of bounds for axis 1 with size 5"
     ]
    }
   ],
   "source": [
    "lm.minMaxValuePrint(transformed_dataset)"
   ]
  },
  {
   "cell_type": "code",
   "execution_count": 84,
   "id": "8eef1876",
   "metadata": {
    "ExecuteTime": {
     "end_time": "2023-07-05T15:34:47.048465Z",
     "start_time": "2023-07-05T15:34:46.995141Z"
    }
   },
   "outputs": [],
   "source": [
    "# init \n",
    "# Amount of games we need to take into consideration for prediction\n",
    "window_length = 9\n",
    "window_length\n",
    "number_of_features = 5 # how many balls\n",
    "number_of_rows = 4*52 # based on last 3 years   \n",
    "\n",
    "X = lm.np.empty([ number_of_rows - window_length, window_length, number_of_features], dtype=float)\n",
    "y = lm.np.empty([ number_of_rows - window_length, number_of_features], dtype=float)\n",
    "for i in range(0, number_of_rows-window_length):\n",
    "    X[i] = transformed_df.iloc[i : i+window_length, 0 : number_of_features]\n",
    "    y[i] = transformed_df.iloc[i+window_length : i+window_length+1, 0 : number_of_features]"
   ]
  },
  {
   "cell_type": "code",
   "execution_count": 90,
   "id": "4bfb58f9",
   "metadata": {
    "ExecuteTime": {
     "end_time": "2023-07-05T15:43:15.225241Z",
     "start_time": "2023-07-05T15:43:15.143326Z"
    }
   },
   "outputs": [],
   "source": [
    "# Set output constraints\n",
    "min_value = 0.0\n",
    "max_value = 1.0\n",
    "\n",
    "model = Sequential()\n",
    "parameters = 240\n",
    "model.add(Bidirectional(LSTM(parameters, input_shape = (window_length, number_of_features), return_sequences = True)))\n",
    "# reduce overfitting\n",
    "model.add(Dropout(0.2))\n",
    "# second layer\n",
    "model.add(Bidirectional(LSTM(parameters, input_shape = (window_length, number_of_features), return_sequences = True)))\n",
    "# second dropout\n",
    "model.add(Dropout(0.2))\n",
    "\n",
    "model.add(Bidirectional(LSTM(parameters, input_shape = (window_length, number_of_features), return_sequences = True)))\n",
    "\n",
    "model.add(Bidirectional(LSTM(parameters, input_shape = (window_length, number_of_features), return_sequences = False)))\n",
    "\n",
    "# Define the output constraints as a custom constraint\n",
    "output_constraint = min_max_norm(min_value=min_value, max_value=max_value)\n",
    "\n",
    "# add Dense layer\n",
    "model.add(Dense(59, activation='relu'))\n",
    "\n",
    "# output\n",
    "model.add(Dense(number_of_features, activation='sigmoid'))\n",
    "\n",
    "# Apply the constraint to the Dense layer\n",
    "model.layers[-1].kernel_constraint = output_constraint\n",
    "model.layers[-1].bias_constraint = output_constraint\n",
    "\n",
    "model.layers[-2].kernel_constraint = output_constraint\n",
    "model.layers[-2].bias_constraint = output_constraint\n",
    "\n",
    "# complier\n",
    "# model.compile(optimizer=Adam(learning_rate=0.0001), loss ='mse', metrics=['accuracy'])\n",
    "# New model complier"
   ]
  },
  {
   "cell_type": "code",
   "execution_count": 109,
   "id": "8aafbacd",
   "metadata": {
    "ExecuteTime": {
     "end_time": "2023-07-05T15:49:35.742470Z",
     "start_time": "2023-07-05T15:49:35.716540Z"
    }
   },
   "outputs": [],
   "source": [
    "# New model complier\n",
    "def sequence_accuracy(y_true, y_pred):\n",
    "    # Convert the predicted and true sequences to tensors\n",
    "    y_true = tf.convert_to_tensor(y_true)\n",
    "    y_pred = tf.convert_to_tensor(y_pred)\n",
    "\n",
    "    # Compute element-wise matches\n",
    "    matches = tf.cast(tf.equal(y_true, y_pred), tf.float32)\n",
    "    #print(matches)\n",
    "\n",
    "    # Calculate the accuracy for each element in the sequence\n",
    "    per_element_accuracy = tf.reduce_mean(matches, axis=-1)\n",
    "    #print(per_element_accuracy)\n",
    "\n",
    "    # Calculate the overall accuracy\n",
    "    accuracy = tf.reduce_mean(per_element_accuracy)\n",
    "    #print(accuracy)\n",
    "\n",
    "    return accuracy\n",
    "\n",
    "model.compile(optimizer=Adam(learning_rate=0.0001), loss='mse', metrics=[\"accuracy\", sequence_accuracy])\n"
   ]
  },
  {
   "cell_type": "code",
   "execution_count": 105,
   "id": "9280ea74",
   "metadata": {
    "ExecuteTime": {
     "end_time": "2023-07-05T15:47:37.711652Z",
     "start_time": "2023-07-05T15:47:36.884591Z"
    }
   },
   "outputs": [
    {
     "name": "stdout",
     "output_type": "stream",
     "text": [
      "tf.Tensor([1. 1. 0.], shape=(3,), dtype=float32)\n",
      "tf.Tensor(0.6666667, shape=(), dtype=float32)\n"
     ]
    },
    {
     "ename": "AttributeError",
     "evalue": "'tensorflow.python.framework.ops.EagerTensor' object has no attribute 'value'",
     "output_type": "error",
     "traceback": [
      "\u001b[1;31m---------------------------------------------------------------------------\u001b[0m",
      "\u001b[1;31mAttributeError\u001b[0m                            Traceback (most recent call last)",
      "Cell \u001b[1;32mIn [105], line 3\u001b[0m\n\u001b[0;32m      1\u001b[0m y_t \u001b[38;5;241m=\u001b[39m [\u001b[38;5;241m1\u001b[39m,\u001b[38;5;241m2\u001b[39m,\u001b[38;5;241m3\u001b[39m]\n\u001b[0;32m      2\u001b[0m y_p \u001b[38;5;241m=\u001b[39m [\u001b[38;5;241m1\u001b[39m,\u001b[38;5;241m2\u001b[39m,\u001b[38;5;241m4\u001b[39m]\n\u001b[1;32m----> 3\u001b[0m a \u001b[38;5;241m=\u001b[39m sequence_accuracy(y_t, y_p)\n",
      "Cell \u001b[1;32mIn [104], line 17\u001b[0m, in \u001b[0;36msequence_accuracy\u001b[1;34m(y_true, y_pred)\u001b[0m\n\u001b[0;32m     15\u001b[0m \u001b[38;5;66;03m# Calculate the overall accuracy\u001b[39;00m\n\u001b[0;32m     16\u001b[0m accuracy \u001b[38;5;241m=\u001b[39m tf\u001b[38;5;241m.\u001b[39mreduce_mean(per_element_accuracy)\n\u001b[1;32m---> 17\u001b[0m \u001b[38;5;28mprint\u001b[39m(\u001b[43maccuracy\u001b[49m\u001b[38;5;241;43m.\u001b[39;49m\u001b[43mvalue\u001b[49m)\n\u001b[0;32m     19\u001b[0m \u001b[38;5;28;01mreturn\u001b[39;00m accuracy\n",
      "File \u001b[1;32m~\\AppData\\Local\\Programs\\Python\\Python310\\lib\\site-packages\\tensorflow\\python\\framework\\ops.py:446\u001b[0m, in \u001b[0;36mTensor.__getattr__\u001b[1;34m(self, name)\u001b[0m\n\u001b[0;32m    437\u001b[0m \u001b[38;5;28;01mif\u001b[39;00m name \u001b[38;5;129;01min\u001b[39;00m {\u001b[38;5;124m\"\u001b[39m\u001b[38;5;124mT\u001b[39m\u001b[38;5;124m\"\u001b[39m, \u001b[38;5;124m\"\u001b[39m\u001b[38;5;124mastype\u001b[39m\u001b[38;5;124m\"\u001b[39m, \u001b[38;5;124m\"\u001b[39m\u001b[38;5;124mravel\u001b[39m\u001b[38;5;124m\"\u001b[39m, \u001b[38;5;124m\"\u001b[39m\u001b[38;5;124mtranspose\u001b[39m\u001b[38;5;124m\"\u001b[39m, \u001b[38;5;124m\"\u001b[39m\u001b[38;5;124mreshape\u001b[39m\u001b[38;5;124m\"\u001b[39m, \u001b[38;5;124m\"\u001b[39m\u001b[38;5;124mclip\u001b[39m\u001b[38;5;124m\"\u001b[39m, \u001b[38;5;124m\"\u001b[39m\u001b[38;5;124msize\u001b[39m\u001b[38;5;124m\"\u001b[39m,\n\u001b[0;32m    438\u001b[0m             \u001b[38;5;124m\"\u001b[39m\u001b[38;5;124mtolist\u001b[39m\u001b[38;5;124m\"\u001b[39m, \u001b[38;5;124m\"\u001b[39m\u001b[38;5;124mdata\u001b[39m\u001b[38;5;124m\"\u001b[39m}:\n\u001b[0;32m    439\u001b[0m   \u001b[38;5;66;03m# TODO(wangpeng): Export the enable_numpy_behavior knob\u001b[39;00m\n\u001b[0;32m    440\u001b[0m   \u001b[38;5;28;01mraise\u001b[39;00m \u001b[38;5;167;01mAttributeError\u001b[39;00m(\n\u001b[0;32m    441\u001b[0m       \u001b[38;5;124mf\u001b[39m\u001b[38;5;124m\"\u001b[39m\u001b[38;5;132;01m{\u001b[39;00m\u001b[38;5;28mtype\u001b[39m(\u001b[38;5;28mself\u001b[39m)\u001b[38;5;241m.\u001b[39m\u001b[38;5;18m__name__\u001b[39m\u001b[38;5;132;01m}\u001b[39;00m\u001b[38;5;124m object has no attribute \u001b[39m\u001b[38;5;124m'\u001b[39m\u001b[38;5;132;01m{\u001b[39;00mname\u001b[38;5;132;01m}\u001b[39;00m\u001b[38;5;124m'\u001b[39m\u001b[38;5;124m. \u001b[39m\u001b[38;5;124m\"\u001b[39m \u001b[38;5;241m+\u001b[39m \u001b[38;5;124m\"\"\"\u001b[39m\n\u001b[0;32m    442\u001b[0m \u001b[38;5;124m    If you are looking for numpy-related methods, please run the following:\u001b[39m\n\u001b[0;32m    443\u001b[0m \u001b[38;5;124m    from tensorflow.python.ops.numpy_ops import np_config\u001b[39m\n\u001b[0;32m    444\u001b[0m \u001b[38;5;124m    np_config.enable_numpy_behavior()\u001b[39m\n\u001b[0;32m    445\u001b[0m \u001b[38;5;124m  \u001b[39m\u001b[38;5;124m\"\"\"\u001b[39m)\n\u001b[1;32m--> 446\u001b[0m \u001b[38;5;28;43mself\u001b[39;49m\u001b[38;5;241;43m.\u001b[39;49m\u001b[38;5;21;43m__getattribute__\u001b[39;49m\u001b[43m(\u001b[49m\u001b[43mname\u001b[49m\u001b[43m)\u001b[49m\n",
      "\u001b[1;31mAttributeError\u001b[0m: 'tensorflow.python.framework.ops.EagerTensor' object has no attribute 'value'"
     ]
    }
   ],
   "source": [
    "y_t = [1,2,3]\n",
    "y_p = [1,2,4]\n",
    "a = sequence_accuracy(y_t, y_p)"
   ]
  },
  {
   "cell_type": "code",
   "execution_count": 110,
   "id": "6c974fa5",
   "metadata": {
    "ExecuteTime": {
     "end_time": "2023-07-05T15:51:05.792208Z",
     "start_time": "2023-07-05T15:49:37.247633Z"
    }
   },
   "outputs": [
    {
     "name": "stdout",
     "output_type": "stream",
     "text": [
      "Epoch 1/100\n",
      "Tensor(\"Cast_3:0\", shape=(None, 5), dtype=float32)\n",
      "Tensor(\"Mean:0\", shape=(None,), dtype=float32)\n",
      "Tensor(\"Mean_1:0\", shape=(), dtype=float32)\n",
      "Tensor(\"Cast_3:0\", shape=(None, 5), dtype=float32)\n",
      "Tensor(\"Mean:0\", shape=(None,), dtype=float32)\n",
      "Tensor(\"Mean_1:0\", shape=(), dtype=float32)\n",
      "1/1 - 13s - loss: 0.0425 - accuracy: 0.7789 - sequence_accuracy: 0.0000e+00 - 13s/epoch - 13s/step\n",
      "Epoch 2/100\n",
      "1/1 - 1s - loss: 0.0425 - accuracy: 0.7789 - sequence_accuracy: 0.0000e+00 - 822ms/epoch - 822ms/step\n",
      "Epoch 3/100\n",
      "1/1 - 1s - loss: 0.0425 - accuracy: 0.7789 - sequence_accuracy: 0.0000e+00 - 825ms/epoch - 825ms/step\n",
      "Epoch 4/100\n",
      "1/1 - 1s - loss: 0.0425 - accuracy: 0.7789 - sequence_accuracy: 0.0000e+00 - 828ms/epoch - 828ms/step\n",
      "Epoch 5/100\n",
      "1/1 - 1s - loss: 0.0425 - accuracy: 0.7789 - sequence_accuracy: 0.0000e+00 - 823ms/epoch - 823ms/step\n",
      "Epoch 6/100\n",
      "1/1 - 1s - loss: 0.0425 - accuracy: 0.7789 - sequence_accuracy: 0.0000e+00 - 818ms/epoch - 818ms/step\n",
      "Epoch 7/100\n",
      "1/1 - 1s - loss: 0.0425 - accuracy: 0.7789 - sequence_accuracy: 0.0000e+00 - 826ms/epoch - 826ms/step\n",
      "Epoch 8/100\n",
      "1/1 - 1s - loss: 0.0425 - accuracy: 0.7789 - sequence_accuracy: 0.0000e+00 - 869ms/epoch - 869ms/step\n",
      "Epoch 9/100\n",
      "1/1 - 1s - loss: 0.0425 - accuracy: 0.7789 - sequence_accuracy: 0.0000e+00 - 834ms/epoch - 834ms/step\n",
      "Epoch 10/100\n",
      "1/1 - 1s - loss: 0.0425 - accuracy: 0.7789 - sequence_accuracy: 0.0000e+00 - 842ms/epoch - 842ms/step\n",
      "Epoch 11/100\n",
      "1/1 - 1s - loss: 0.0425 - accuracy: 0.7789 - sequence_accuracy: 0.0000e+00 - 879ms/epoch - 879ms/step\n",
      "Epoch 12/100\n",
      "1/1 - 1s - loss: 0.0425 - accuracy: 0.7789 - sequence_accuracy: 0.0000e+00 - 928ms/epoch - 928ms/step\n",
      "Epoch 13/100\n",
      "1/1 - 1s - loss: 0.0425 - accuracy: 0.7789 - sequence_accuracy: 0.0000e+00 - 878ms/epoch - 878ms/step\n",
      "Epoch 14/100\n",
      "1/1 - 1s - loss: 0.0425 - accuracy: 0.7789 - sequence_accuracy: 0.0000e+00 - 857ms/epoch - 857ms/step\n",
      "Epoch 15/100\n",
      "1/1 - 1s - loss: 0.0425 - accuracy: 0.7789 - sequence_accuracy: 0.0000e+00 - 855ms/epoch - 855ms/step\n",
      "Epoch 16/100\n",
      "1/1 - 1s - loss: 0.0425 - accuracy: 0.7789 - sequence_accuracy: 0.0000e+00 - 895ms/epoch - 895ms/step\n",
      "Epoch 17/100\n",
      "1/1 - 1s - loss: 0.0425 - accuracy: 0.7789 - sequence_accuracy: 0.0000e+00 - 910ms/epoch - 910ms/step\n",
      "Epoch 18/100\n",
      "1/1 - 1s - loss: 0.0425 - accuracy: 0.7789 - sequence_accuracy: 0.0000e+00 - 919ms/epoch - 919ms/step\n",
      "Epoch 19/100\n",
      "1/1 - 1s - loss: 0.0425 - accuracy: 0.7789 - sequence_accuracy: 0.0000e+00 - 1s/epoch - 1s/step\n",
      "Epoch 20/100\n",
      "1/1 - 1s - loss: 0.0425 - accuracy: 0.7789 - sequence_accuracy: 0.0000e+00 - 960ms/epoch - 960ms/step\n",
      "Epoch 21/100\n",
      "1/1 - 1s - loss: 0.0425 - accuracy: 0.7789 - sequence_accuracy: 0.0000e+00 - 991ms/epoch - 991ms/step\n",
      "Epoch 22/100\n",
      "1/1 - 1s - loss: 0.0425 - accuracy: 0.7789 - sequence_accuracy: 0.0000e+00 - 952ms/epoch - 952ms/step\n",
      "Epoch 23/100\n",
      "1/1 - 1s - loss: 0.0425 - accuracy: 0.7789 - sequence_accuracy: 0.0000e+00 - 875ms/epoch - 875ms/step\n",
      "Epoch 24/100\n",
      "1/1 - 1s - loss: 0.0425 - accuracy: 0.7789 - sequence_accuracy: 0.0000e+00 - 891ms/epoch - 891ms/step\n",
      "Epoch 25/100\n",
      "1/1 - 1s - loss: 0.0425 - accuracy: 0.7789 - sequence_accuracy: 0.0000e+00 - 986ms/epoch - 986ms/step\n",
      "Epoch 26/100\n",
      "1/1 - 1s - loss: 0.0425 - accuracy: 0.7789 - sequence_accuracy: 0.0000e+00 - 936ms/epoch - 936ms/step\n",
      "Epoch 27/100\n",
      "1/1 - 1s - loss: 0.0425 - accuracy: 0.7789 - sequence_accuracy: 0.0000e+00 - 929ms/epoch - 929ms/step\n",
      "Epoch 28/100\n",
      "1/1 - 1s - loss: 0.0425 - accuracy: 0.7789 - sequence_accuracy: 0.0000e+00 - 882ms/epoch - 882ms/step\n",
      "Epoch 29/100\n",
      "1/1 - 1s - loss: 0.0425 - accuracy: 0.7789 - sequence_accuracy: 0.0000e+00 - 880ms/epoch - 880ms/step\n",
      "Epoch 30/100\n",
      "1/1 - 1s - loss: 0.0425 - accuracy: 0.7789 - sequence_accuracy: 0.0000e+00 - 907ms/epoch - 907ms/step\n",
      "Epoch 31/100\n",
      "1/1 - 1s - loss: 0.0425 - accuracy: 0.7789 - sequence_accuracy: 0.0000e+00 - 946ms/epoch - 946ms/step\n",
      "Epoch 32/100\n",
      "1/1 - 1s - loss: 0.0425 - accuracy: 0.7789 - sequence_accuracy: 0.0000e+00 - 1s/epoch - 1s/step\n",
      "Epoch 33/100\n",
      "1/1 - 1s - loss: 0.0425 - accuracy: 0.7789 - sequence_accuracy: 0.0000e+00 - 864ms/epoch - 864ms/step\n",
      "Epoch 34/100\n",
      "1/1 - 1s - loss: 0.0425 - accuracy: 0.7789 - sequence_accuracy: 0.0000e+00 - 1s/epoch - 1s/step\n",
      "Epoch 35/100\n",
      "1/1 - 1s - loss: 0.0425 - accuracy: 0.7789 - sequence_accuracy: 0.0000e+00 - 939ms/epoch - 939ms/step\n",
      "Epoch 36/100\n",
      "1/1 - 1s - loss: 0.0424 - accuracy: 0.7789 - sequence_accuracy: 0.0000e+00 - 918ms/epoch - 918ms/step\n",
      "Epoch 37/100\n",
      "1/1 - 1s - loss: 0.0425 - accuracy: 0.7789 - sequence_accuracy: 0.0000e+00 - 901ms/epoch - 901ms/step\n",
      "Epoch 38/100\n",
      "1/1 - 1s - loss: 0.0425 - accuracy: 0.7789 - sequence_accuracy: 0.0000e+00 - 898ms/epoch - 898ms/step\n",
      "Epoch 39/100\n",
      "1/1 - 1s - loss: 0.0424 - accuracy: 0.7789 - sequence_accuracy: 0.0000e+00 - 894ms/epoch - 894ms/step\n",
      "Epoch 40/100\n",
      "1/1 - 1s - loss: 0.0425 - accuracy: 0.7789 - sequence_accuracy: 0.0000e+00 - 887ms/epoch - 887ms/step\n",
      "Epoch 41/100\n",
      "1/1 - 1s - loss: 0.0424 - accuracy: 0.7789 - sequence_accuracy: 0.0000e+00 - 952ms/epoch - 952ms/step\n",
      "Epoch 42/100\n",
      "1/1 - 1s - loss: 0.0425 - accuracy: 0.7789 - sequence_accuracy: 0.0000e+00 - 891ms/epoch - 891ms/step\n",
      "Epoch 43/100\n",
      "1/1 - 1s - loss: 0.0424 - accuracy: 0.7789 - sequence_accuracy: 0.0000e+00 - 897ms/epoch - 897ms/step\n",
      "Epoch 44/100\n",
      "1/1 - 1s - loss: 0.0425 - accuracy: 0.7789 - sequence_accuracy: 0.0000e+00 - 915ms/epoch - 915ms/step\n",
      "Epoch 45/100\n",
      "1/1 - 1s - loss: 0.0425 - accuracy: 0.7789 - sequence_accuracy: 0.0000e+00 - 896ms/epoch - 896ms/step\n",
      "Epoch 46/100\n",
      "1/1 - 1s - loss: 0.0425 - accuracy: 0.7789 - sequence_accuracy: 0.0000e+00 - 910ms/epoch - 910ms/step\n",
      "Epoch 47/100\n",
      "1/1 - 1s - loss: 0.0425 - accuracy: 0.7789 - sequence_accuracy: 0.0000e+00 - 889ms/epoch - 889ms/step\n",
      "Epoch 48/100\n",
      "1/1 - 1s - loss: 0.0425 - accuracy: 0.7789 - sequence_accuracy: 0.0000e+00 - 902ms/epoch - 902ms/step\n",
      "Epoch 49/100\n",
      "1/1 - 1s - loss: 0.0425 - accuracy: 0.7789 - sequence_accuracy: 0.0000e+00 - 887ms/epoch - 887ms/step\n",
      "Epoch 50/100\n",
      "1/1 - 1s - loss: 0.0424 - accuracy: 0.7789 - sequence_accuracy: 0.0000e+00 - 885ms/epoch - 885ms/step\n",
      "Epoch 51/100\n",
      "1/1 - 1s - loss: 0.0425 - accuracy: 0.7789 - sequence_accuracy: 0.0000e+00 - 908ms/epoch - 908ms/step\n",
      "Epoch 52/100\n",
      "1/1 - 1s - loss: 0.0424 - accuracy: 0.7789 - sequence_accuracy: 0.0000e+00 - 917ms/epoch - 917ms/step\n",
      "Epoch 53/100\n",
      "1/1 - 1s - loss: 0.0425 - accuracy: 0.7789 - sequence_accuracy: 0.0000e+00 - 901ms/epoch - 901ms/step\n",
      "Epoch 54/100\n",
      "1/1 - 1s - loss: 0.0424 - accuracy: 0.7789 - sequence_accuracy: 0.0000e+00 - 957ms/epoch - 957ms/step\n",
      "Epoch 55/100\n",
      "1/1 - 1s - loss: 0.0425 - accuracy: 0.7789 - sequence_accuracy: 0.0000e+00 - 892ms/epoch - 892ms/step\n",
      "Epoch 56/100\n",
      "1/1 - 1s - loss: 0.0425 - accuracy: 0.7789 - sequence_accuracy: 0.0000e+00 - 905ms/epoch - 905ms/step\n",
      "Epoch 57/100\n",
      "1/1 - 1s - loss: 0.0425 - accuracy: 0.7789 - sequence_accuracy: 0.0000e+00 - 919ms/epoch - 919ms/step\n",
      "Epoch 58/100\n",
      "1/1 - 1s - loss: 0.0424 - accuracy: 0.7789 - sequence_accuracy: 0.0000e+00 - 918ms/epoch - 918ms/step\n",
      "Epoch 59/100\n",
      "1/1 - 1s - loss: 0.0425 - accuracy: 0.7789 - sequence_accuracy: 0.0000e+00 - 912ms/epoch - 912ms/step\n",
      "Epoch 60/100\n",
      "1/1 - 1s - loss: 0.0425 - accuracy: 0.7789 - sequence_accuracy: 0.0000e+00 - 1s/epoch - 1s/step\n",
      "Epoch 61/100\n",
      "1/1 - 1s - loss: 0.0424 - accuracy: 0.7789 - sequence_accuracy: 0.0000e+00 - 1s/epoch - 1s/step\n",
      "Epoch 62/100\n",
      "1/1 - 1s - loss: 0.0425 - accuracy: 0.7789 - sequence_accuracy: 0.0000e+00 - 961ms/epoch - 961ms/step\n",
      "Epoch 63/100\n",
      "1/1 - 1s - loss: 0.0425 - accuracy: 0.7789 - sequence_accuracy: 0.0000e+00 - 920ms/epoch - 920ms/step\n",
      "Epoch 64/100\n",
      "1/1 - 1s - loss: 0.0425 - accuracy: 0.7789 - sequence_accuracy: 0.0000e+00 - 960ms/epoch - 960ms/step\n",
      "Epoch 65/100\n",
      "1/1 - 1s - loss: 0.0425 - accuracy: 0.7789 - sequence_accuracy: 0.0000e+00 - 918ms/epoch - 918ms/step\n",
      "Epoch 66/100\n",
      "1/1 - 1s - loss: 0.0424 - accuracy: 0.7789 - sequence_accuracy: 0.0000e+00 - 960ms/epoch - 960ms/step\n",
      "Epoch 67/100\n",
      "1/1 - 1s - loss: 0.0425 - accuracy: 0.7789 - sequence_accuracy: 0.0000e+00 - 1s/epoch - 1s/step\n",
      "Epoch 68/100\n",
      "1/1 - 1s - loss: 0.0424 - accuracy: 0.7789 - sequence_accuracy: 0.0000e+00 - 928ms/epoch - 928ms/step\n",
      "Epoch 69/100\n",
      "1/1 - 1s - loss: 0.0424 - accuracy: 0.7789 - sequence_accuracy: 0.0000e+00 - 963ms/epoch - 963ms/step\n",
      "Epoch 70/100\n",
      "1/1 - 1s - loss: 0.0424 - accuracy: 0.7789 - sequence_accuracy: 0.0000e+00 - 1s/epoch - 1s/step\n"
     ]
    },
    {
     "name": "stdout",
     "output_type": "stream",
     "text": [
      "Epoch 71/100\n",
      "1/1 - 1s - loss: 0.0425 - accuracy: 0.7789 - sequence_accuracy: 0.0000e+00 - 928ms/epoch - 928ms/step\n",
      "Epoch 72/100\n",
      "1/1 - 1s - loss: 0.0425 - accuracy: 0.7789 - sequence_accuracy: 0.0000e+00 - 921ms/epoch - 921ms/step\n",
      "Epoch 73/100\n",
      "1/1 - 1s - loss: 0.0424 - accuracy: 0.7789 - sequence_accuracy: 0.0000e+00 - 902ms/epoch - 902ms/step\n",
      "Epoch 74/100\n",
      "1/1 - 1s - loss: 0.0424 - accuracy: 0.7789 - sequence_accuracy: 0.0000e+00 - 913ms/epoch - 913ms/step\n",
      "Epoch 75/100\n",
      "1/1 - 1s - loss: 0.0425 - accuracy: 0.7789 - sequence_accuracy: 0.0000e+00 - 942ms/epoch - 942ms/step\n",
      "Epoch 76/100\n",
      "1/1 - 1s - loss: 0.0424 - accuracy: 0.7789 - sequence_accuracy: 0.0000e+00 - 916ms/epoch - 916ms/step\n",
      "Epoch 77/100\n",
      "1/1 - 1s - loss: 0.0424 - accuracy: 0.7789 - sequence_accuracy: 0.0000e+00 - 908ms/epoch - 908ms/step\n",
      "Epoch 78/100\n",
      "1/1 - 1s - loss: 0.0424 - accuracy: 0.7789 - sequence_accuracy: 0.0000e+00 - 892ms/epoch - 892ms/step\n",
      "Epoch 79/100\n",
      "1/1 - 1s - loss: 0.0423 - accuracy: 0.7789 - sequence_accuracy: 0.0000e+00 - 922ms/epoch - 922ms/step\n",
      "Epoch 80/100\n",
      "1/1 - 1s - loss: 0.0425 - accuracy: 0.7789 - sequence_accuracy: 0.0000e+00 - 905ms/epoch - 905ms/step\n",
      "Epoch 81/100\n",
      "1/1 - 1s - loss: 0.0424 - accuracy: 0.7789 - sequence_accuracy: 0.0000e+00 - 895ms/epoch - 895ms/step\n",
      "Epoch 82/100\n",
      "1/1 - 1s - loss: 0.0425 - accuracy: 0.7789 - sequence_accuracy: 0.0000e+00 - 930ms/epoch - 930ms/step\n",
      "Epoch 83/100\n"
     ]
    },
    {
     "ename": "KeyboardInterrupt",
     "evalue": "",
     "output_type": "error",
     "traceback": [
      "\u001b[1;31m---------------------------------------------------------------------------\u001b[0m",
      "\u001b[1;31mKeyboardInterrupt\u001b[0m                         Traceback (most recent call last)",
      "Cell \u001b[1;32mIn [110], line 3\u001b[0m\n\u001b[0;32m      1\u001b[0m EPOCS \u001b[38;5;241m=\u001b[39m \u001b[38;5;241m100\u001b[39m\n\u001b[0;32m      2\u001b[0m \u001b[38;5;66;03m# fit it\u001b[39;00m\n\u001b[1;32m----> 3\u001b[0m history \u001b[38;5;241m=\u001b[39m model\u001b[38;5;241m.\u001b[39mfit(x\u001b[38;5;241m=\u001b[39mX, y\u001b[38;5;241m=\u001b[39my, batch_size\u001b[38;5;241m=\u001b[39mBATCH, epochs\u001b[38;5;241m=\u001b[39mEPOCS, verbose\u001b[38;5;241m=\u001b[39m\u001b[38;5;241m2\u001b[39m)\n",
      "File \u001b[1;32m~\\AppData\\Local\\Programs\\Python\\Python310\\lib\\site-packages\\keras\\utils\\traceback_utils.py:65\u001b[0m, in \u001b[0;36mfilter_traceback.<locals>.error_handler\u001b[1;34m(*args, **kwargs)\u001b[0m\n\u001b[0;32m     63\u001b[0m filtered_tb \u001b[38;5;241m=\u001b[39m \u001b[38;5;28;01mNone\u001b[39;00m\n\u001b[0;32m     64\u001b[0m \u001b[38;5;28;01mtry\u001b[39;00m:\n\u001b[1;32m---> 65\u001b[0m     \u001b[38;5;28;01mreturn\u001b[39;00m fn(\u001b[38;5;241m*\u001b[39margs, \u001b[38;5;241m*\u001b[39m\u001b[38;5;241m*\u001b[39mkwargs)\n\u001b[0;32m     66\u001b[0m \u001b[38;5;28;01mexcept\u001b[39;00m \u001b[38;5;167;01mException\u001b[39;00m \u001b[38;5;28;01mas\u001b[39;00m e:\n\u001b[0;32m     67\u001b[0m     filtered_tb \u001b[38;5;241m=\u001b[39m _process_traceback_frames(e\u001b[38;5;241m.\u001b[39m__traceback__)\n",
      "File \u001b[1;32m~\\AppData\\Local\\Programs\\Python\\Python310\\lib\\site-packages\\keras\\engine\\training.py:1564\u001b[0m, in \u001b[0;36mModel.fit\u001b[1;34m(self, x, y, batch_size, epochs, verbose, callbacks, validation_split, validation_data, shuffle, class_weight, sample_weight, initial_epoch, steps_per_epoch, validation_steps, validation_batch_size, validation_freq, max_queue_size, workers, use_multiprocessing)\u001b[0m\n\u001b[0;32m   1556\u001b[0m \u001b[38;5;28;01mwith\u001b[39;00m tf\u001b[38;5;241m.\u001b[39mprofiler\u001b[38;5;241m.\u001b[39mexperimental\u001b[38;5;241m.\u001b[39mTrace(\n\u001b[0;32m   1557\u001b[0m     \u001b[38;5;124m\"\u001b[39m\u001b[38;5;124mtrain\u001b[39m\u001b[38;5;124m\"\u001b[39m,\n\u001b[0;32m   1558\u001b[0m     epoch_num\u001b[38;5;241m=\u001b[39mepoch,\n\u001b[1;32m   (...)\u001b[0m\n\u001b[0;32m   1561\u001b[0m     _r\u001b[38;5;241m=\u001b[39m\u001b[38;5;241m1\u001b[39m,\n\u001b[0;32m   1562\u001b[0m ):\n\u001b[0;32m   1563\u001b[0m     callbacks\u001b[38;5;241m.\u001b[39mon_train_batch_begin(step)\n\u001b[1;32m-> 1564\u001b[0m     tmp_logs \u001b[38;5;241m=\u001b[39m \u001b[38;5;28;43mself\u001b[39;49m\u001b[38;5;241;43m.\u001b[39;49m\u001b[43mtrain_function\u001b[49m\u001b[43m(\u001b[49m\u001b[43miterator\u001b[49m\u001b[43m)\u001b[49m\n\u001b[0;32m   1565\u001b[0m     \u001b[38;5;28;01mif\u001b[39;00m data_handler\u001b[38;5;241m.\u001b[39mshould_sync:\n\u001b[0;32m   1566\u001b[0m         context\u001b[38;5;241m.\u001b[39masync_wait()\n",
      "File \u001b[1;32m~\\AppData\\Local\\Programs\\Python\\Python310\\lib\\site-packages\\tensorflow\\python\\util\\traceback_utils.py:150\u001b[0m, in \u001b[0;36mfilter_traceback.<locals>.error_handler\u001b[1;34m(*args, **kwargs)\u001b[0m\n\u001b[0;32m    148\u001b[0m filtered_tb \u001b[38;5;241m=\u001b[39m \u001b[38;5;28;01mNone\u001b[39;00m\n\u001b[0;32m    149\u001b[0m \u001b[38;5;28;01mtry\u001b[39;00m:\n\u001b[1;32m--> 150\u001b[0m   \u001b[38;5;28;01mreturn\u001b[39;00m fn(\u001b[38;5;241m*\u001b[39margs, \u001b[38;5;241m*\u001b[39m\u001b[38;5;241m*\u001b[39mkwargs)\n\u001b[0;32m    151\u001b[0m \u001b[38;5;28;01mexcept\u001b[39;00m \u001b[38;5;167;01mException\u001b[39;00m \u001b[38;5;28;01mas\u001b[39;00m e:\n\u001b[0;32m    152\u001b[0m   filtered_tb \u001b[38;5;241m=\u001b[39m _process_traceback_frames(e\u001b[38;5;241m.\u001b[39m__traceback__)\n",
      "File \u001b[1;32m~\\AppData\\Local\\Programs\\Python\\Python310\\lib\\site-packages\\tensorflow\\python\\eager\\def_function.py:915\u001b[0m, in \u001b[0;36mFunction.__call__\u001b[1;34m(self, *args, **kwds)\u001b[0m\n\u001b[0;32m    912\u001b[0m compiler \u001b[38;5;241m=\u001b[39m \u001b[38;5;124m\"\u001b[39m\u001b[38;5;124mxla\u001b[39m\u001b[38;5;124m\"\u001b[39m \u001b[38;5;28;01mif\u001b[39;00m \u001b[38;5;28mself\u001b[39m\u001b[38;5;241m.\u001b[39m_jit_compile \u001b[38;5;28;01melse\u001b[39;00m \u001b[38;5;124m\"\u001b[39m\u001b[38;5;124mnonXla\u001b[39m\u001b[38;5;124m\"\u001b[39m\n\u001b[0;32m    914\u001b[0m \u001b[38;5;28;01mwith\u001b[39;00m OptionalXlaContext(\u001b[38;5;28mself\u001b[39m\u001b[38;5;241m.\u001b[39m_jit_compile):\n\u001b[1;32m--> 915\u001b[0m   result \u001b[38;5;241m=\u001b[39m \u001b[38;5;28mself\u001b[39m\u001b[38;5;241m.\u001b[39m_call(\u001b[38;5;241m*\u001b[39margs, \u001b[38;5;241m*\u001b[39m\u001b[38;5;241m*\u001b[39mkwds)\n\u001b[0;32m    917\u001b[0m new_tracing_count \u001b[38;5;241m=\u001b[39m \u001b[38;5;28mself\u001b[39m\u001b[38;5;241m.\u001b[39mexperimental_get_tracing_count()\n\u001b[0;32m    918\u001b[0m without_tracing \u001b[38;5;241m=\u001b[39m (tracing_count \u001b[38;5;241m==\u001b[39m new_tracing_count)\n",
      "File \u001b[1;32m~\\AppData\\Local\\Programs\\Python\\Python310\\lib\\site-packages\\tensorflow\\python\\eager\\def_function.py:947\u001b[0m, in \u001b[0;36mFunction._call\u001b[1;34m(self, *args, **kwds)\u001b[0m\n\u001b[0;32m    944\u001b[0m   \u001b[38;5;28mself\u001b[39m\u001b[38;5;241m.\u001b[39m_lock\u001b[38;5;241m.\u001b[39mrelease()\n\u001b[0;32m    945\u001b[0m   \u001b[38;5;66;03m# In this case we have created variables on the first call, so we run the\u001b[39;00m\n\u001b[0;32m    946\u001b[0m   \u001b[38;5;66;03m# defunned version which is guaranteed to never create variables.\u001b[39;00m\n\u001b[1;32m--> 947\u001b[0m   \u001b[38;5;28;01mreturn\u001b[39;00m \u001b[38;5;28mself\u001b[39m\u001b[38;5;241m.\u001b[39m_stateless_fn(\u001b[38;5;241m*\u001b[39margs, \u001b[38;5;241m*\u001b[39m\u001b[38;5;241m*\u001b[39mkwds)  \u001b[38;5;66;03m# pylint: disable=not-callable\u001b[39;00m\n\u001b[0;32m    948\u001b[0m \u001b[38;5;28;01melif\u001b[39;00m \u001b[38;5;28mself\u001b[39m\u001b[38;5;241m.\u001b[39m_stateful_fn \u001b[38;5;129;01mis\u001b[39;00m \u001b[38;5;129;01mnot\u001b[39;00m \u001b[38;5;28;01mNone\u001b[39;00m:\n\u001b[0;32m    949\u001b[0m   \u001b[38;5;66;03m# Release the lock early so that multiple threads can perform the call\u001b[39;00m\n\u001b[0;32m    950\u001b[0m   \u001b[38;5;66;03m# in parallel.\u001b[39;00m\n\u001b[0;32m    951\u001b[0m   \u001b[38;5;28mself\u001b[39m\u001b[38;5;241m.\u001b[39m_lock\u001b[38;5;241m.\u001b[39mrelease()\n",
      "File \u001b[1;32m~\\AppData\\Local\\Programs\\Python\\Python310\\lib\\site-packages\\tensorflow\\python\\eager\\function.py:2496\u001b[0m, in \u001b[0;36mFunction.__call__\u001b[1;34m(self, *args, **kwargs)\u001b[0m\n\u001b[0;32m   2493\u001b[0m \u001b[38;5;28;01mwith\u001b[39;00m \u001b[38;5;28mself\u001b[39m\u001b[38;5;241m.\u001b[39m_lock:\n\u001b[0;32m   2494\u001b[0m   (graph_function,\n\u001b[0;32m   2495\u001b[0m    filtered_flat_args) \u001b[38;5;241m=\u001b[39m \u001b[38;5;28mself\u001b[39m\u001b[38;5;241m.\u001b[39m_maybe_define_function(args, kwargs)\n\u001b[1;32m-> 2496\u001b[0m \u001b[38;5;28;01mreturn\u001b[39;00m \u001b[43mgraph_function\u001b[49m\u001b[38;5;241;43m.\u001b[39;49m\u001b[43m_call_flat\u001b[49m\u001b[43m(\u001b[49m\n\u001b[0;32m   2497\u001b[0m \u001b[43m    \u001b[49m\u001b[43mfiltered_flat_args\u001b[49m\u001b[43m,\u001b[49m\u001b[43m \u001b[49m\u001b[43mcaptured_inputs\u001b[49m\u001b[38;5;241;43m=\u001b[39;49m\u001b[43mgraph_function\u001b[49m\u001b[38;5;241;43m.\u001b[39;49m\u001b[43mcaptured_inputs\u001b[49m\u001b[43m)\u001b[49m\n",
      "File \u001b[1;32m~\\AppData\\Local\\Programs\\Python\\Python310\\lib\\site-packages\\tensorflow\\python\\eager\\function.py:1862\u001b[0m, in \u001b[0;36mConcreteFunction._call_flat\u001b[1;34m(self, args, captured_inputs, cancellation_manager)\u001b[0m\n\u001b[0;32m   1858\u001b[0m possible_gradient_type \u001b[38;5;241m=\u001b[39m gradients_util\u001b[38;5;241m.\u001b[39mPossibleTapeGradientTypes(args)\n\u001b[0;32m   1859\u001b[0m \u001b[38;5;28;01mif\u001b[39;00m (possible_gradient_type \u001b[38;5;241m==\u001b[39m gradients_util\u001b[38;5;241m.\u001b[39mPOSSIBLE_GRADIENT_TYPES_NONE\n\u001b[0;32m   1860\u001b[0m     \u001b[38;5;129;01mand\u001b[39;00m executing_eagerly):\n\u001b[0;32m   1861\u001b[0m   \u001b[38;5;66;03m# No tape is watching; skip to running the function.\u001b[39;00m\n\u001b[1;32m-> 1862\u001b[0m   \u001b[38;5;28;01mreturn\u001b[39;00m \u001b[38;5;28mself\u001b[39m\u001b[38;5;241m.\u001b[39m_build_call_outputs(\u001b[38;5;28;43mself\u001b[39;49m\u001b[38;5;241;43m.\u001b[39;49m\u001b[43m_inference_function\u001b[49m\u001b[38;5;241;43m.\u001b[39;49m\u001b[43mcall\u001b[49m\u001b[43m(\u001b[49m\n\u001b[0;32m   1863\u001b[0m \u001b[43m      \u001b[49m\u001b[43mctx\u001b[49m\u001b[43m,\u001b[49m\u001b[43m \u001b[49m\u001b[43margs\u001b[49m\u001b[43m,\u001b[49m\u001b[43m \u001b[49m\u001b[43mcancellation_manager\u001b[49m\u001b[38;5;241;43m=\u001b[39;49m\u001b[43mcancellation_manager\u001b[49m\u001b[43m)\u001b[49m)\n\u001b[0;32m   1864\u001b[0m forward_backward \u001b[38;5;241m=\u001b[39m \u001b[38;5;28mself\u001b[39m\u001b[38;5;241m.\u001b[39m_select_forward_and_backward_functions(\n\u001b[0;32m   1865\u001b[0m     args,\n\u001b[0;32m   1866\u001b[0m     possible_gradient_type,\n\u001b[0;32m   1867\u001b[0m     executing_eagerly)\n\u001b[0;32m   1868\u001b[0m forward_function, args_with_tangents \u001b[38;5;241m=\u001b[39m forward_backward\u001b[38;5;241m.\u001b[39mforward()\n",
      "File \u001b[1;32m~\\AppData\\Local\\Programs\\Python\\Python310\\lib\\site-packages\\tensorflow\\python\\eager\\function.py:499\u001b[0m, in \u001b[0;36m_EagerDefinedFunction.call\u001b[1;34m(self, ctx, args, cancellation_manager)\u001b[0m\n\u001b[0;32m    497\u001b[0m \u001b[38;5;28;01mwith\u001b[39;00m _InterpolateFunctionError(\u001b[38;5;28mself\u001b[39m):\n\u001b[0;32m    498\u001b[0m   \u001b[38;5;28;01mif\u001b[39;00m cancellation_manager \u001b[38;5;129;01mis\u001b[39;00m \u001b[38;5;28;01mNone\u001b[39;00m:\n\u001b[1;32m--> 499\u001b[0m     outputs \u001b[38;5;241m=\u001b[39m \u001b[43mexecute\u001b[49m\u001b[38;5;241;43m.\u001b[39;49m\u001b[43mexecute\u001b[49m\u001b[43m(\u001b[49m\n\u001b[0;32m    500\u001b[0m \u001b[43m        \u001b[49m\u001b[38;5;28;43mstr\u001b[39;49m\u001b[43m(\u001b[49m\u001b[38;5;28;43mself\u001b[39;49m\u001b[38;5;241;43m.\u001b[39;49m\u001b[43msignature\u001b[49m\u001b[38;5;241;43m.\u001b[39;49m\u001b[43mname\u001b[49m\u001b[43m)\u001b[49m\u001b[43m,\u001b[49m\n\u001b[0;32m    501\u001b[0m \u001b[43m        \u001b[49m\u001b[43mnum_outputs\u001b[49m\u001b[38;5;241;43m=\u001b[39;49m\u001b[38;5;28;43mself\u001b[39;49m\u001b[38;5;241;43m.\u001b[39;49m\u001b[43m_num_outputs\u001b[49m\u001b[43m,\u001b[49m\n\u001b[0;32m    502\u001b[0m \u001b[43m        \u001b[49m\u001b[43minputs\u001b[49m\u001b[38;5;241;43m=\u001b[39;49m\u001b[43margs\u001b[49m\u001b[43m,\u001b[49m\n\u001b[0;32m    503\u001b[0m \u001b[43m        \u001b[49m\u001b[43mattrs\u001b[49m\u001b[38;5;241;43m=\u001b[39;49m\u001b[43mattrs\u001b[49m\u001b[43m,\u001b[49m\n\u001b[0;32m    504\u001b[0m \u001b[43m        \u001b[49m\u001b[43mctx\u001b[49m\u001b[38;5;241;43m=\u001b[39;49m\u001b[43mctx\u001b[49m\u001b[43m)\u001b[49m\n\u001b[0;32m    505\u001b[0m   \u001b[38;5;28;01melse\u001b[39;00m:\n\u001b[0;32m    506\u001b[0m     outputs \u001b[38;5;241m=\u001b[39m execute\u001b[38;5;241m.\u001b[39mexecute_with_cancellation(\n\u001b[0;32m    507\u001b[0m         \u001b[38;5;28mstr\u001b[39m(\u001b[38;5;28mself\u001b[39m\u001b[38;5;241m.\u001b[39msignature\u001b[38;5;241m.\u001b[39mname),\n\u001b[0;32m    508\u001b[0m         num_outputs\u001b[38;5;241m=\u001b[39m\u001b[38;5;28mself\u001b[39m\u001b[38;5;241m.\u001b[39m_num_outputs,\n\u001b[1;32m   (...)\u001b[0m\n\u001b[0;32m    511\u001b[0m         ctx\u001b[38;5;241m=\u001b[39mctx,\n\u001b[0;32m    512\u001b[0m         cancellation_manager\u001b[38;5;241m=\u001b[39mcancellation_manager)\n",
      "File \u001b[1;32m~\\AppData\\Local\\Programs\\Python\\Python310\\lib\\site-packages\\tensorflow\\python\\eager\\execute.py:54\u001b[0m, in \u001b[0;36mquick_execute\u001b[1;34m(op_name, num_outputs, inputs, attrs, ctx, name)\u001b[0m\n\u001b[0;32m     52\u001b[0m \u001b[38;5;28;01mtry\u001b[39;00m:\n\u001b[0;32m     53\u001b[0m   ctx\u001b[38;5;241m.\u001b[39mensure_initialized()\n\u001b[1;32m---> 54\u001b[0m   tensors \u001b[38;5;241m=\u001b[39m \u001b[43mpywrap_tfe\u001b[49m\u001b[38;5;241;43m.\u001b[39;49m\u001b[43mTFE_Py_Execute\u001b[49m\u001b[43m(\u001b[49m\u001b[43mctx\u001b[49m\u001b[38;5;241;43m.\u001b[39;49m\u001b[43m_handle\u001b[49m\u001b[43m,\u001b[49m\u001b[43m \u001b[49m\u001b[43mdevice_name\u001b[49m\u001b[43m,\u001b[49m\u001b[43m \u001b[49m\u001b[43mop_name\u001b[49m\u001b[43m,\u001b[49m\n\u001b[0;32m     55\u001b[0m \u001b[43m                                      \u001b[49m\u001b[43minputs\u001b[49m\u001b[43m,\u001b[49m\u001b[43m \u001b[49m\u001b[43mattrs\u001b[49m\u001b[43m,\u001b[49m\u001b[43m \u001b[49m\u001b[43mnum_outputs\u001b[49m\u001b[43m)\u001b[49m\n\u001b[0;32m     56\u001b[0m \u001b[38;5;28;01mexcept\u001b[39;00m core\u001b[38;5;241m.\u001b[39m_NotOkStatusException \u001b[38;5;28;01mas\u001b[39;00m e:\n\u001b[0;32m     57\u001b[0m   \u001b[38;5;28;01mif\u001b[39;00m name \u001b[38;5;129;01mis\u001b[39;00m \u001b[38;5;129;01mnot\u001b[39;00m \u001b[38;5;28;01mNone\u001b[39;00m:\n",
      "\u001b[1;31mKeyboardInterrupt\u001b[0m: "
     ]
    }
   ],
   "source": [
    "EPOCS = 100\n",
    "# fit it\n",
    "history = model.fit(x=X, y=y, batch_size=BATCH, epochs=EPOCS, verbose=2)"
   ]
  },
  {
   "cell_type": "code",
   "execution_count": 89,
   "id": "b021f421",
   "metadata": {
    "ExecuteTime": {
     "end_time": "2023-07-05T15:38:55.530472Z",
     "start_time": "2023-07-05T15:38:55.431021Z"
    }
   },
   "outputs": [
    {
     "name": "stdout",
     "output_type": "stream",
     "text": [
      "1/1 [==============================] - 0s 28ms/step\n",
      "The predicted numbers in the last lottery game are: [18 32 44 55 69]\n"
     ]
    }
   ],
   "source": [
    "# the model is done now. Lets take the last X games and try to predict\n",
    "BASEDON = 7\n",
    "#to_pred = df[1:BASEDON][[\"1\",\"2\",\"3\",\"4\",\"5\",\"6\"]].values\n",
    "# predict based on the last x weeks\n",
    "to_pred = df[0:BASEDON][[\"1\",\"2\",\"3\",\"4\",\"5\"]].values\n",
    "# scaling\n",
    "to_pred = scaler.transform(to_pred)\n",
    "pred = df[0:1][[\"1\",\"2\",\"3\",\"4\",\"5\"]].values\n",
    "\n",
    "y_pred = model.predict(lm.np.array([to_pred]))\n",
    "print(\"The predicted numbers in the last lottery game are:\", scaler.inverse_transform(y_pred).astype(int)[0])"
   ]
  },
  {
   "cell_type": "code",
   "execution_count": 74,
   "id": "6d500f21",
   "metadata": {
    "ExecuteTime": {
     "end_time": "2023-07-05T15:32:30.156734Z",
     "start_time": "2023-07-05T15:32:30.136788Z"
    }
   },
   "outputs": [
    {
     "data": {
      "text/html": [
       "<div>\n",
       "<style scoped>\n",
       "    .dataframe tbody tr th:only-of-type {\n",
       "        vertical-align: middle;\n",
       "    }\n",
       "\n",
       "    .dataframe tbody tr th {\n",
       "        vertical-align: top;\n",
       "    }\n",
       "\n",
       "    .dataframe thead th {\n",
       "        text-align: right;\n",
       "    }\n",
       "</style>\n",
       "<table border=\"1\" class=\"dataframe\">\n",
       "  <thead>\n",
       "    <tr style=\"text-align: right;\">\n",
       "      <th></th>\n",
       "      <th>1</th>\n",
       "      <th>2</th>\n",
       "      <th>3</th>\n",
       "      <th>4</th>\n",
       "      <th>5</th>\n",
       "    </tr>\n",
       "    <tr>\n",
       "      <th>Év</th>\n",
       "      <th></th>\n",
       "      <th></th>\n",
       "      <th></th>\n",
       "      <th></th>\n",
       "      <th></th>\n",
       "    </tr>\n",
       "  </thead>\n",
       "  <tbody>\n",
       "    <tr>\n",
       "      <th>2023</th>\n",
       "      <td>18</td>\n",
       "      <td>42</td>\n",
       "      <td>44</td>\n",
       "      <td>48</td>\n",
       "      <td>86</td>\n",
       "    </tr>\n",
       "    <tr>\n",
       "      <th>2023</th>\n",
       "      <td>25</td>\n",
       "      <td>36</td>\n",
       "      <td>38</td>\n",
       "      <td>51</td>\n",
       "      <td>89</td>\n",
       "    </tr>\n",
       "    <tr>\n",
       "      <th>2023</th>\n",
       "      <td>12</td>\n",
       "      <td>37</td>\n",
       "      <td>50</td>\n",
       "      <td>74</td>\n",
       "      <td>77</td>\n",
       "    </tr>\n",
       "    <tr>\n",
       "      <th>2023</th>\n",
       "      <td>24</td>\n",
       "      <td>27</td>\n",
       "      <td>50</td>\n",
       "      <td>54</td>\n",
       "      <td>71</td>\n",
       "    </tr>\n",
       "    <tr>\n",
       "      <th>2023</th>\n",
       "      <td>29</td>\n",
       "      <td>35</td>\n",
       "      <td>36</td>\n",
       "      <td>48</td>\n",
       "      <td>83</td>\n",
       "    </tr>\n",
       "    <tr>\n",
       "      <th>...</th>\n",
       "      <td>...</td>\n",
       "      <td>...</td>\n",
       "      <td>...</td>\n",
       "      <td>...</td>\n",
       "      <td>...</td>\n",
       "    </tr>\n",
       "    <tr>\n",
       "      <th>1993</th>\n",
       "      <td>31</td>\n",
       "      <td>44</td>\n",
       "      <td>52</td>\n",
       "      <td>54</td>\n",
       "      <td>73</td>\n",
       "    </tr>\n",
       "    <tr>\n",
       "      <th>1993</th>\n",
       "      <td>1</td>\n",
       "      <td>4</td>\n",
       "      <td>39</td>\n",
       "      <td>54</td>\n",
       "      <td>79</td>\n",
       "    </tr>\n",
       "    <tr>\n",
       "      <th>1993</th>\n",
       "      <td>6</td>\n",
       "      <td>22</td>\n",
       "      <td>65</td>\n",
       "      <td>78</td>\n",
       "      <td>79</td>\n",
       "    </tr>\n",
       "    <tr>\n",
       "      <th>1993</th>\n",
       "      <td>7</td>\n",
       "      <td>32</td>\n",
       "      <td>54</td>\n",
       "      <td>60</td>\n",
       "      <td>78</td>\n",
       "    </tr>\n",
       "    <tr>\n",
       "      <th>1993</th>\n",
       "      <td>32</td>\n",
       "      <td>49</td>\n",
       "      <td>53</td>\n",
       "      <td>78</td>\n",
       "      <td>86</td>\n",
       "    </tr>\n",
       "  </tbody>\n",
       "</table>\n",
       "<p>1560 rows × 5 columns</p>\n",
       "</div>"
      ],
      "text/plain": [
       "       1   2   3   4   5\n",
       "Év                      \n",
       "2023  18  42  44  48  86\n",
       "2023  25  36  38  51  89\n",
       "2023  12  37  50  74  77\n",
       "2023  24  27  50  54  71\n",
       "2023  29  35  36  48  83\n",
       "...   ..  ..  ..  ..  ..\n",
       "1993  31  44  52  54  73\n",
       "1993   1   4  39  54  79\n",
       "1993   6  22  65  78  79\n",
       "1993   7  32  54  60  78\n",
       "1993  32  49  53  78  86\n",
       "\n",
       "[1560 rows x 5 columns]"
      ]
     },
     "execution_count": 74,
     "metadata": {},
     "output_type": "execute_result"
    }
   ],
   "source": [
    "df"
   ]
  },
  {
   "cell_type": "code",
   "execution_count": null,
   "id": "0e07d553",
   "metadata": {},
   "outputs": [],
   "source": []
  },
  {
   "cell_type": "code",
   "execution_count": null,
   "id": "91914282",
   "metadata": {},
   "outputs": [],
   "source": []
  },
  {
   "cell_type": "code",
   "execution_count": null,
   "id": "311cdea5",
   "metadata": {},
   "outputs": [],
   "source": []
  },
  {
   "cell_type": "code",
   "execution_count": null,
   "id": "602138cc",
   "metadata": {},
   "outputs": [],
   "source": []
  },
  {
   "cell_type": "code",
   "execution_count": 54,
   "id": "39ac672c",
   "metadata": {
    "ExecuteTime": {
     "end_time": "2023-07-05T15:20:40.206517Z",
     "start_time": "2023-07-05T15:20:40.197543Z"
    }
   },
   "outputs": [
    {
     "name": "stdout",
     "output_type": "stream",
     "text": [
      " minimum value 1, maximum value 63 column 1\n",
      " minimum value 2, maximum value 79 column 2\n",
      " minimum value 8, maximum value 84 column 3\n",
      " minimum value 15, maximum value 89 column 4\n",
      " minimum value 29, maximum value 90 column 5\n"
     ]
    }
   ],
   "source": [
    "chance = lm.minMaxValuePrint(df.values, columns=5)"
   ]
  },
  {
   "cell_type": "code",
   "execution_count": 56,
   "id": "ba012cac",
   "metadata": {
    "ExecuteTime": {
     "end_time": "2023-07-05T15:22:08.769943Z",
     "start_time": "2023-07-05T15:22:08.757975Z"
    },
    "code_folding": []
   },
   "outputs": [
    {
     "name": "stdout",
     "output_type": "stream",
     "text": [
      "Legnagyobb átfedés:\n",
      "{8, 9, 10, 11, 12, 13, 14, 15, 16, 17, 18, 19, 20, 21, 22, 23, 24, 25, 26, 27, 28, 29, 30, 31, 32, 33, 34, 35, 36, 37, 38, 39, 40, 41, 42, 43, 44, 45, 46, 47, 48, 49, 50, 51, 52, 53, 54, 55, 56, 57, 58, 59, 60, 61, 62, 63, 64, 65, 66, 67, 68, 69, 70, 71, 72, 73, 74, 75, 76, 77, 78, 79}\n"
     ]
    }
   ],
   "source": [
    "def find_largest_overlap(ranges):\n",
    "    largest_overlap = set()\n",
    "    for i in range(len(ranges)):\n",
    "        for j in range(i+1, len(ranges)):\n",
    "            overlap = set(range(ranges[i][0], ranges[i][1]+1)) & set(range(ranges[j][0], ranges[j][1]+1))\n",
    "            if len(overlap) > len(largest_overlap):\n",
    "                largest_overlap = overlap\n",
    "\n",
    "    return largest_overlap\n",
    "\n",
    "# Számsorok\n",
    "number_ranges = [\n",
    "    (1, 63),\n",
    "    (2, 79),\n",
    "    (8, 84),\n",
    "    (15, 89),\n",
    "    (29, 90)\n",
    "]\n",
    "\n",
    "# Legnagyobb átfedés meghatározása\n",
    "overlap = find_largest_overlap(number_ranges)\n",
    "\n",
    "print(\"Legnagyobb átfedés:\")\n",
    "print(overlap)"
   ]
  },
  {
   "cell_type": "code",
   "execution_count": 55,
   "id": "73363202",
   "metadata": {
    "ExecuteTime": {
     "end_time": "2023-07-05T15:20:41.329674Z",
     "start_time": "2023-07-05T15:20:41.319703Z"
    }
   },
   "outputs": [
    {
     "data": {
      "text/plain": [
       "[63, 78, 77, 75, 62]"
      ]
     },
     "execution_count": 55,
     "metadata": {},
     "output_type": "execute_result"
    }
   ],
   "source": [
    "chance"
   ]
  },
  {
   "cell_type": "code",
   "execution_count": 37,
   "id": "756ea8b3",
   "metadata": {
    "ExecuteTime": {
     "end_time": "2023-07-05T14:37:00.371751Z",
     "start_time": "2023-07-05T14:37:00.357790Z"
    }
   },
   "outputs": [],
   "source": [
    "t = 1/62 * 1/63 * 1/75 * 1/77 * 1/78\n",
    "t = 1/62 * 1/63 * 1/75 * 1/77 * 1/78"
   ]
  },
  {
   "cell_type": "code",
   "execution_count": 50,
   "id": "2b76917c",
   "metadata": {
    "ExecuteTime": {
     "end_time": "2023-07-05T15:10:26.061791Z",
     "start_time": "2023-07-05T15:10:26.050820Z"
    }
   },
   "outputs": [
    {
     "data": {
      "text/plain": [
       "1759457700.0"
      ]
     },
     "execution_count": 50,
     "metadata": {},
     "output_type": "execute_result"
    }
   ],
   "source": [
    "1/t"
   ]
  },
  {
   "cell_type": "code",
   "execution_count": 38,
   "id": "e7f6054a",
   "metadata": {
    "ExecuteTime": {
     "end_time": "2023-07-05T14:37:03.357348Z",
     "start_time": "2023-07-05T14:37:03.338399Z"
    }
   },
   "outputs": [
    {
     "name": "stdout",
     "output_type": "stream",
     "text": [
      "0.0000000005683569\n"
     ]
    }
   ],
   "source": [
    "print('{:.16f}'.format(t))"
   ]
  },
  {
   "cell_type": "code",
   "execution_count": 49,
   "id": "6747190d",
   "metadata": {
    "ExecuteTime": {
     "end_time": "2023-07-05T14:54:13.381208Z",
     "start_time": "2023-07-05T14:54:13.364278Z"
    }
   },
   "outputs": [
    {
     "ename": "SyntaxError",
     "evalue": "invalid syntax (992583946.py, line 1)",
     "output_type": "error",
     "traceback": [
      "\u001b[1;36m  Cell \u001b[1;32mIn [49], line 1\u001b[1;36m\u001b[0m\n\u001b[1;33m    5!\u001b[0m\n\u001b[1;37m     ^\u001b[0m\n\u001b[1;31mSyntaxError\u001b[0m\u001b[1;31m:\u001b[0m invalid syntax\n"
     ]
    }
   ],
   "source": [
    "5!"
   ]
  },
  {
   "cell_type": "code",
   "execution_count": 53,
   "id": "85a2837d",
   "metadata": {
    "ExecuteTime": {
     "end_time": "2023-07-05T15:17:43.950178Z",
     "start_time": "2023-07-05T15:17:43.936190Z"
    }
   },
   "outputs": [
    {
     "name": "stdout",
     "output_type": "stream",
     "text": [
      "0.000000000568356944780078967022\n"
     ]
    }
   ],
   "source": [
    "def calculate_probabilities(ranges):\n",
    "    # Számsorok\n",
    "    numbers = []\n",
    "    for r in ranges:\n",
    "        numbers.append(list(range(r[0], r[1]+1)))\n",
    "\n",
    "    # Lehetséges kombinációk száma\n",
    "    total_combinations = 1\n",
    "    for nums in numbers:\n",
    "        total_combinations *= len(nums)\n",
    "\n",
    "    # Átfedés kezelése\n",
    "    for i in range(len(ranges)):\n",
    "        overlap = set(numbers[i]) & set(numbers[i-1])\n",
    "        if overlap:\n",
    "            total_combinations -= 1\n",
    "\n",
    "    # Esély kiszámítása\n",
    "    probability = 1 / total_combinations\n",
    "\n",
    "    return probability\n",
    "\n",
    "# Számsorok\n",
    "number_ranges = [\n",
    "    (1, 63),\n",
    "    (2, 79),\n",
    "    (8, 84),\n",
    "    (15, 89),\n",
    "    (29, 90)\n",
    "]\n",
    "\n",
    "# Esély kiszámítása\n",
    "result = calculate_probabilities(number_ranges)\n",
    "print('{:.30f}'.format(result))"
   ]
  },
  {
   "cell_type": "code",
   "execution_count": null,
   "id": "3c4ff410",
   "metadata": {},
   "outputs": [],
   "source": []
  }
 ],
 "metadata": {
  "kernelspec": {
   "display_name": "Python 3 (ipykernel)",
   "language": "python",
   "name": "python3"
  },
  "language_info": {
   "codemirror_mode": {
    "name": "ipython",
    "version": 3
   },
   "file_extension": ".py",
   "mimetype": "text/x-python",
   "name": "python",
   "nbconvert_exporter": "python",
   "pygments_lexer": "ipython3",
   "version": "3.10.7"
  }
 },
 "nbformat": 4,
 "nbformat_minor": 5
}
