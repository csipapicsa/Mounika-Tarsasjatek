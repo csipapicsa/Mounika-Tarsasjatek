{
 "cells": [
  {
   "cell_type": "code",
   "execution_count": 1,
   "id": "39fe9eea-dd34-4269-a172-8d181846cefa",
   "metadata": {},
   "outputs": [],
   "source": [
    "import tensorflow as tf"
   ]
  },
  {
   "cell_type": "code",
   "execution_count": 50,
   "id": "d2ce819e-d72a-40a5-96ec-3c0560a7a16e",
   "metadata": {},
   "outputs": [],
   "source": [
    "import numpy as np\n",
    "import pandas as pd\n",
    "import matplotlib.pyplot as plt"
   ]
  },
  {
   "cell_type": "code",
   "execution_count": 6,
   "id": "9b068002-c9a9-40c3-a5ec-02d9f6302b0d",
   "metadata": {},
   "outputs": [],
   "source": [
    "def getLotto(link):\n",
    "    df = pd.read_excel(link, index_col=0)\n",
    "    df.drop(columns=['Hét', 'Húzásdátum', '6 találat (db)', '6 találat (Ft)',\n",
    "       '5+1 találat (db)', '5+1 találat (Ft)', '5 találat (db)',\n",
    "       '5 találat (Ft)', '4 találat (db)', '4 találat (Ft)', '3 találat (db)',\n",
    "       '3 találat (Ft)', \"Unnamed: 19\"], inplace=True)\n",
    "    \n",
    "    df.rename(columns={\"Számok\": \"1\", \"Unnamed: 14\": \"2\", \"Unnamed: 15\": \"3\", 'Unnamed: 16':\"4\", \"Unnamed: 17\":\"5\", \"Unnamed: 18\": \"6\"}, inplace=True)\n",
    "    column_values = df[[\"1\", \"2\", \"3\", \"4\", \"5\", \"6\"]].values\n",
    "    return df, column_values"
   ]
  },
  {
   "cell_type": "code",
   "execution_count": 52,
   "id": "2d3de0f6-2be1-4d14-bb89-19d9d39b1ca1",
   "metadata": {},
   "outputs": [],
   "source": [
    "link = \"https://bet.szerencsejatek.hu/cmsfiles/hatos.xls\"\n",
    "df, dfRaw = getLotto(link)\n",
    "Years = 4*52"
   ]
  },
  {
   "cell_type": "code",
   "execution_count": 53,
   "id": "194f537f-9fdd-4c77-baa0-a193fb445196",
   "metadata": {},
   "outputs": [],
   "source": [
    "dfRaw = dfRaw[0:Years]"
   ]
  },
  {
   "cell_type": "code",
   "execution_count": 54,
   "id": "80a58a3f-3a75-4015-bd74-cc82911de99e",
   "metadata": {},
   "outputs": [],
   "source": [
    "one_hot_encoded = tf.one_hot(dfRaw, depth=45)"
   ]
  },
  {
   "cell_type": "code",
   "execution_count": 34,
   "id": "4659d5d5-fba6-4715-a21c-c4c5aa767794",
   "metadata": {},
   "outputs": [],
   "source": [
    "#merged_array = tf.reduce_sum(one_hot_encoded, axis=0)"
   ]
  },
  {
   "cell_type": "code",
   "execution_count": 55,
   "id": "30f34659-fd50-4dc4-873a-355b347d9fe8",
   "metadata": {},
   "outputs": [],
   "source": [
    "transformed_array = tf.reduce_max(one_hot_encoded, axis=1)"
   ]
  },
  {
   "cell_type": "code",
   "execution_count": 56,
   "id": "9f710379-f32b-4f66-a2d1-c4b72c1b1fdb",
   "metadata": {},
   "outputs": [
    {
     "data": {
      "text/plain": [
       "<tf.Tensor: shape=(1, 6), dtype=float32, numpy=array([[0., 0., 0., 0., 0., 0.]], dtype=float32)>"
      ]
     },
     "execution_count": 56,
     "metadata": {},
     "output_type": "execute_result"
    }
   ],
   "source": [
    "transformed_array[1+14:1+14+1,0:6]"
   ]
  },
  {
   "cell_type": "code",
   "execution_count": 57,
   "id": "7b14554d-ab0d-4de5-9b95-6c2873d8b17d",
   "metadata": {},
   "outputs": [
    {
     "data": {
      "text/plain": [
       "208"
      ]
     },
     "execution_count": 57,
     "metadata": {},
     "output_type": "execute_result"
    }
   ],
   "source": [
    "transformed_array.shape[0]"
   ]
  },
  {
   "cell_type": "code",
   "execution_count": null,
   "id": "07902855-09eb-4a1d-ac31-3904854f5b3d",
   "metadata": {},
   "outputs": [],
   "source": []
  },
  {
   "cell_type": "code",
   "execution_count": 58,
   "id": "412d7686-1585-43ab-9bb0-b328369ed4e4",
   "metadata": {},
   "outputs": [],
   "source": [
    "window_length = 14\n",
    "# Balls counts\n",
    "number_of_features = 6\n",
    "number_of_rows = transformed_array.shape[0]"
   ]
  },
  {
   "cell_type": "code",
   "execution_count": 59,
   "id": "cb39504d-168a-4ded-8fe7-66b4d7f8a495",
   "metadata": {},
   "outputs": [],
   "source": [
    "X = np.empty([number_of_rows - window_length, window_length, 45], dtype=float)\n",
    "y = np.empty([number_of_rows - window_length, 45], dtype=float)\n",
    "\n",
    "for i in range(0, number_of_rows - window_length):\n",
    "    #X[i] = transformed_df.iloc[i : i + window_length, 0 : number_of_features].values\n",
    "    #y[i] = transformed_df.iloc[i + window_length : i + window_length + 1, 0 : number_of_features].values\n",
    "    X[i] = transformed_array[i : i + window_length, 0 : 45]\n",
    "    y[i] = transformed_array[i + window_length : i + window_length + 1, 0 : 45]"
   ]
  },
  {
   "cell_type": "code",
   "execution_count": 60,
   "id": "484e4321-165f-4169-8ec7-71ab1d0120a9",
   "metadata": {},
   "outputs": [],
   "source": [
    "from tensorflow import keras\n",
    "from tensorflow.keras.models import Sequential\n",
    "from tensorflow.keras.layers import Dense, LSTM, Bidirectional, Dropout\n",
    "from tensorflow.keras.optimizers import Adam"
   ]
  },
  {
   "cell_type": "code",
   "execution_count": 79,
   "id": "cee894c5-6c07-4b7d-a4ac-139204e38b40",
   "metadata": {},
   "outputs": [],
   "source": [
    "physical_devices = tf.config.list_physical_devices('GPU')"
   ]
  },
  {
   "cell_type": "code",
   "execution_count": 81,
   "id": "0706fdfc-485d-4c83-a7d1-ec5a3fb80478",
   "metadata": {},
   "outputs": [
    {
     "ename": "IndexError",
     "evalue": "list index out of range",
     "output_type": "error",
     "traceback": [
      "\u001b[1;31m---------------------------------------------------------------------------\u001b[0m",
      "\u001b[1;31mIndexError\u001b[0m                                Traceback (most recent call last)",
      "Cell \u001b[1;32mIn[81], line 1\u001b[0m\n\u001b[1;32m----> 1\u001b[0m tf\u001b[38;5;241m.\u001b[39mconfig\u001b[38;5;241m.\u001b[39mexperimental\u001b[38;5;241m.\u001b[39mset_memory_growth(\u001b[43mphysical_devices\u001b[49m\u001b[43m[\u001b[49m\u001b[38;5;241;43m0\u001b[39;49m\u001b[43m]\u001b[49m, \u001b[38;5;28;01mTrue\u001b[39;00m)\n",
      "\u001b[1;31mIndexError\u001b[0m: list index out of range"
     ]
    }
   ],
   "source": [
    "tf.config.experimental.set_memory_growth(physical_devices[0], True)"
   ]
  },
  {
   "cell_type": "code",
   "execution_count": 77,
   "id": "fe1d098b-dd28-4f9c-b15b-285284e79658",
   "metadata": {},
   "outputs": [
    {
     "name": "stdout",
     "output_type": "stream",
     "text": [
      "Epoch 1/100\n",
      "2/2 - 12s - loss: 0.6932 - accuracy: 0.0155 - 12s/epoch - 6s/step\n",
      "Epoch 2/100\n",
      "2/2 - 0s - loss: 0.6895 - accuracy: 0.0103 - 293ms/epoch - 146ms/step\n",
      "Epoch 3/100\n",
      "2/2 - 0s - loss: 0.6857 - accuracy: 0.0000e+00 - 299ms/epoch - 150ms/step\n",
      "Epoch 4/100\n",
      "2/2 - 0s - loss: 0.6816 - accuracy: 0.0000e+00 - 277ms/epoch - 139ms/step\n",
      "Epoch 5/100\n",
      "2/2 - 0s - loss: 0.6768 - accuracy: 0.0052 - 290ms/epoch - 145ms/step\n",
      "Epoch 6/100\n",
      "2/2 - 0s - loss: 0.6712 - accuracy: 0.0052 - 298ms/epoch - 149ms/step\n",
      "Epoch 7/100\n",
      "2/2 - 0s - loss: 0.6644 - accuracy: 0.0000e+00 - 287ms/epoch - 144ms/step\n",
      "Epoch 8/100\n",
      "2/2 - 0s - loss: 0.6560 - accuracy: 0.0000e+00 - 290ms/epoch - 145ms/step\n",
      "Epoch 9/100\n",
      "2/2 - 0s - loss: 0.6457 - accuracy: 0.0000e+00 - 295ms/epoch - 148ms/step\n",
      "Epoch 10/100\n",
      "2/2 - 0s - loss: 0.6325 - accuracy: 0.0000e+00 - 310ms/epoch - 155ms/step\n",
      "Epoch 11/100\n",
      "2/2 - 0s - loss: 0.6162 - accuracy: 0.0000e+00 - 303ms/epoch - 152ms/step\n",
      "Epoch 12/100\n",
      "2/2 - 0s - loss: 0.5963 - accuracy: 0.0000e+00 - 287ms/epoch - 143ms/step\n",
      "Epoch 13/100\n",
      "2/2 - 0s - loss: 0.5718 - accuracy: 0.0000e+00 - 290ms/epoch - 145ms/step\n",
      "Epoch 14/100\n",
      "2/2 - 0s - loss: 0.5442 - accuracy: 0.0000e+00 - 316ms/epoch - 158ms/step\n",
      "Epoch 15/100\n",
      "2/2 - 0s - loss: 0.5153 - accuracy: 0.0000e+00 - 293ms/epoch - 146ms/step\n",
      "Epoch 16/100\n",
      "2/2 - 0s - loss: 0.4875 - accuracy: 0.0000e+00 - 301ms/epoch - 150ms/step\n",
      "Epoch 17/100\n",
      "2/2 - 0s - loss: 0.4633 - accuracy: 0.0000e+00 - 302ms/epoch - 151ms/step\n",
      "Epoch 18/100\n",
      "2/2 - 0s - loss: 0.4442 - accuracy: 0.0000e+00 - 295ms/epoch - 147ms/step\n",
      "Epoch 19/100\n",
      "2/2 - 0s - loss: 0.4294 - accuracy: 0.0000e+00 - 289ms/epoch - 145ms/step\n",
      "Epoch 20/100\n",
      "2/2 - 0s - loss: 0.4186 - accuracy: 0.0103 - 306ms/epoch - 153ms/step\n",
      "Epoch 21/100\n",
      "2/2 - 0s - loss: 0.4104 - accuracy: 0.0103 - 301ms/epoch - 150ms/step\n",
      "Epoch 22/100\n",
      "2/2 - 0s - loss: 0.4041 - accuracy: 0.0206 - 290ms/epoch - 145ms/step\n",
      "Epoch 23/100\n",
      "2/2 - 0s - loss: 0.3992 - accuracy: 0.0412 - 290ms/epoch - 145ms/step\n",
      "Epoch 24/100\n",
      "2/2 - 0s - loss: 0.3952 - accuracy: 0.0361 - 297ms/epoch - 149ms/step\n",
      "Epoch 25/100\n",
      "2/2 - 0s - loss: 0.3919 - accuracy: 0.0206 - 291ms/epoch - 145ms/step\n",
      "Epoch 26/100\n",
      "2/2 - 0s - loss: 0.3895 - accuracy: 0.0103 - 296ms/epoch - 148ms/step\n",
      "Epoch 27/100\n",
      "2/2 - 0s - loss: 0.3876 - accuracy: 0.0103 - 292ms/epoch - 146ms/step\n",
      "Epoch 28/100\n",
      "2/2 - 0s - loss: 0.3860 - accuracy: 0.0103 - 297ms/epoch - 148ms/step\n",
      "Epoch 29/100\n",
      "2/2 - 0s - loss: 0.3848 - accuracy: 0.0103 - 292ms/epoch - 146ms/step\n",
      "Epoch 30/100\n",
      "2/2 - 0s - loss: 0.3839 - accuracy: 0.0103 - 298ms/epoch - 149ms/step\n",
      "Epoch 31/100\n",
      "2/2 - 0s - loss: 0.3833 - accuracy: 0.0000e+00 - 293ms/epoch - 146ms/step\n",
      "Epoch 32/100\n",
      "2/2 - 0s - loss: 0.3829 - accuracy: 0.0000e+00 - 295ms/epoch - 148ms/step\n",
      "Epoch 33/100\n",
      "2/2 - 0s - loss: 0.3826 - accuracy: 0.0000e+00 - 303ms/epoch - 151ms/step\n",
      "Epoch 34/100\n",
      "2/2 - 0s - loss: 0.3824 - accuracy: 0.0000e+00 - 299ms/epoch - 150ms/step\n",
      "Epoch 35/100\n",
      "2/2 - 0s - loss: 0.3823 - accuracy: 0.0000e+00 - 306ms/epoch - 153ms/step\n",
      "Epoch 36/100\n",
      "2/2 - 0s - loss: 0.3821 - accuracy: 0.0000e+00 - 293ms/epoch - 147ms/step\n",
      "Epoch 37/100\n",
      "2/2 - 0s - loss: 0.3821 - accuracy: 0.0000e+00 - 306ms/epoch - 153ms/step\n",
      "Epoch 38/100\n",
      "2/2 - 0s - loss: 0.3820 - accuracy: 0.0000e+00 - 303ms/epoch - 152ms/step\n",
      "Epoch 39/100\n",
      "2/2 - 0s - loss: 0.3819 - accuracy: 0.0000e+00 - 294ms/epoch - 147ms/step\n",
      "Epoch 40/100\n",
      "2/2 - 0s - loss: 0.3819 - accuracy: 0.0000e+00 - 309ms/epoch - 154ms/step\n",
      "Epoch 41/100\n",
      "2/2 - 0s - loss: 0.3819 - accuracy: 0.0000e+00 - 305ms/epoch - 153ms/step\n",
      "Epoch 42/100\n",
      "2/2 - 0s - loss: 0.3818 - accuracy: 0.0000e+00 - 289ms/epoch - 145ms/step\n",
      "Epoch 43/100\n",
      "2/2 - 0s - loss: 0.3818 - accuracy: 0.0000e+00 - 297ms/epoch - 149ms/step\n",
      "Epoch 44/100\n",
      "2/2 - 0s - loss: 0.3818 - accuracy: 0.0000e+00 - 295ms/epoch - 148ms/step\n",
      "Epoch 45/100\n",
      "2/2 - 0s - loss: 0.3818 - accuracy: 0.0000e+00 - 295ms/epoch - 148ms/step\n",
      "Epoch 46/100\n",
      "2/2 - 0s - loss: 0.3816 - accuracy: 0.0000e+00 - 306ms/epoch - 153ms/step\n",
      "Epoch 47/100\n",
      "2/2 - 0s - loss: 0.3817 - accuracy: 0.0000e+00 - 298ms/epoch - 149ms/step\n",
      "Epoch 48/100\n",
      "2/2 - 0s - loss: 0.3816 - accuracy: 0.0000e+00 - 296ms/epoch - 148ms/step\n",
      "Epoch 49/100\n",
      "2/2 - 0s - loss: 0.3816 - accuracy: 0.0000e+00 - 298ms/epoch - 149ms/step\n",
      "Epoch 50/100\n",
      "2/2 - 0s - loss: 0.3816 - accuracy: 0.0000e+00 - 301ms/epoch - 151ms/step\n",
      "Epoch 51/100\n",
      "2/2 - 0s - loss: 0.3815 - accuracy: 0.0000e+00 - 297ms/epoch - 148ms/step\n",
      "Epoch 52/100\n",
      "2/2 - 0s - loss: 0.3816 - accuracy: 0.0000e+00 - 304ms/epoch - 152ms/step\n",
      "Epoch 53/100\n",
      "2/2 - 0s - loss: 0.3815 - accuracy: 0.0000e+00 - 297ms/epoch - 148ms/step\n",
      "Epoch 54/100\n",
      "2/2 - 0s - loss: 0.3815 - accuracy: 0.0000e+00 - 291ms/epoch - 145ms/step\n",
      "Epoch 55/100\n",
      "2/2 - 0s - loss: 0.3814 - accuracy: 0.0000e+00 - 301ms/epoch - 150ms/step\n",
      "Epoch 56/100\n",
      "2/2 - 0s - loss: 0.3815 - accuracy: 0.0000e+00 - 298ms/epoch - 149ms/step\n",
      "Epoch 57/100\n",
      "2/2 - 0s - loss: 0.3814 - accuracy: 0.0000e+00 - 287ms/epoch - 144ms/step\n",
      "Epoch 58/100\n",
      "2/2 - 0s - loss: 0.3814 - accuracy: 0.0000e+00 - 284ms/epoch - 142ms/step\n",
      "Epoch 59/100\n",
      "2/2 - 0s - loss: 0.3815 - accuracy: 0.0000e+00 - 287ms/epoch - 144ms/step\n",
      "Epoch 60/100\n",
      "2/2 - 0s - loss: 0.3814 - accuracy: 0.0000e+00 - 295ms/epoch - 148ms/step\n",
      "Epoch 61/100\n",
      "2/2 - 0s - loss: 0.3814 - accuracy: 0.0000e+00 - 275ms/epoch - 137ms/step\n",
      "Epoch 62/100\n",
      "2/2 - 0s - loss: 0.3814 - accuracy: 0.0000e+00 - 301ms/epoch - 151ms/step\n",
      "Epoch 63/100\n",
      "2/2 - 0s - loss: 0.3814 - accuracy: 0.0000e+00 - 295ms/epoch - 147ms/step\n",
      "Epoch 64/100\n",
      "2/2 - 0s - loss: 0.3814 - accuracy: 0.0000e+00 - 300ms/epoch - 150ms/step\n",
      "Epoch 65/100\n",
      "2/2 - 0s - loss: 0.3814 - accuracy: 0.0000e+00 - 282ms/epoch - 141ms/step\n",
      "Epoch 66/100\n",
      "2/2 - 0s - loss: 0.3814 - accuracy: 0.0000e+00 - 296ms/epoch - 148ms/step\n",
      "Epoch 67/100\n",
      "2/2 - 0s - loss: 0.3814 - accuracy: 0.0000e+00 - 291ms/epoch - 145ms/step\n",
      "Epoch 68/100\n",
      "2/2 - 0s - loss: 0.3814 - accuracy: 0.0000e+00 - 284ms/epoch - 142ms/step\n",
      "Epoch 69/100\n",
      "2/2 - 0s - loss: 0.3813 - accuracy: 0.0000e+00 - 291ms/epoch - 145ms/step\n",
      "Epoch 70/100\n",
      "2/2 - 0s - loss: 0.3814 - accuracy: 0.0000e+00 - 294ms/epoch - 147ms/step\n",
      "Epoch 71/100\n",
      "2/2 - 0s - loss: 0.3813 - accuracy: 0.0000e+00 - 291ms/epoch - 146ms/step\n",
      "Epoch 72/100\n",
      "2/2 - 0s - loss: 0.3814 - accuracy: 0.0000e+00 - 296ms/epoch - 148ms/step\n",
      "Epoch 73/100\n",
      "2/2 - 0s - loss: 0.3813 - accuracy: 0.0000e+00 - 290ms/epoch - 145ms/step\n",
      "Epoch 74/100\n",
      "2/2 - 0s - loss: 0.3813 - accuracy: 0.0000e+00 - 294ms/epoch - 147ms/step\n",
      "Epoch 75/100\n",
      "2/2 - 0s - loss: 0.3813 - accuracy: 0.0000e+00 - 277ms/epoch - 139ms/step\n",
      "Epoch 76/100\n",
      "2/2 - 0s - loss: 0.3812 - accuracy: 0.0000e+00 - 297ms/epoch - 149ms/step\n",
      "Epoch 77/100\n",
      "2/2 - 0s - loss: 0.3813 - accuracy: 0.0000e+00 - 290ms/epoch - 145ms/step\n",
      "Epoch 78/100\n",
      "2/2 - 0s - loss: 0.3813 - accuracy: 0.0000e+00 - 294ms/epoch - 147ms/step\n",
      "Epoch 79/100\n",
      "2/2 - 0s - loss: 0.3812 - accuracy: 0.0000e+00 - 293ms/epoch - 146ms/step\n",
      "Epoch 80/100\n",
      "2/2 - 0s - loss: 0.3813 - accuracy: 0.0000e+00 - 293ms/epoch - 146ms/step\n",
      "Epoch 81/100\n",
      "2/2 - 0s - loss: 0.3813 - accuracy: 0.0000e+00 - 294ms/epoch - 147ms/step\n",
      "Epoch 82/100\n",
      "2/2 - 0s - loss: 0.3813 - accuracy: 0.0000e+00 - 301ms/epoch - 151ms/step\n",
      "Epoch 83/100\n",
      "2/2 - 0s - loss: 0.3813 - accuracy: 0.0000e+00 - 283ms/epoch - 142ms/step\n",
      "Epoch 84/100\n",
      "2/2 - 0s - loss: 0.3812 - accuracy: 0.0000e+00 - 284ms/epoch - 142ms/step\n",
      "Epoch 85/100\n",
      "2/2 - 0s - loss: 0.3812 - accuracy: 0.0000e+00 - 292ms/epoch - 146ms/step\n",
      "Epoch 86/100\n",
      "2/2 - 0s - loss: 0.3812 - accuracy: 0.0000e+00 - 294ms/epoch - 147ms/step\n",
      "Epoch 87/100\n",
      "2/2 - 0s - loss: 0.3813 - accuracy: 0.0000e+00 - 297ms/epoch - 148ms/step\n",
      "Epoch 88/100\n",
      "2/2 - 0s - loss: 0.3813 - accuracy: 0.0000e+00 - 296ms/epoch - 148ms/step\n",
      "Epoch 89/100\n",
      "2/2 - 0s - loss: 0.3812 - accuracy: 0.0000e+00 - 304ms/epoch - 152ms/step\n",
      "Epoch 90/100\n",
      "2/2 - 0s - loss: 0.3813 - accuracy: 0.0000e+00 - 293ms/epoch - 146ms/step\n",
      "Epoch 91/100\n",
      "2/2 - 0s - loss: 0.3812 - accuracy: 0.0000e+00 - 292ms/epoch - 146ms/step\n",
      "Epoch 92/100\n",
      "2/2 - 0s - loss: 0.3812 - accuracy: 0.0000e+00 - 299ms/epoch - 149ms/step\n",
      "Epoch 93/100\n",
      "2/2 - 0s - loss: 0.3812 - accuracy: 0.0000e+00 - 275ms/epoch - 137ms/step\n",
      "Epoch 94/100\n",
      "2/2 - 0s - loss: 0.3813 - accuracy: 0.0000e+00 - 285ms/epoch - 143ms/step\n",
      "Epoch 95/100\n",
      "2/2 - 0s - loss: 0.3812 - accuracy: 0.0000e+00 - 298ms/epoch - 149ms/step\n",
      "Epoch 96/100\n",
      "2/2 - 0s - loss: 0.3812 - accuracy: 0.0000e+00 - 288ms/epoch - 144ms/step\n",
      "Epoch 97/100\n",
      "2/2 - 0s - loss: 0.3812 - accuracy: 0.0000e+00 - 285ms/epoch - 143ms/step\n",
      "Epoch 98/100\n",
      "2/2 - 0s - loss: 0.3812 - accuracy: 0.0000e+00 - 293ms/epoch - 146ms/step\n",
      "Epoch 99/100\n",
      "2/2 - 0s - loss: 0.3812 - accuracy: 0.0000e+00 - 295ms/epoch - 147ms/step\n",
      "Epoch 100/100\n",
      "2/2 - 0s - loss: 0.3811 - accuracy: 0.0000e+00 - 288ms/epoch - 144ms/step\n"
     ]
    }
   ],
   "source": [
    "BATCH_SIZE = 100 # 100\n",
    "biDirectionalNeurons = 45*3 # \n",
    "EPOCHS = 100 # 100\n",
    "\n",
    "model = Sequential()\n",
    "model.add(Bidirectional(LSTM(biDirectionalNeurons, input_shape = (window_length, 45), return_sequences = True)))\n",
    "model.add(Dropout(0.2))\n",
    "model.add(Bidirectional(LSTM(biDirectionalNeurons, input_shape = (window_length, 45), return_sequences = True)))\n",
    "model.add(Dropout(0.2))\n",
    "model.add(Bidirectional(LSTM(biDirectionalNeurons, input_shape = (window_length, 45), return_sequences = True)))\n",
    "model.add(Bidirectional(LSTM(biDirectionalNeurons, input_shape = (window_length, 45), return_sequences = False)))\n",
    "#model.add(Dense(90))\n",
    "model.add(Dense(45,activation='sigmoid'))\n",
    "\n",
    "model.compile(optimizer=Adam(learning_rate=0.0001), loss ='binary_crossentropy', metrics=['accuracy'])\n",
    "\n",
    "history = model.fit(x=X, y=y, batch_size=BATCH_SIZE, epochs=EPOCHS, verbose=2)"
   ]
  },
  {
   "cell_type": "code",
   "execution_count": 78,
   "id": "4a66e002-9f28-4ed7-9c56-f9ecf1bc252d",
   "metadata": {},
   "outputs": [
    {
     "name": "stdout",
     "output_type": "stream",
     "text": [
      "1/1 [==============================] - 3s 3s/step\n"
     ]
    },
    {
     "data": {
      "text/plain": [
       "array([[0.00563762, 0.18198103, 0.1758788 , 0.12801751, 0.1268681 ,\n",
       "        0.13170543, 0.14972953, 0.12211193, 0.10759772, 0.11481764,\n",
       "        0.13651915, 0.10866927, 0.14319772, 0.115985  , 0.14787342,\n",
       "        0.11352708, 0.16507083, 0.16807319, 0.20593141, 0.16226135,\n",
       "        0.07764019, 0.07752057, 0.12357727, 0.10389213, 0.13353352,\n",
       "        0.13240457, 0.1432844 , 0.101959  , 0.13953237, 0.10933983,\n",
       "        0.10107583, 0.11305631, 0.1657147 , 0.1534816 , 0.1350308 ,\n",
       "        0.12527038, 0.12598515, 0.16021429, 0.11848096, 0.10410724,\n",
       "        0.13513117, 0.11765239, 0.16023506, 0.14057429, 0.14754763]],\n",
       "      dtype=float32)"
      ]
     },
     "execution_count": 78,
     "metadata": {},
     "output_type": "execute_result"
    }
   ],
   "source": [
    "X_sample = X[0].reshape(1, window_length, 45)\n",
    "model.predict(X_sample)"
   ]
  },
  {
   "cell_type": "code",
   "execution_count": 63,
   "id": "74f9cb3e-8d0e-4ee4-a106-6d2d5fe73d5e",
   "metadata": {},
   "outputs": [
    {
     "data": {
      "text/plain": [
       "array([[0., 0., 0., 0., 0., 0., 0., 1., 0., 0., 0., 1., 0., 0., 0., 1.,\n",
       "        0., 0., 1., 1., 0., 0., 0., 0., 0., 0., 0., 0., 0., 0., 0., 0.,\n",
       "        1., 0., 0., 0., 0., 0., 0., 0., 0., 0., 0., 0., 0.],\n",
       "       [0., 0., 0., 0., 0., 0., 0., 0., 0., 0., 1., 0., 0., 0., 1., 1.,\n",
       "        0., 0., 0., 0., 0., 0., 1., 0., 0., 0., 0., 0., 0., 0., 0., 0.,\n",
       "        1., 0., 0., 0., 1., 0., 0., 0., 0., 0., 0., 0., 0.],\n",
       "       [0., 0., 0., 0., 0., 0., 0., 0., 0., 1., 0., 0., 0., 0., 0., 0.,\n",
       "        0., 0., 0., 1., 0., 0., 0., 1., 0., 0., 0., 0., 1., 0., 0., 0.,\n",
       "        0., 0., 0., 0., 0., 0., 0., 0., 0., 1., 0., 0., 1.],\n",
       "       [0., 1., 0., 0., 0., 0., 0., 1., 0., 0., 0., 0., 0., 0., 1., 0.,\n",
       "        0., 0., 0., 1., 0., 0., 0., 0., 0., 0., 0., 0., 0., 1., 0., 0.,\n",
       "        0., 0., 0., 0., 0., 0., 0., 0., 0., 0., 0., 1., 0.],\n",
       "       [0., 0., 0., 0., 0., 1., 0., 0., 0., 0., 0., 0., 0., 0., 0., 0.,\n",
       "        0., 0., 1., 0., 1., 0., 0., 0., 0., 0., 1., 0., 0., 0., 0., 0.,\n",
       "        0., 0., 0., 1., 0., 0., 0., 0., 0., 0., 0., 1., 0.],\n",
       "       [0., 0., 0., 1., 0., 0., 0., 0., 1., 0., 0., 0., 1., 0., 0., 0.,\n",
       "        0., 0., 0., 0., 0., 0., 0., 0., 0., 0., 1., 0., 0., 0., 0., 0.,\n",
       "        0., 0., 1., 0., 0., 1., 0., 0., 0., 0., 0., 0., 0.],\n",
       "       [0., 0., 1., 0., 0., 0., 0., 0., 0., 0., 0., 0., 0., 0., 0., 0.,\n",
       "        0., 0., 0., 0., 0., 0., 0., 0., 0., 0., 1., 1., 0., 0., 0., 0.,\n",
       "        0., 0., 1., 0., 1., 1., 0., 0., 0., 0., 0., 0., 0.],\n",
       "       [0., 0., 1., 1., 0., 0., 0., 0., 0., 0., 0., 0., 0., 0., 0., 0.,\n",
       "        0., 1., 0., 1., 0., 0., 0., 0., 0., 0., 0., 0., 0., 0., 0., 0.,\n",
       "        0., 0., 0., 0., 1., 0., 1., 0., 0., 0., 0., 0., 0.],\n",
       "       [0., 0., 0., 0., 0., 0., 0., 0., 1., 0., 0., 0., 0., 0., 0., 0.,\n",
       "        0., 0., 0., 0., 1., 0., 0., 0., 0., 1., 0., 0., 1., 0., 0., 0.,\n",
       "        0., 0., 0., 1., 0., 0., 0., 0., 0., 0., 0., 0., 0.],\n",
       "       [0., 0., 0., 0., 0., 0., 0., 0., 0., 0., 0., 1., 0., 0., 1., 0.,\n",
       "        0., 0., 0., 0., 0., 1., 1., 0., 0., 0., 0., 0., 0., 0., 0., 0.,\n",
       "        0., 0., 1., 0., 0., 0., 0., 0., 1., 0., 0., 0., 0.],\n",
       "       [0., 0., 0., 1., 1., 0., 0., 0., 1., 0., 0., 0., 0., 0., 0., 0.,\n",
       "        0., 0., 0., 0., 0., 1., 1., 0., 0., 0., 0., 0., 0., 1., 0., 0.,\n",
       "        0., 0., 0., 0., 0., 0., 0., 0., 0., 0., 0., 0., 0.],\n",
       "       [0., 0., 1., 0., 0., 0., 0., 0., 0., 1., 1., 0., 0., 0., 0., 0.,\n",
       "        0., 0., 0., 1., 0., 0., 1., 0., 0., 0., 1., 0., 0., 0., 0., 0.,\n",
       "        0., 0., 0., 0., 0., 0., 0., 0., 0., 0., 0., 0., 0.],\n",
       "       [0., 0., 0., 0., 0., 0., 0., 0., 0., 0., 1., 0., 0., 1., 0., 1.,\n",
       "        0., 0., 0., 0., 0., 0., 0., 0., 0., 0., 0., 0., 0., 0., 0., 1.,\n",
       "        0., 0., 0., 0., 1., 0., 0., 0., 0., 0., 1., 0., 0.],\n",
       "       [0., 0., 0., 0., 1., 0., 0., 0., 0., 0., 0., 0., 0., 0., 1., 0.,\n",
       "        0., 0., 0., 1., 0., 0., 0., 1., 0., 0., 0., 1., 0., 0., 0., 0.,\n",
       "        0., 0., 0., 0., 0., 0., 0., 0., 0., 0., 1., 0., 0.]])"
      ]
     },
     "execution_count": 63,
     "metadata": {},
     "output_type": "execute_result"
    }
   ],
   "source": [
    "model.predict(X[0].values)"
   ]
  },
  {
   "cell_type": "code",
   "execution_count": 51,
   "id": "3453a85d-7d3a-449a-a452-19d4d7c956f3",
   "metadata": {},
   "outputs": [
    {
     "data": {
      "image/png": "[encoded data removed]",
      "text/plain": [
       "<Figure size 640x480 with 1 Axes>"
      ]
     },
     "metadata": {},
     "output_type": "display_data"
    },
    {
     "data": {
      "image/png": "[encoded data removed]",
      "text/plain": [
       "<Figure size 640x480 with 1 Axes>"
      ]
     },
     "metadata": {},
     "output_type": "display_data"
    }
   ],
   "source": [
    "training_loss = history.history['loss']\n",
    "\n",
    "# Plot the training loss\n",
    "plt.plot(range(1, len(training_loss) + 1), training_loss, label='Training Loss')\n",
    "plt.xlabel('Epoch')\n",
    "plt.ylabel('Loss')\n",
    "plt.legend()\n",
    "plt.show()\n",
    "\n",
    "training_accuracy = history.history['accuracy']\n",
    "plt.plot(range(1, len(training_accuracy) + 1), training_accuracy, label='Training Accuracy')\n",
    "plt.xlabel('Epoch')\n",
    "plt.ylabel('Accuracy')\n",
    "plt.legend()\n",
    "plt.show()"
   ]
  },
  {
   "cell_type": "code",
   "execution_count": null,
   "id": "17a71150-b49d-4054-83cf-2f1d6d3d47fb",
   "metadata": {},
   "outputs": [],
   "source": []
  }
 ],
 "metadata": {
  "kernelspec": {
   "display_name": "Python 3 (ipykernel)",
   "language": "python",
   "name": "python3"
  },
  "language_info": {
   "codemirror_mode": {
    "name": "ipython",
    "version": 3
   },
   "file_extension": ".py",
   "mimetype": "text/x-python",
   "name": "python",
   "nbconvert_exporter": "python",
   "pygments_lexer": "ipython3",
   "version": "3.11.4"
  }
 },
 "nbformat": 4,
 "nbformat_minor": 5
}
