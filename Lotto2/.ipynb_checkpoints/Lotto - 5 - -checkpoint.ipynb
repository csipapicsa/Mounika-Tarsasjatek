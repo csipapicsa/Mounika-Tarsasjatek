{
 "cells": [
  {
   "cell_type": "code",
   "execution_count": 1,
   "id": "39fe9eea-dd34-4269-a172-8d181846cefa",
   "metadata": {},
   "outputs": [],
   "source": [
    "import tensorflow as tf\n",
    "from tensorflow import keras\n",
    "from tensorflow.keras.models import Sequential\n",
    "from tensorflow.keras.layers import Dense, LSTM, Bidirectional, Dropout, GRU\n",
    "from tensorflow.keras.optimizers import Adam"
   ]
  },
  {
   "cell_type": "code",
   "execution_count": 5,
   "id": "d2ce819e-d72a-40a5-96ec-3c0560a7a16e",
   "metadata": {},
   "outputs": [],
   "source": [
    "import numpy as np\n",
    "import pandas as pd\n",
    "import matplotlib.pyplot as plt\n",
    "\n",
    "import lottoMainFunctions as mf"
   ]
  },
  {
   "cell_type": "code",
   "execution_count": 28,
   "id": "dc0345f9-ef0a-47e4-82e4-b5d5033b607d",
   "metadata": {},
   "outputs": [],
   "source": [
    "import importlib as i"
   ]
  },
  {
   "cell_type": "code",
   "execution_count": 33,
   "id": "a6ae9370-3012-41d1-82ec-8a9c8cf2a73b",
   "metadata": {},
   "outputs": [
    {
     "data": {
      "text/plain": [
       "<module 'lottoMainFunctions' from 'D:\\\\GITHUB\\\\Mounika-Tarsasjatek\\\\Lotto2\\\\lottoMainFunctions.py'>"
      ]
     },
     "execution_count": 33,
     "metadata": {},
     "output_type": "execute_result"
    }
   ],
   "source": [
    "i.reload(mf)"
   ]
  },
  {
   "cell_type": "code",
   "execution_count": 37,
   "id": "2d3de0f6-2be1-4d14-bb89-19d9d39b1ca1",
   "metadata": {},
   "outputs": [
    {
     "name": "stdout",
     "output_type": "stream",
     "text": [
      "ötös\n"
     ]
    }
   ],
   "source": [
    "tip =  \"ötös\", 5\n",
    "df, dfRaw = mf.getLotto(mf.getLottoDB(tip[0]), type=tip[0])\n",
    "Years = 10\n",
    "# cut\n",
    "dfRaw = dfRaw[0:(Years*52)]"
   ]
  },
  {
   "cell_type": "markdown",
   "id": "356c9939-8bbf-4dc9-9c95-96b941958596",
   "metadata": {},
   "source": [
    "# One Hot Encoder"
   ]
  },
  {
   "cell_type": "code",
   "execution_count": 46,
   "id": "80a58a3f-3a75-4015-bd74-cc82911de99e",
   "metadata": {},
   "outputs": [
    {
     "data": {
      "text/plain": [
       "<tf.Tensor: shape=(1, 5), dtype=float32, numpy=array([[0., 0., 0., 0., 0.]], dtype=float32)>"
      ]
     },
     "execution_count": 46,
     "metadata": {},
     "output_type": "execute_result"
    }
   ],
   "source": [
    "one_hot_encoded = tf.one_hot(dfRaw, depth=90)\n",
    "transformed_array = tf.reduce_max(one_hot_encoded, axis=1)\n",
    "transformed_array[1+14:1+14+1,0:5]"
   ]
  },
  {
   "cell_type": "code",
   "execution_count": 70,
   "id": "7b14554d-ab0d-4de5-9b95-6c2873d8b17d",
   "metadata": {},
   "outputs": [
    {
     "data": {
      "text/plain": [
       "<tf.Tensor: shape=(90,), dtype=float32, numpy=\n",
       "array([0., 0., 0., 0., 0., 0., 0., 0., 0., 0., 0., 0., 0., 0., 0., 0., 0.,\n",
       "       0., 0., 0., 0., 0., 0., 0., 0., 0., 0., 0., 0., 0., 0., 0., 0., 0.,\n",
       "       0., 0., 0., 0., 0., 0., 0., 0., 0., 0., 0., 0., 0., 0., 0., 0., 0.,\n",
       "       1., 0., 0., 0., 0., 0., 0., 0., 0., 0., 1., 0., 1., 0., 0., 0., 1.,\n",
       "       0., 0., 0., 0., 0., 0., 0., 1., 0., 0., 0., 0., 0., 0., 0., 0., 0.,\n",
       "       0., 0., 0., 0., 0.], dtype=float32)>"
      ]
     },
     "execution_count": 70,
     "metadata": {},
     "output_type": "execute_result"
    }
   ],
   "source": [
    "transformed_array[0]"
   ]
  },
  {
   "cell_type": "code",
   "execution_count": 67,
   "id": "44462f77-9da0-48ec-9481-bb53a42383cd",
   "metadata": {},
   "outputs": [
    {
     "data": {
      "text/plain": [
       "3471"
      ]
     },
     "execution_count": 67,
     "metadata": {},
     "output_type": "execute_result"
    }
   ],
   "source": [
    "df.shape[0]"
   ]
  },
  {
   "cell_type": "code",
   "execution_count": 72,
   "id": "e953f6e0-86cb-43dc-af98-ae6bcc7dcbfb",
   "metadata": {},
   "outputs": [
    {
     "data": {
      "text/plain": [
       "array([51, 61, 63, 67, 75], dtype=int64)"
      ]
     },
     "execution_count": 72,
     "metadata": {},
     "output_type": "execute_result"
    }
   ],
   "source": [
    "dfRaw[0]"
   ]
  },
  {
   "cell_type": "markdown",
   "id": "3a8462ce-d201-41a5-a44f-c1c25790eb8c",
   "metadata": {},
   "source": [
    "# No encoder"
   ]
  },
  {
   "cell_type": "code",
   "execution_count": 78,
   "id": "55fbab84-b28e-4e5b-988e-80b3ef25a908",
   "metadata": {},
   "outputs": [],
   "source": [
    "transformed_array = dfRaw\n",
    "LOTTOSIZE = 5"
   ]
  },
  {
   "cell_type": "markdown",
   "id": "ec63335d-bdeb-43fa-9dae-5a2398f104a5",
   "metadata": {},
   "source": [
    "## Prepare training"
   ]
  },
  {
   "cell_type": "code",
   "execution_count": 79,
   "id": "412d7686-1585-43ab-9bb0-b328369ed4e4",
   "metadata": {},
   "outputs": [],
   "source": [
    "window_length = 21 # weeks\n",
    "# Balls counts\n",
    "number_of_features = tip[1] # how many ball, 5, 6 \n",
    "number_of_rows = transformed_array.shape[0]"
   ]
  },
  {
   "cell_type": "code",
   "execution_count": 80,
   "id": "11df2e53-2a6d-4d3e-8235-345140a2f9e1",
   "metadata": {},
   "outputs": [
    {
     "data": {
      "text/plain": [
       "array([[18, 42, 44, 48, 86],\n",
       "       [25, 36, 38, 51, 89],\n",
       "       [12, 37, 50, 74, 77],\n",
       "       [24, 27, 50, 54, 71],\n",
       "       [29, 35, 36, 48, 83],\n",
       "       [15, 26, 29, 50, 70],\n",
       "       [ 1, 20, 42, 43, 62],\n",
       "       [35, 39, 80, 88, 90],\n",
       "       [ 7, 11, 15, 55, 74],\n",
       "       [ 7, 13, 28, 47, 58],\n",
       "       [10, 17, 25, 30, 83],\n",
       "       [15, 27, 54, 62, 76],\n",
       "       [19, 38, 53, 58, 71],\n",
       "       [ 6,  9, 35, 79, 85],\n",
       "       [13, 24, 34, 45, 59],\n",
       "       [27, 50, 65, 67, 83],\n",
       "       [25, 40, 48, 68, 82],\n",
       "       [ 2,  4, 44, 48, 73],\n",
       "       [ 2, 43, 72, 74, 82],\n",
       "       [28, 37, 53, 68, 84],\n",
       "       [10, 32, 40, 70, 82]], dtype=int64)"
      ]
     },
     "execution_count": 80,
     "metadata": {},
     "output_type": "execute_result"
    }
   ],
   "source": [
    "i = 10\n",
    "transformed_array[i : i + window_length]"
   ]
  },
  {
   "cell_type": "code",
   "execution_count": 125,
   "id": "cb39504d-168a-4ded-8fe7-66b4d7f8a495",
   "metadata": {},
   "outputs": [],
   "source": [
    "X = np.empty([number_of_rows - window_length, window_length, LOTTOSIZE], dtype=float)\n",
    "y = np.empty([number_of_rows - window_length, LOTTOSIZE], dtype=float)\n",
    "\n",
    "for i in range(0, number_of_rows - window_length):\n",
    "    #X[i] = transformed_df.iloc[i : i + window_length, 0 : number_of_features].values\n",
    "    #y[i] = transformed_df.iloc[i + window_length : i + window_length + 1, 0 : number_of_features].values\n",
    "    X[i] = transformed_array[i : i + window_length, 0 : LOTTOSIZE]\n",
    "    #X[i] = transformed_array[i : i + window_length]\n",
    "    y[i] = transformed_array[i + window_length : i + window_length + 1, 0 : LOTTOSIZE]\n",
    "    # y[i] = transformed_array[i + window_length : i + window_length + 1]"
   ]
  },
  {
   "cell_type": "markdown",
   "id": "60dd8670-251e-4b56-88db-fcbd073e3a57",
   "metadata": {},
   "source": [
    "# Focal LOSS"
   ]
  },
  {
   "cell_type": "code",
   "execution_count": 83,
   "id": "fe1d098b-dd28-4f9c-b15b-285284e79658",
   "metadata": {},
   "outputs": [
    {
     "ename": "ValueError",
     "evalue": "classes should include all valid labels that can be in y",
     "output_type": "error",
     "traceback": [
      "\u001b[1;31m---------------------------------------------------------------------------\u001b[0m",
      "\u001b[1;31mValueError\u001b[0m                                Traceback (most recent call last)",
      "Cell \u001b[1;32mIn[83], line 32\u001b[0m\n\u001b[0;32m     27\u001b[0m \u001b[38;5;66;03m# history = model.fit(x=X, y=y, batch_size=BATCH_SIZE, epochs=EPOCHS, verbose=2)\u001b[39;00m\n\u001b[0;32m     28\u001b[0m \n\u001b[0;32m     29\u001b[0m \u001b[38;5;66;03m# Calculate class weights\u001b[39;00m\n\u001b[0;32m     30\u001b[0m \u001b[38;5;28;01mfrom\u001b[39;00m \u001b[38;5;21;01msklearn\u001b[39;00m\u001b[38;5;21;01m.\u001b[39;00m\u001b[38;5;21;01mutils\u001b[39;00m\u001b[38;5;21;01m.\u001b[39;00m\u001b[38;5;21;01mclass_weight\u001b[39;00m \u001b[38;5;28;01mimport\u001b[39;00m compute_class_weight\n\u001b[1;32m---> 32\u001b[0m class_weights \u001b[38;5;241m=\u001b[39m \u001b[43mcompute_class_weight\u001b[49m\u001b[43m(\u001b[49m\u001b[38;5;124;43m'\u001b[39;49m\u001b[38;5;124;43mbalanced\u001b[39;49m\u001b[38;5;124;43m'\u001b[39;49m\u001b[43m,\u001b[49m\u001b[43m \u001b[49m\u001b[43mclasses\u001b[49m\u001b[38;5;241;43m=\u001b[39;49m\u001b[43m[\u001b[49m\u001b[38;5;241;43m0\u001b[39;49m\u001b[43m,\u001b[49m\u001b[43m \u001b[49m\u001b[38;5;241;43m1\u001b[39;49m\u001b[43m]\u001b[49m\u001b[43m,\u001b[49m\u001b[43m \u001b[49m\u001b[43my\u001b[49m\u001b[38;5;241;43m=\u001b[39;49m\u001b[43my\u001b[49m\u001b[38;5;241;43m.\u001b[39;49m\u001b[43mflatten\u001b[49m\u001b[43m(\u001b[49m\u001b[43m)\u001b[49m\u001b[43m)\u001b[49m\n\u001b[0;32m     34\u001b[0m \u001b[38;5;66;03m# Fit the model with class weights\u001b[39;00m\n\u001b[0;32m     35\u001b[0m history \u001b[38;5;241m=\u001b[39m model\u001b[38;5;241m.\u001b[39mfit(x\u001b[38;5;241m=\u001b[39mX, y\u001b[38;5;241m=\u001b[39my, batch_size\u001b[38;5;241m=\u001b[39mBATCH_SIZE, epochs\u001b[38;5;241m=\u001b[39mEPOCHS, verbose\u001b[38;5;241m=\u001b[39m\u001b[38;5;241m2\u001b[39m, class_weight\u001b[38;5;241m=\u001b[39m\u001b[38;5;28mdict\u001b[39m(\u001b[38;5;28menumerate\u001b[39m(class_weights)))\n",
      "File \u001b[1;32m~\\AppData\\Local\\Programs\\Python\\Python311\\Lib\\site-packages\\sklearn\\utils\\class_weight.py:42\u001b[0m, in \u001b[0;36mcompute_class_weight\u001b[1;34m(class_weight, classes, y)\u001b[0m\n\u001b[0;32m     39\u001b[0m \u001b[38;5;28;01mfrom\u001b[39;00m \u001b[38;5;21;01m.\u001b[39;00m\u001b[38;5;21;01m.\u001b[39;00m\u001b[38;5;21;01mpreprocessing\u001b[39;00m \u001b[38;5;28;01mimport\u001b[39;00m LabelEncoder\n\u001b[0;32m     41\u001b[0m \u001b[38;5;28;01mif\u001b[39;00m \u001b[38;5;28mset\u001b[39m(y) \u001b[38;5;241m-\u001b[39m \u001b[38;5;28mset\u001b[39m(classes):\n\u001b[1;32m---> 42\u001b[0m     \u001b[38;5;28;01mraise\u001b[39;00m \u001b[38;5;167;01mValueError\u001b[39;00m(\u001b[38;5;124m\"\u001b[39m\u001b[38;5;124mclasses should include all valid labels that can be in y\u001b[39m\u001b[38;5;124m\"\u001b[39m)\n\u001b[0;32m     43\u001b[0m \u001b[38;5;28;01mif\u001b[39;00m class_weight \u001b[38;5;129;01mis\u001b[39;00m \u001b[38;5;28;01mNone\u001b[39;00m \u001b[38;5;129;01mor\u001b[39;00m \u001b[38;5;28mlen\u001b[39m(class_weight) \u001b[38;5;241m==\u001b[39m \u001b[38;5;241m0\u001b[39m:\n\u001b[0;32m     44\u001b[0m     \u001b[38;5;66;03m# uniform class weights\u001b[39;00m\n\u001b[0;32m     45\u001b[0m     weight \u001b[38;5;241m=\u001b[39m np\u001b[38;5;241m.\u001b[39mones(classes\u001b[38;5;241m.\u001b[39mshape[\u001b[38;5;241m0\u001b[39m], dtype\u001b[38;5;241m=\u001b[39mnp\u001b[38;5;241m.\u001b[39mfloat64, order\u001b[38;5;241m=\u001b[39m\u001b[38;5;124m\"\u001b[39m\u001b[38;5;124mC\u001b[39m\u001b[38;5;124m\"\u001b[39m)\n",
      "\u001b[1;31mValueError\u001b[0m: classes should include all valid labels that can be in y"
     ]
    }
   ],
   "source": [
    "\n",
    "BATCH_SIZE = 100 # 100\n",
    "biDirectionalNeurons = 90*1 # \n",
    "EPOCHS = 100 # 100\n",
    "\n",
    "model = Sequential()\n",
    "model.add(Bidirectional(LSTM(biDirectionalNeurons, input_shape = (window_length, LOTTOSIZE), return_sequences = True)))\n",
    "model.add(Dropout(0.2))\n",
    "model.add(Bidirectional(LSTM(biDirectionalNeurons, input_shape = (window_length, LOTTOSIZE), return_sequences = True)))\n",
    "model.add(Dropout(0.2))\n",
    "model.add(Bidirectional(LSTM(biDirectionalNeurons, input_shape = (window_length, LOTTOSIZE), return_sequences = True)))\n",
    "model.add(Bidirectional(LSTM(biDirectionalNeurons, input_shape = (window_length, LOTTOSIZE), return_sequences = False)))\n",
    "#model.add(Dense(90))\n",
    "model.add(Dense(LOTTOSIZE,activation='sigmoid'))\n",
    "\n",
    "def focal_loss(gamma=2.0, alpha=0.25):\n",
    "    def focal_loss_fixed(y_true, y_pred):\n",
    "        pt = y_pred * y_true + (1 - y_pred) * (1 - y_true)\n",
    "        focal_loss = -alpha * (1 - pt)**gamma * tf.math.log(pt + 1e-7)\n",
    "        return tf.reduce_mean(focal_loss)\n",
    "    return focal_loss_fixed\n",
    "\n",
    "\n",
    "#model.compile(optimizer=Adam(learning_rate=0.0001), loss ='categorical_crossentropy', metrics=['accuracy'])\n",
    "# Compile the model with focal loss\n",
    "model.compile(optimizer=Adam(learning_rate=0.0001), loss=focal_loss(), metrics=['accuracy'])\n",
    "\n",
    "# history = model.fit(x=X, y=y, batch_size=BATCH_SIZE, epochs=EPOCHS, verbose=2)\n",
    "\n",
    "# Calculate class weights\n",
    "from sklearn.utils.class_weight import compute_class_weight\n",
    "\n",
    "class_weights = compute_class_weight('balanced', classes=[0, 1], y=y.flatten())\n",
    "\n",
    "# Fit the model with class weights\n",
    "history = model.fit(x=X, y=y, batch_size=BATCH_SIZE, epochs=EPOCHS, verbose=2, class_weight=dict(enumerate(class_weights)))"
   ]
  },
  {
   "cell_type": "markdown",
   "id": "85b6b803-f937-499c-8aa5-d7c751722e6c",
   "metadata": {},
   "source": [
    "# NN1"
   ]
  },
  {
   "cell_type": "code",
   "execution_count": 139,
   "id": "1e065888-465a-4d4c-b34a-191c63c9c521",
   "metadata": {},
   "outputs": [
    {
     "data": {
      "text/plain": [
       "5"
      ]
     },
     "execution_count": 139,
     "metadata": {},
     "output_type": "execute_result"
    }
   ],
   "source": [
    "tip[1]"
   ]
  },
  {
   "cell_type": "code",
   "execution_count": 143,
   "id": "87fc34df-f9cf-4fd8-ad63-7a31aa2ad3be",
   "metadata": {},
   "outputs": [
    {
     "name": "stdout",
     "output_type": "stream",
     "text": [
      "Epoch 1/100\n",
      "5/5 - 14s - loss: 2551.3643 - accuracy: 0.0020 - 14s/epoch - 3s/step\n",
      "Epoch 2/100\n",
      "5/5 - 1s - loss: 2550.4529 - accuracy: 0.0200 - 604ms/epoch - 121ms/step\n",
      "Epoch 3/100\n",
      "5/5 - 1s - loss: 2549.4751 - accuracy: 0.1443 - 598ms/epoch - 120ms/step\n",
      "Epoch 4/100\n",
      "5/5 - 1s - loss: 2548.4680 - accuracy: 0.4148 - 571ms/epoch - 114ms/step\n",
      "Epoch 5/100\n",
      "5/5 - 1s - loss: 2547.3923 - accuracy: 0.6854 - 573ms/epoch - 115ms/step\n",
      "Epoch 6/100\n",
      "5/5 - 1s - loss: 2546.2134 - accuracy: 0.8457 - 571ms/epoch - 114ms/step\n",
      "Epoch 7/100\n",
      "5/5 - 1s - loss: 2544.9382 - accuracy: 0.9639 - 568ms/epoch - 114ms/step\n",
      "Epoch 8/100\n",
      "5/5 - 1s - loss: 2543.5156 - accuracy: 0.9820 - 600ms/epoch - 120ms/step\n",
      "Epoch 9/100\n",
      "5/5 - 1s - loss: 2542.0300 - accuracy: 0.9980 - 613ms/epoch - 123ms/step\n",
      "Epoch 10/100\n",
      "5/5 - 1s - loss: 2540.3567 - accuracy: 1.0000 - 610ms/epoch - 122ms/step\n",
      "Epoch 11/100\n",
      "5/5 - 1s - loss: 2538.6604 - accuracy: 1.0000 - 570ms/epoch - 114ms/step\n",
      "Epoch 12/100\n",
      "5/5 - 1s - loss: 2536.8276 - accuracy: 1.0000 - 576ms/epoch - 115ms/step\n",
      "Epoch 13/100\n",
      "5/5 - 1s - loss: 2535.0520 - accuracy: 1.0000 - 567ms/epoch - 113ms/step\n",
      "Epoch 14/100\n",
      "5/5 - 1s - loss: 2533.2896 - accuracy: 1.0000 - 575ms/epoch - 115ms/step\n",
      "Epoch 15/100\n",
      "5/5 - 1s - loss: 2531.5520 - accuracy: 1.0000 - 622ms/epoch - 124ms/step\n",
      "Epoch 16/100\n",
      "5/5 - 1s - loss: 2529.9429 - accuracy: 1.0000 - 642ms/epoch - 128ms/step\n",
      "Epoch 17/100\n"
     ]
    },
    {
     "ename": "KeyboardInterrupt",
     "evalue": "",
     "output_type": "error",
     "traceback": [
      "\u001b[1;31m---------------------------------------------------------------------------\u001b[0m",
      "\u001b[1;31mKeyboardInterrupt\u001b[0m                         Traceback (most recent call last)",
      "Cell \u001b[1;32mIn[143], line 22\u001b[0m\n\u001b[0;32m     18\u001b[0m \u001b[38;5;66;03m# model.compile(optimizer=Adam(learning_rate=0.0001), loss ='categorical_crossentropy', metrics=['accuracy']) #for binary numbers\u001b[39;00m\n\u001b[0;32m     19\u001b[0m \u001b[38;5;66;03m# model.compile(optimizer=Adam(learning_rate=0.0001), loss='binary_crossentropy', metrics=['accuracy']) # for whatever reasones\u001b[39;00m\n\u001b[0;32m     20\u001b[0m model\u001b[38;5;241m.\u001b[39mcompile(optimizer\u001b[38;5;241m=\u001b[39mAdam(learning_rate\u001b[38;5;241m=\u001b[39m\u001b[38;5;241m0.0001\u001b[39m), loss\u001b[38;5;241m=\u001b[39m\u001b[38;5;124m'\u001b[39m\u001b[38;5;124mmean_squared_error\u001b[39m\u001b[38;5;124m'\u001b[39m, metrics\u001b[38;5;241m=\u001b[39m[\u001b[38;5;124m'\u001b[39m\u001b[38;5;124maccuracy\u001b[39m\u001b[38;5;124m'\u001b[39m]) \u001b[38;5;66;03m# for numbers between 0 nad 90\u001b[39;00m\n\u001b[1;32m---> 22\u001b[0m history \u001b[38;5;241m=\u001b[39m \u001b[43mmodel\u001b[49m\u001b[38;5;241;43m.\u001b[39;49m\u001b[43mfit\u001b[49m\u001b[43m(\u001b[49m\u001b[43mx\u001b[49m\u001b[38;5;241;43m=\u001b[39;49m\u001b[43mX\u001b[49m\u001b[43m,\u001b[49m\u001b[43m \u001b[49m\u001b[43my\u001b[49m\u001b[38;5;241;43m=\u001b[39;49m\u001b[43my\u001b[49m\u001b[43m,\u001b[49m\u001b[43m \u001b[49m\u001b[43mbatch_size\u001b[49m\u001b[38;5;241;43m=\u001b[39;49m\u001b[43mBATCH_SIZE\u001b[49m\u001b[43m,\u001b[49m\u001b[43m \u001b[49m\u001b[43mepochs\u001b[49m\u001b[38;5;241;43m=\u001b[39;49m\u001b[43mEPOCHS\u001b[49m\u001b[43m,\u001b[49m\u001b[43m \u001b[49m\u001b[43mverbose\u001b[49m\u001b[38;5;241;43m=\u001b[39;49m\u001b[38;5;241;43m2\u001b[39;49m\u001b[43m)\u001b[49m\n\u001b[0;32m     24\u001b[0m X_sample \u001b[38;5;241m=\u001b[39m X[\u001b[38;5;241m0\u001b[39m]\u001b[38;5;241m.\u001b[39mreshape(\u001b[38;5;241m1\u001b[39m, window_length, tip[\u001b[38;5;241m1\u001b[39m])\n\u001b[0;32m     25\u001b[0m \u001b[38;5;28mprint\u001b[39m(model\u001b[38;5;241m.\u001b[39mpredict(X_sample))\n",
      "File \u001b[1;32m~\\AppData\\Local\\Programs\\Python\\Python311\\Lib\\site-packages\\keras\\src\\utils\\traceback_utils.py:65\u001b[0m, in \u001b[0;36mfilter_traceback.<locals>.error_handler\u001b[1;34m(*args, **kwargs)\u001b[0m\n\u001b[0;32m     63\u001b[0m filtered_tb \u001b[38;5;241m=\u001b[39m \u001b[38;5;28;01mNone\u001b[39;00m\n\u001b[0;32m     64\u001b[0m \u001b[38;5;28;01mtry\u001b[39;00m:\n\u001b[1;32m---> 65\u001b[0m     \u001b[38;5;28;01mreturn\u001b[39;00m \u001b[43mfn\u001b[49m\u001b[43m(\u001b[49m\u001b[38;5;241;43m*\u001b[39;49m\u001b[43margs\u001b[49m\u001b[43m,\u001b[49m\u001b[43m \u001b[49m\u001b[38;5;241;43m*\u001b[39;49m\u001b[38;5;241;43m*\u001b[39;49m\u001b[43mkwargs\u001b[49m\u001b[43m)\u001b[49m\n\u001b[0;32m     66\u001b[0m \u001b[38;5;28;01mexcept\u001b[39;00m \u001b[38;5;167;01mException\u001b[39;00m \u001b[38;5;28;01mas\u001b[39;00m e:\n\u001b[0;32m     67\u001b[0m     filtered_tb \u001b[38;5;241m=\u001b[39m _process_traceback_frames(e\u001b[38;5;241m.\u001b[39m__traceback__)\n",
      "File \u001b[1;32m~\\AppData\\Local\\Programs\\Python\\Python311\\Lib\\site-packages\\keras\\src\\engine\\training.py:1742\u001b[0m, in \u001b[0;36mModel.fit\u001b[1;34m(self, x, y, batch_size, epochs, verbose, callbacks, validation_split, validation_data, shuffle, class_weight, sample_weight, initial_epoch, steps_per_epoch, validation_steps, validation_batch_size, validation_freq, max_queue_size, workers, use_multiprocessing)\u001b[0m\n\u001b[0;32m   1734\u001b[0m \u001b[38;5;28;01mwith\u001b[39;00m tf\u001b[38;5;241m.\u001b[39mprofiler\u001b[38;5;241m.\u001b[39mexperimental\u001b[38;5;241m.\u001b[39mTrace(\n\u001b[0;32m   1735\u001b[0m     \u001b[38;5;124m\"\u001b[39m\u001b[38;5;124mtrain\u001b[39m\u001b[38;5;124m\"\u001b[39m,\n\u001b[0;32m   1736\u001b[0m     epoch_num\u001b[38;5;241m=\u001b[39mepoch,\n\u001b[1;32m   (...)\u001b[0m\n\u001b[0;32m   1739\u001b[0m     _r\u001b[38;5;241m=\u001b[39m\u001b[38;5;241m1\u001b[39m,\n\u001b[0;32m   1740\u001b[0m ):\n\u001b[0;32m   1741\u001b[0m     callbacks\u001b[38;5;241m.\u001b[39mon_train_batch_begin(step)\n\u001b[1;32m-> 1742\u001b[0m     tmp_logs \u001b[38;5;241m=\u001b[39m \u001b[38;5;28;43mself\u001b[39;49m\u001b[38;5;241;43m.\u001b[39;49m\u001b[43mtrain_function\u001b[49m\u001b[43m(\u001b[49m\u001b[43miterator\u001b[49m\u001b[43m)\u001b[49m\n\u001b[0;32m   1743\u001b[0m     \u001b[38;5;28;01mif\u001b[39;00m data_handler\u001b[38;5;241m.\u001b[39mshould_sync:\n\u001b[0;32m   1744\u001b[0m         context\u001b[38;5;241m.\u001b[39masync_wait()\n",
      "File \u001b[1;32m~\\AppData\\Local\\Programs\\Python\\Python311\\Lib\\site-packages\\tensorflow\\python\\util\\traceback_utils.py:150\u001b[0m, in \u001b[0;36mfilter_traceback.<locals>.error_handler\u001b[1;34m(*args, **kwargs)\u001b[0m\n\u001b[0;32m    148\u001b[0m filtered_tb \u001b[38;5;241m=\u001b[39m \u001b[38;5;28;01mNone\u001b[39;00m\n\u001b[0;32m    149\u001b[0m \u001b[38;5;28;01mtry\u001b[39;00m:\n\u001b[1;32m--> 150\u001b[0m   \u001b[38;5;28;01mreturn\u001b[39;00m \u001b[43mfn\u001b[49m\u001b[43m(\u001b[49m\u001b[38;5;241;43m*\u001b[39;49m\u001b[43margs\u001b[49m\u001b[43m,\u001b[49m\u001b[43m \u001b[49m\u001b[38;5;241;43m*\u001b[39;49m\u001b[38;5;241;43m*\u001b[39;49m\u001b[43mkwargs\u001b[49m\u001b[43m)\u001b[49m\n\u001b[0;32m    151\u001b[0m \u001b[38;5;28;01mexcept\u001b[39;00m \u001b[38;5;167;01mException\u001b[39;00m \u001b[38;5;28;01mas\u001b[39;00m e:\n\u001b[0;32m    152\u001b[0m   filtered_tb \u001b[38;5;241m=\u001b[39m _process_traceback_frames(e\u001b[38;5;241m.\u001b[39m__traceback__)\n",
      "File \u001b[1;32m~\\AppData\\Local\\Programs\\Python\\Python311\\Lib\\site-packages\\tensorflow\\python\\eager\\polymorphic_function\\polymorphic_function.py:825\u001b[0m, in \u001b[0;36mFunction.__call__\u001b[1;34m(self, *args, **kwds)\u001b[0m\n\u001b[0;32m    822\u001b[0m compiler \u001b[38;5;241m=\u001b[39m \u001b[38;5;124m\"\u001b[39m\u001b[38;5;124mxla\u001b[39m\u001b[38;5;124m\"\u001b[39m \u001b[38;5;28;01mif\u001b[39;00m \u001b[38;5;28mself\u001b[39m\u001b[38;5;241m.\u001b[39m_jit_compile \u001b[38;5;28;01melse\u001b[39;00m \u001b[38;5;124m\"\u001b[39m\u001b[38;5;124mnonXla\u001b[39m\u001b[38;5;124m\"\u001b[39m\n\u001b[0;32m    824\u001b[0m \u001b[38;5;28;01mwith\u001b[39;00m OptionalXlaContext(\u001b[38;5;28mself\u001b[39m\u001b[38;5;241m.\u001b[39m_jit_compile):\n\u001b[1;32m--> 825\u001b[0m   result \u001b[38;5;241m=\u001b[39m \u001b[38;5;28;43mself\u001b[39;49m\u001b[38;5;241;43m.\u001b[39;49m\u001b[43m_call\u001b[49m\u001b[43m(\u001b[49m\u001b[38;5;241;43m*\u001b[39;49m\u001b[43margs\u001b[49m\u001b[43m,\u001b[49m\u001b[43m \u001b[49m\u001b[38;5;241;43m*\u001b[39;49m\u001b[38;5;241;43m*\u001b[39;49m\u001b[43mkwds\u001b[49m\u001b[43m)\u001b[49m\n\u001b[0;32m    827\u001b[0m new_tracing_count \u001b[38;5;241m=\u001b[39m \u001b[38;5;28mself\u001b[39m\u001b[38;5;241m.\u001b[39mexperimental_get_tracing_count()\n\u001b[0;32m    828\u001b[0m without_tracing \u001b[38;5;241m=\u001b[39m (tracing_count \u001b[38;5;241m==\u001b[39m new_tracing_count)\n",
      "File \u001b[1;32m~\\AppData\\Local\\Programs\\Python\\Python311\\Lib\\site-packages\\tensorflow\\python\\eager\\polymorphic_function\\polymorphic_function.py:857\u001b[0m, in \u001b[0;36mFunction._call\u001b[1;34m(self, *args, **kwds)\u001b[0m\n\u001b[0;32m    854\u001b[0m   \u001b[38;5;28mself\u001b[39m\u001b[38;5;241m.\u001b[39m_lock\u001b[38;5;241m.\u001b[39mrelease()\n\u001b[0;32m    855\u001b[0m   \u001b[38;5;66;03m# In this case we have created variables on the first call, so we run the\u001b[39;00m\n\u001b[0;32m    856\u001b[0m   \u001b[38;5;66;03m# defunned version which is guaranteed to never create variables.\u001b[39;00m\n\u001b[1;32m--> 857\u001b[0m   \u001b[38;5;28;01mreturn\u001b[39;00m \u001b[38;5;28;43mself\u001b[39;49m\u001b[38;5;241;43m.\u001b[39;49m\u001b[43m_no_variable_creation_fn\u001b[49m\u001b[43m(\u001b[49m\u001b[38;5;241;43m*\u001b[39;49m\u001b[43margs\u001b[49m\u001b[43m,\u001b[49m\u001b[43m \u001b[49m\u001b[38;5;241;43m*\u001b[39;49m\u001b[38;5;241;43m*\u001b[39;49m\u001b[43mkwds\u001b[49m\u001b[43m)\u001b[49m  \u001b[38;5;66;03m# pylint: disable=not-callable\u001b[39;00m\n\u001b[0;32m    858\u001b[0m \u001b[38;5;28;01melif\u001b[39;00m \u001b[38;5;28mself\u001b[39m\u001b[38;5;241m.\u001b[39m_variable_creation_fn \u001b[38;5;129;01mis\u001b[39;00m \u001b[38;5;129;01mnot\u001b[39;00m \u001b[38;5;28;01mNone\u001b[39;00m:\n\u001b[0;32m    859\u001b[0m   \u001b[38;5;66;03m# Release the lock early so that multiple threads can perform the call\u001b[39;00m\n\u001b[0;32m    860\u001b[0m   \u001b[38;5;66;03m# in parallel.\u001b[39;00m\n\u001b[0;32m    861\u001b[0m   \u001b[38;5;28mself\u001b[39m\u001b[38;5;241m.\u001b[39m_lock\u001b[38;5;241m.\u001b[39mrelease()\n",
      "File \u001b[1;32m~\\AppData\\Local\\Programs\\Python\\Python311\\Lib\\site-packages\\tensorflow\\python\\eager\\polymorphic_function\\tracing_compiler.py:148\u001b[0m, in \u001b[0;36mTracingCompiler.__call__\u001b[1;34m(self, *args, **kwargs)\u001b[0m\n\u001b[0;32m    145\u001b[0m \u001b[38;5;28;01mwith\u001b[39;00m \u001b[38;5;28mself\u001b[39m\u001b[38;5;241m.\u001b[39m_lock:\n\u001b[0;32m    146\u001b[0m   (concrete_function,\n\u001b[0;32m    147\u001b[0m    filtered_flat_args) \u001b[38;5;241m=\u001b[39m \u001b[38;5;28mself\u001b[39m\u001b[38;5;241m.\u001b[39m_maybe_define_function(args, kwargs)\n\u001b[1;32m--> 148\u001b[0m \u001b[38;5;28;01mreturn\u001b[39;00m \u001b[43mconcrete_function\u001b[49m\u001b[38;5;241;43m.\u001b[39;49m\u001b[43m_call_flat\u001b[49m\u001b[43m(\u001b[49m\n\u001b[0;32m    149\u001b[0m \u001b[43m    \u001b[49m\u001b[43mfiltered_flat_args\u001b[49m\u001b[43m,\u001b[49m\u001b[43m \u001b[49m\u001b[43mcaptured_inputs\u001b[49m\u001b[38;5;241;43m=\u001b[39;49m\u001b[43mconcrete_function\u001b[49m\u001b[38;5;241;43m.\u001b[39;49m\u001b[43mcaptured_inputs\u001b[49m\u001b[43m)\u001b[49m\n",
      "File \u001b[1;32m~\\AppData\\Local\\Programs\\Python\\Python311\\Lib\\site-packages\\tensorflow\\python\\eager\\polymorphic_function\\monomorphic_function.py:1349\u001b[0m, in \u001b[0;36mConcreteFunction._call_flat\u001b[1;34m(self, args, captured_inputs)\u001b[0m\n\u001b[0;32m   1345\u001b[0m possible_gradient_type \u001b[38;5;241m=\u001b[39m gradients_util\u001b[38;5;241m.\u001b[39mPossibleTapeGradientTypes(args)\n\u001b[0;32m   1346\u001b[0m \u001b[38;5;28;01mif\u001b[39;00m (possible_gradient_type \u001b[38;5;241m==\u001b[39m gradients_util\u001b[38;5;241m.\u001b[39mPOSSIBLE_GRADIENT_TYPES_NONE\n\u001b[0;32m   1347\u001b[0m     \u001b[38;5;129;01mand\u001b[39;00m executing_eagerly):\n\u001b[0;32m   1348\u001b[0m   \u001b[38;5;66;03m# No tape is watching; skip to running the function.\u001b[39;00m\n\u001b[1;32m-> 1349\u001b[0m   \u001b[38;5;28;01mreturn\u001b[39;00m \u001b[38;5;28mself\u001b[39m\u001b[38;5;241m.\u001b[39m_build_call_outputs(\u001b[38;5;28;43mself\u001b[39;49m\u001b[38;5;241;43m.\u001b[39;49m\u001b[43m_inference_function\u001b[49m\u001b[43m(\u001b[49m\u001b[38;5;241;43m*\u001b[39;49m\u001b[43margs\u001b[49m\u001b[43m)\u001b[49m)\n\u001b[0;32m   1350\u001b[0m forward_backward \u001b[38;5;241m=\u001b[39m \u001b[38;5;28mself\u001b[39m\u001b[38;5;241m.\u001b[39m_select_forward_and_backward_functions(\n\u001b[0;32m   1351\u001b[0m     args,\n\u001b[0;32m   1352\u001b[0m     possible_gradient_type,\n\u001b[0;32m   1353\u001b[0m     executing_eagerly)\n\u001b[0;32m   1354\u001b[0m forward_function, args_with_tangents \u001b[38;5;241m=\u001b[39m forward_backward\u001b[38;5;241m.\u001b[39mforward()\n",
      "File \u001b[1;32m~\\AppData\\Local\\Programs\\Python\\Python311\\Lib\\site-packages\\tensorflow\\python\\eager\\polymorphic_function\\atomic_function.py:196\u001b[0m, in \u001b[0;36mAtomicFunction.__call__\u001b[1;34m(self, *args)\u001b[0m\n\u001b[0;32m    194\u001b[0m \u001b[38;5;28;01mwith\u001b[39;00m record\u001b[38;5;241m.\u001b[39mstop_recording():\n\u001b[0;32m    195\u001b[0m   \u001b[38;5;28;01mif\u001b[39;00m \u001b[38;5;28mself\u001b[39m\u001b[38;5;241m.\u001b[39m_bound_context\u001b[38;5;241m.\u001b[39mexecuting_eagerly():\n\u001b[1;32m--> 196\u001b[0m     outputs \u001b[38;5;241m=\u001b[39m \u001b[38;5;28;43mself\u001b[39;49m\u001b[38;5;241;43m.\u001b[39;49m\u001b[43m_bound_context\u001b[49m\u001b[38;5;241;43m.\u001b[39;49m\u001b[43mcall_function\u001b[49m\u001b[43m(\u001b[49m\n\u001b[0;32m    197\u001b[0m \u001b[43m        \u001b[49m\u001b[38;5;28;43mself\u001b[39;49m\u001b[38;5;241;43m.\u001b[39;49m\u001b[43mname\u001b[49m\u001b[43m,\u001b[49m\n\u001b[0;32m    198\u001b[0m \u001b[43m        \u001b[49m\u001b[38;5;28;43mlist\u001b[39;49m\u001b[43m(\u001b[49m\u001b[43margs\u001b[49m\u001b[43m)\u001b[49m\u001b[43m,\u001b[49m\n\u001b[0;32m    199\u001b[0m \u001b[43m        \u001b[49m\u001b[38;5;28;43mlen\u001b[39;49m\u001b[43m(\u001b[49m\u001b[38;5;28;43mself\u001b[39;49m\u001b[38;5;241;43m.\u001b[39;49m\u001b[43mfunction_type\u001b[49m\u001b[38;5;241;43m.\u001b[39;49m\u001b[43mflat_outputs\u001b[49m\u001b[43m)\u001b[49m\u001b[43m,\u001b[49m\n\u001b[0;32m    200\u001b[0m \u001b[43m    \u001b[49m\u001b[43m)\u001b[49m\n\u001b[0;32m    201\u001b[0m   \u001b[38;5;28;01melse\u001b[39;00m:\n\u001b[0;32m    202\u001b[0m     outputs \u001b[38;5;241m=\u001b[39m make_call_op_in_graph(\u001b[38;5;28mself\u001b[39m, \u001b[38;5;28mlist\u001b[39m(args))\n",
      "File \u001b[1;32m~\\AppData\\Local\\Programs\\Python\\Python311\\Lib\\site-packages\\tensorflow\\python\\eager\\context.py:1457\u001b[0m, in \u001b[0;36mContext.call_function\u001b[1;34m(self, name, tensor_inputs, num_outputs)\u001b[0m\n\u001b[0;32m   1455\u001b[0m cancellation_context \u001b[38;5;241m=\u001b[39m cancellation\u001b[38;5;241m.\u001b[39mcontext()\n\u001b[0;32m   1456\u001b[0m \u001b[38;5;28;01mif\u001b[39;00m cancellation_context \u001b[38;5;129;01mis\u001b[39;00m \u001b[38;5;28;01mNone\u001b[39;00m:\n\u001b[1;32m-> 1457\u001b[0m   outputs \u001b[38;5;241m=\u001b[39m \u001b[43mexecute\u001b[49m\u001b[38;5;241;43m.\u001b[39;49m\u001b[43mexecute\u001b[49m\u001b[43m(\u001b[49m\n\u001b[0;32m   1458\u001b[0m \u001b[43m      \u001b[49m\u001b[43mname\u001b[49m\u001b[38;5;241;43m.\u001b[39;49m\u001b[43mdecode\u001b[49m\u001b[43m(\u001b[49m\u001b[38;5;124;43m\"\u001b[39;49m\u001b[38;5;124;43mutf-8\u001b[39;49m\u001b[38;5;124;43m\"\u001b[39;49m\u001b[43m)\u001b[49m\u001b[43m,\u001b[49m\n\u001b[0;32m   1459\u001b[0m \u001b[43m      \u001b[49m\u001b[43mnum_outputs\u001b[49m\u001b[38;5;241;43m=\u001b[39;49m\u001b[43mnum_outputs\u001b[49m\u001b[43m,\u001b[49m\n\u001b[0;32m   1460\u001b[0m \u001b[43m      \u001b[49m\u001b[43minputs\u001b[49m\u001b[38;5;241;43m=\u001b[39;49m\u001b[43mtensor_inputs\u001b[49m\u001b[43m,\u001b[49m\n\u001b[0;32m   1461\u001b[0m \u001b[43m      \u001b[49m\u001b[43mattrs\u001b[49m\u001b[38;5;241;43m=\u001b[39;49m\u001b[43mattrs\u001b[49m\u001b[43m,\u001b[49m\n\u001b[0;32m   1462\u001b[0m \u001b[43m      \u001b[49m\u001b[43mctx\u001b[49m\u001b[38;5;241;43m=\u001b[39;49m\u001b[38;5;28;43mself\u001b[39;49m\u001b[43m,\u001b[49m\n\u001b[0;32m   1463\u001b[0m \u001b[43m  \u001b[49m\u001b[43m)\u001b[49m\n\u001b[0;32m   1464\u001b[0m \u001b[38;5;28;01melse\u001b[39;00m:\n\u001b[0;32m   1465\u001b[0m   outputs \u001b[38;5;241m=\u001b[39m execute\u001b[38;5;241m.\u001b[39mexecute_with_cancellation(\n\u001b[0;32m   1466\u001b[0m       name\u001b[38;5;241m.\u001b[39mdecode(\u001b[38;5;124m\"\u001b[39m\u001b[38;5;124mutf-8\u001b[39m\u001b[38;5;124m\"\u001b[39m),\n\u001b[0;32m   1467\u001b[0m       num_outputs\u001b[38;5;241m=\u001b[39mnum_outputs,\n\u001b[1;32m   (...)\u001b[0m\n\u001b[0;32m   1471\u001b[0m       cancellation_manager\u001b[38;5;241m=\u001b[39mcancellation_context,\n\u001b[0;32m   1472\u001b[0m   )\n",
      "File \u001b[1;32m~\\AppData\\Local\\Programs\\Python\\Python311\\Lib\\site-packages\\tensorflow\\python\\eager\\execute.py:53\u001b[0m, in \u001b[0;36mquick_execute\u001b[1;34m(op_name, num_outputs, inputs, attrs, ctx, name)\u001b[0m\n\u001b[0;32m     51\u001b[0m \u001b[38;5;28;01mtry\u001b[39;00m:\n\u001b[0;32m     52\u001b[0m   ctx\u001b[38;5;241m.\u001b[39mensure_initialized()\n\u001b[1;32m---> 53\u001b[0m   tensors \u001b[38;5;241m=\u001b[39m \u001b[43mpywrap_tfe\u001b[49m\u001b[38;5;241;43m.\u001b[39;49m\u001b[43mTFE_Py_Execute\u001b[49m\u001b[43m(\u001b[49m\u001b[43mctx\u001b[49m\u001b[38;5;241;43m.\u001b[39;49m\u001b[43m_handle\u001b[49m\u001b[43m,\u001b[49m\u001b[43m \u001b[49m\u001b[43mdevice_name\u001b[49m\u001b[43m,\u001b[49m\u001b[43m \u001b[49m\u001b[43mop_name\u001b[49m\u001b[43m,\u001b[49m\n\u001b[0;32m     54\u001b[0m \u001b[43m                                      \u001b[49m\u001b[43minputs\u001b[49m\u001b[43m,\u001b[49m\u001b[43m \u001b[49m\u001b[43mattrs\u001b[49m\u001b[43m,\u001b[49m\u001b[43m \u001b[49m\u001b[43mnum_outputs\u001b[49m\u001b[43m)\u001b[49m\n\u001b[0;32m     55\u001b[0m \u001b[38;5;28;01mexcept\u001b[39;00m core\u001b[38;5;241m.\u001b[39m_NotOkStatusException \u001b[38;5;28;01mas\u001b[39;00m e:\n\u001b[0;32m     56\u001b[0m   \u001b[38;5;28;01mif\u001b[39;00m name \u001b[38;5;129;01mis\u001b[39;00m \u001b[38;5;129;01mnot\u001b[39;00m \u001b[38;5;28;01mNone\u001b[39;00m:\n",
      "\u001b[1;31mKeyboardInterrupt\u001b[0m: "
     ]
    }
   ],
   "source": [
    "BATCH_SIZE = 100 # 100\n",
    "biDirectionalNeurons = LOTTOSIZE*5 # We can play with this. \n",
    "EPOCHS = 100 # 100\n",
    "\n",
    "model = Sequential()\n",
    "\n",
    "model.add(Bidirectional(GRU(4, return_sequences=True), input_shape=(window_length, LOTTOSIZE)))\n",
    "model.add(Bidirectional(LSTM(biDirectionalNeurons, input_shape = (window_length, LOTTOSIZE), return_sequences = True)))\n",
    "model.add(Dropout(0.2))\n",
    "model.add(Bidirectional(LSTM(biDirectionalNeurons, input_shape = (window_length, LOTTOSIZE), return_sequences = True)))\n",
    "model.add(Dropout(0.2))\n",
    "model.add(Bidirectional(LSTM(biDirectionalNeurons, input_shape = (window_length, LOTTOSIZE), return_sequences = True)))\n",
    "model.add(Dropout(0.2))\n",
    "model.add(Bidirectional(LSTM(biDirectionalNeurons, input_shape = (window_length, LOTTOSIZE), return_sequences = False)))\n",
    "#model.add(Dense(90))\n",
    "model.add(Dense(tip[1],activation='sigmoid'))\n",
    "\n",
    "# model.compile(optimizer=Adam(learning_rate=0.0001), loss ='categorical_crossentropy', metrics=['accuracy']) #for binary numbers\n",
    "# model.compile(optimizer=Adam(learning_rate=0.0001), loss='binary_crossentropy', metrics=['accuracy']) # for whatever reasones\n",
    "model.compile(optimizer=Adam(learning_rate=0.0001), loss='mean_squared_error', metrics=['accuracy']) # for numbers between 0 nad 90\n",
    "\n",
    "history = model.fit(x=X, y=y, batch_size=BATCH_SIZE, epochs=EPOCHS, verbose=2)\n",
    "\n",
    "X_sample = X[0].reshape(1, window_length, tip[1])\n",
    "print(model.predict(X_sample))\n",
    "\n",
    "mf.plotTrainingHistory(history)"
   ]
  },
  {
   "cell_type": "code",
   "execution_count": 123,
   "id": "b30c93b2-bcc4-4d62-803a-12b9c0fbd337",
   "metadata": {},
   "outputs": [
    {
     "name": "stdout",
     "output_type": "stream",
     "text": [
      "1/1 [==============================] - 2s 2s/step\n",
      "[[[ 0.7176677   0.35877034 -0.05154084  0.59601676  0.910071  ]\n",
      "  [ 0.8360099   0.08457763 -0.12732844  0.5612186   0.97027487]\n",
      "  [ 0.9107233  -0.07855833 -0.11235988  0.45339745  0.97366154]\n",
      "  [ 0.81269205 -0.00950749  0.02351335  0.4211741   1.019437  ]\n",
      "  [ 0.6967037  -0.02237226  0.12428887  0.34347004  1.0488539 ]\n",
      "  [ 0.6417426  -0.01656725  0.16770521  0.25911838  1.0786625 ]\n",
      "  [ 0.4364555   0.22777371  0.26216424  0.36471313  1.2159626 ]\n",
      "  [ 0.40797633  0.24439538  0.28113732  0.38817745  1.2940286 ]\n",
      "  [ 0.43720162  0.25356302  0.28194296  0.41963404  1.3195149 ]\n",
      "  [ 0.530188    0.19397572  0.23249823  0.3951531   1.3333802 ]\n",
      "  [ 0.47987127  0.26422578  0.25513673  0.486621    1.4345078 ]\n",
      "  [ 0.39906347  0.30178288  0.27679473  0.50746197  1.4625928 ]\n",
      "  [ 0.3511904   0.30543643  0.27121216  0.5122521   1.4565772 ]\n",
      "  [ 0.3028031   0.2944385   0.30510336  0.5258594   1.5583605 ]\n",
      "  [ 0.28948367  0.28433847  0.26169845  0.55165386  1.561666  ]\n",
      "  [ 0.3550666   0.19704364  0.19240433  0.54005986  1.5169284 ]\n",
      "  [ 0.5163609   0.00985821  0.08356535  0.48355538  1.4244218 ]\n",
      "  [ 0.39764768  0.08210731  0.13146403  0.48803332  1.3704515 ]\n",
      "  [ 0.2848971   0.05088275  0.07783446  0.41076645  1.2066357 ]\n",
      "  [ 0.12538642  0.07036189  0.10550168  0.31811005  0.9889746 ]\n",
      "  [ 0.03018185  0.01286106 -0.00328657  0.21428585  0.5605618 ]]]\n"
     ]
    }
   ],
   "source": [
    "import numpy as np\n",
    "from keras.models import Sequential\n",
    "from keras.layers import Bidirectional, GRU, Dense\n",
    "from keras.optimizers import Adam\n",
    "import matplotlib.pyplot as plt\n",
    "\n",
    "# Assuming you have already loaded and preprocessed your data into X and y\n",
    "# X should be in the shape: (number_of_samples, window_length, number_of_features)\n",
    "# y should be in the shape: (number_of_samples, number_of_features)\n",
    "\n",
    "model = Sequential()\n",
    "model.add(Bidirectional(GRU(45, return_sequences=True), input_shape=(window_length, LOTTOSIZE)))\n",
    "model.add(Bidirectional(GRU(45, return_sequences=True)))\n",
    "model.add(Bidirectional(GRU(4, return_sequences=True)))\n",
    "model.add(Dense(tip[1], activation='linear'))  # Use 'linear' activation for regression\n",
    "\n",
    "# Compile the model\n",
    "model.compile(optimizer=Adam(learning_rate=0.0001), loss='mean_squared_error', metrics=['mean_absolute_error'])\n",
    "\n",
    "# Fit the model\n",
    "#history = model.fit(x=X, y=y, batch_size=BATCH_SIZE, epochs=EPOCHS, verbose=2)\n",
    "\n",
    "# Make a prediction\n",
    "X_sample = X[0].reshape(1, window_length, tip[1])\n",
    "predictions = model.predict(X_sample)\n",
    "\n",
    "print(predictions)\n"
   ]
  },
  {
   "cell_type": "code",
   "execution_count": 144,
   "id": "dbc7940c-7e15-45db-84eb-9d833fb941e0",
   "metadata": {},
   "outputs": [
    {
     "data": {
      "text/plain": [
       "45"
      ]
     },
     "execution_count": 144,
     "metadata": {},
     "output_type": "execute_result"
    }
   ],
   "source": [
    "LOTTO"
   ]
  },
  {
   "cell_type": "markdown",
   "id": "9b32086a-4012-46a0-9110-8f2eb7001783",
   "metadata": {},
   "source": [
    "# NN2"
   ]
  },
  {
   "cell_type": "code",
   "execution_count": 154,
   "id": "880b027a-99b9-489e-b0cd-9d76cd97c512",
   "metadata": {},
   "outputs": [
    {
     "name": "stdout",
     "output_type": "stream",
     "text": [
      "Epoch 1/10\n",
      "5/5 - 9s - loss: 2545.3760 - mean_absolute_error: 43.4446 - 9s/epoch - 2s/step\n",
      "Epoch 2/10\n",
      "5/5 - 1s - loss: 2541.7332 - mean_absolute_error: 43.4104 - 1s/epoch - 250ms/step\n",
      "Epoch 3/10\n",
      "5/5 - 1s - loss: 2538.1140 - mean_absolute_error: 43.3755 - 1s/epoch - 250ms/step\n",
      "Epoch 4/10\n",
      "5/5 - 1s - loss: 2534.4993 - mean_absolute_error: 43.3397 - 1s/epoch - 256ms/step\n",
      "Epoch 5/10\n",
      "5/5 - 1s - loss: 2530.9116 - mean_absolute_error: 43.3030 - 1s/epoch - 256ms/step\n",
      "Epoch 6/10\n",
      "5/5 - 1s - loss: 2527.4670 - mean_absolute_error: 43.2662 - 1s/epoch - 250ms/step\n",
      "Epoch 7/10\n",
      "5/5 - 1s - loss: 2524.2349 - mean_absolute_error: 43.2303 - 1s/epoch - 250ms/step\n",
      "Epoch 8/10\n",
      "5/5 - 1s - loss: 2521.3477 - mean_absolute_error: 43.1962 - 1s/epoch - 250ms/step\n",
      "Epoch 9/10\n",
      "5/5 - 1s - loss: 2518.8794 - mean_absolute_error: 43.1654 - 1s/epoch - 257ms/step\n",
      "Epoch 10/10\n",
      "5/5 - 1s - loss: 2516.8215 - mean_absolute_error: 43.1385 - 1s/epoch - 249ms/step\n"
     ]
    }
   ],
   "source": [
    "LOTTO = 90\n",
    "BATCH_SIZE = 100 # 100\n",
    "biDirectionalNeurons = LOTTO # \n",
    "EPOCHS = 10 # 100\n",
    "\n",
    "model = Sequential()\n",
    "\n",
    "model.add(Bidirectional(GRU(4, return_sequences=True), input_shape=(window_length, tip[1])))\n",
    "model.add(Bidirectional(GRU(45, return_sequences=True), input_shape=(window_length, 90)))\n",
    "#model.add(Bidirectional(GRU(4, return_sequences=True), input_shape=(window_length, 90)))\n",
    "model.add(Bidirectional(LSTM(biDirectionalNeurons, input_shape = (window_length, LOTTO), return_sequences = False)))\n",
    "model.add(Dense(tip[1],activation='sigmoid'))\n",
    "\n",
    "#model.compile(optimizer=Adam(learning_rate=0.0001), loss ='categorical_crossentropy', metrics=['accuracy'])\n",
    "model.compile(optimizer=Adam(learning_rate=0.0001), loss='mean_squared_error', metrics=['mean_absolute_error'])\n",
    "\n",
    "history = model.fit(x=X, y=y, batch_size=BATCH_SIZE, epochs=EPOCHS, verbose=2)"
   ]
  },
  {
   "cell_type": "code",
   "execution_count": 159,
   "id": "d040b853-0a3b-4adb-a24f-1578957409f2",
   "metadata": {},
   "outputs": [
    {
     "data": {
      "text/plain": [
       "<keras.src.callbacks.History at 0x167ea4e3d10>"
      ]
     },
     "execution_count": 159,
     "metadata": {},
     "output_type": "execute_result"
    }
   ],
   "source": [
    "history"
   ]
  },
  {
   "cell_type": "code",
   "execution_count": 156,
   "id": "4a66e002-9f28-4ed7-9c56-f9ecf1bc252d",
   "metadata": {},
   "outputs": [
    {
     "name": "stdout",
     "output_type": "stream",
     "text": [
      "1/1 [==============================] - 2s 2s/step\n"
     ]
    },
    {
     "data": {
      "text/plain": [
       "array([[0.8305661 , 0.81018466, 0.9215216 , 0.954499  , 0.9501319 ]],\n",
       "      dtype=float32)"
      ]
     },
     "execution_count": 156,
     "metadata": {},
     "output_type": "execute_result"
    }
   ],
   "source": [
    "X_sample = X[0].reshape(1, window_length, tip[1])\n",
    "model.predict(X_sample)"
   ]
  },
  {
   "cell_type": "code",
   "execution_count": 42,
   "id": "74f9cb3e-8d0e-4ee4-a106-6d2d5fe73d5e",
   "metadata": {},
   "outputs": [
    {
     "ename": "AttributeError",
     "evalue": "'numpy.ndarray' object has no attribute 'values'",
     "output_type": "error",
     "traceback": [
      "\u001b[1;31m---------------------------------------------------------------------------\u001b[0m",
      "\u001b[1;31mAttributeError\u001b[0m                            Traceback (most recent call last)",
      "Cell \u001b[1;32mIn[42], line 1\u001b[0m\n\u001b[1;32m----> 1\u001b[0m model\u001b[38;5;241m.\u001b[39mpredict(\u001b[43mX\u001b[49m\u001b[43m[\u001b[49m\u001b[38;5;241;43m0\u001b[39;49m\u001b[43m]\u001b[49m\u001b[38;5;241;43m.\u001b[39;49m\u001b[43mvalues\u001b[49m)\n",
      "\u001b[1;31mAttributeError\u001b[0m: 'numpy.ndarray' object has no attribute 'values'"
     ]
    }
   ],
   "source": [
    "model.predict(X[0].values)"
   ]
  },
  {
   "cell_type": "code",
   "execution_count": 89,
   "id": "8c681799-c0a1-45a3-a698-b5ad0d47212f",
   "metadata": {},
   "outputs": [
    {
     "name": "stdout",
     "output_type": "stream",
     "text": [
      "Num GPUs Available:  0\n"
     ]
    }
   ],
   "source": [
    "print(\"Num GPUs Available: \", len(tf.config.list_physical_devices('GPU')))"
   ]
  },
  {
   "cell_type": "code",
   "execution_count": 158,
   "id": "d7302998-dfd5-4eec-be7e-6aa8aad453c7",
   "metadata": {},
   "outputs": [
    {
     "name": "stdout",
     "output_type": "stream",
     "text": [
      "Unexpected exception formatting exception. Falling back to standard exception\n"
     ]
    },
    {
     "name": "stderr",
     "output_type": "stream",
     "text": [
      "Traceback (most recent call last):\n",
      "  File \"C:\\Users\\Gergo Gyori\\AppData\\Local\\Programs\\Python\\Python311\\Lib\\site-packages\\IPython\\core\\interactiveshell.py\", line 3508, in run_code\n",
      "    exec(code_obj, self.user_global_ns, self.user_ns)\n",
      "  File \"C:\\Users\\Gergo Gyori\\AppData\\Local\\Temp\\ipykernel_16060\\4054057160.py\", line 1, in <module>\n",
      "    mf.plotTrainingHistory(history)\n",
      "  File \"D:\\GITHUB\\Mounika-Tarsasjatek\\Lotto2\\lottoMainFunctions.py\", line 36, in plotTrainingHistory\n",
      "KeyError: 'accuracy'\n",
      "\n",
      "During handling of the above exception, another exception occurred:\n",
      "\n",
      "Traceback (most recent call last):\n",
      "  File \"C:\\Users\\Gergo Gyori\\AppData\\Local\\Programs\\Python\\Python311\\Lib\\site-packages\\IPython\\core\\interactiveshell.py\", line 2105, in showtraceback\n",
      "    stb = self.InteractiveTB.structured_traceback(\n",
      "          ^^^^^^^^^^^^^^^^^^^^^^^^^^^^^^^^^^^^^^^^\n",
      "  File \"C:\\Users\\Gergo Gyori\\AppData\\Local\\Programs\\Python\\Python311\\Lib\\site-packages\\IPython\\core\\ultratb.py\", line 1428, in structured_traceback\n",
      "    return FormattedTB.structured_traceback(\n",
      "           ^^^^^^^^^^^^^^^^^^^^^^^^^^^^^^^^^\n",
      "  File \"C:\\Users\\Gergo Gyori\\AppData\\Local\\Programs\\Python\\Python311\\Lib\\site-packages\\IPython\\core\\ultratb.py\", line 1319, in structured_traceback\n",
      "    return VerboseTB.structured_traceback(\n",
      "           ^^^^^^^^^^^^^^^^^^^^^^^^^^^^^^^\n",
      "  File \"C:\\Users\\Gergo Gyori\\AppData\\Local\\Programs\\Python\\Python311\\Lib\\site-packages\\IPython\\core\\ultratb.py\", line 1172, in structured_traceback\n",
      "    formatted_exception = self.format_exception_as_a_whole(etype, evalue, etb, number_of_lines_of_context,\n",
      "                          ^^^^^^^^^^^^^^^^^^^^^^^^^^^^^^^^^^^^^^^^^^^^^^^^^^^^^^^^^^^^^^^^^^^^^^^^^^^^^^^^\n",
      "  File \"C:\\Users\\Gergo Gyori\\AppData\\Local\\Programs\\Python\\Python311\\Lib\\site-packages\\IPython\\core\\ultratb.py\", line 1087, in format_exception_as_a_whole\n",
      "    frames.append(self.format_record(record))\n",
      "                  ^^^^^^^^^^^^^^^^^^^^^^^^^^\n",
      "  File \"C:\\Users\\Gergo Gyori\\AppData\\Local\\Programs\\Python\\Python311\\Lib\\site-packages\\IPython\\core\\ultratb.py\", line 969, in format_record\n",
      "    frame_info.lines, Colors, self.has_colors, lvals\n",
      "    ^^^^^^^^^^^^^^^^\n",
      "  File \"C:\\Users\\Gergo Gyori\\AppData\\Local\\Programs\\Python\\Python311\\Lib\\site-packages\\IPython\\core\\ultratb.py\", line 792, in lines\n",
      "    return self._sd.lines\n",
      "           ^^^^^^^^^^^^^^\n",
      "  File \"C:\\Users\\Gergo Gyori\\AppData\\Local\\Programs\\Python\\Python311\\Lib\\site-packages\\stack_data\\utils.py\", line 144, in cached_property_wrapper\n",
      "    value = obj.__dict__[self.func.__name__] = self.func(obj)\n",
      "                                               ^^^^^^^^^^^^^^\n",
      "  File \"C:\\Users\\Gergo Gyori\\AppData\\Local\\Programs\\Python\\Python311\\Lib\\site-packages\\stack_data\\core.py\", line 734, in lines\n",
      "    pieces = self.included_pieces\n",
      "             ^^^^^^^^^^^^^^^^^^^^\n",
      "  File \"C:\\Users\\Gergo Gyori\\AppData\\Local\\Programs\\Python\\Python311\\Lib\\site-packages\\stack_data\\utils.py\", line 144, in cached_property_wrapper\n",
      "    value = obj.__dict__[self.func.__name__] = self.func(obj)\n",
      "                                               ^^^^^^^^^^^^^^\n",
      "  File \"C:\\Users\\Gergo Gyori\\AppData\\Local\\Programs\\Python\\Python311\\Lib\\site-packages\\stack_data\\core.py\", line 681, in included_pieces\n",
      "    pos = scope_pieces.index(self.executing_piece)\n",
      "                             ^^^^^^^^^^^^^^^^^^^^\n",
      "  File \"C:\\Users\\Gergo Gyori\\AppData\\Local\\Programs\\Python\\Python311\\Lib\\site-packages\\stack_data\\utils.py\", line 144, in cached_property_wrapper\n",
      "    value = obj.__dict__[self.func.__name__] = self.func(obj)\n",
      "                                               ^^^^^^^^^^^^^^\n",
      "  File \"C:\\Users\\Gergo Gyori\\AppData\\Local\\Programs\\Python\\Python311\\Lib\\site-packages\\stack_data\\core.py\", line 660, in executing_piece\n",
      "    return only(\n",
      "           ^^^^^\n",
      "  File \"C:\\Users\\Gergo Gyori\\AppData\\Local\\Programs\\Python\\Python311\\Lib\\site-packages\\executing\\executing.py\", line 190, in only\n",
      "    raise NotOneValueFound('Expected one value, found 0')\n",
      "executing.executing.NotOneValueFound: Expected one value, found 0\n"
     ]
    }
   ],
   "source": [
    "mf.plotTrainingHistory(history)"
   ]
  },
  {
   "cell_type": "code",
   "execution_count": 71,
   "id": "17a71150-b49d-4054-83cf-2f1d6d3d47fb",
   "metadata": {},
   "outputs": [
    {
     "data": {
      "image/png": "[encoded data removed]",
      "text/plain": [
       "<Figure size 640x480 with 2 Axes>"
      ]
     },
     "metadata": {},
     "output_type": "display_data"
    }
   ],
   "source": [
    "# Create a figure and axis for the loss plot\n",
    "fig, ax1 = plt.subplots()\n",
    "\n",
    "# Plot the training loss on the left y-axis\n",
    "ax1.plot(range(1, len(training_loss) + 1), training_loss, label='Training Loss', color='b')\n",
    "ax1.set_xlabel('Epoch')\n",
    "ax1.set_ylabel('Loss', color='b')\n",
    "ax1.tick_params(axis='y', labelcolor='b')\n",
    "ax1.legend(loc='upper left')\n",
    "\n",
    "# Create a second axis for the accuracy plot, sharing the same x-axis\n",
    "ax2 = ax1.twinx()\n",
    "\n",
    "# Plot the training accuracy on the right y-axis\n",
    "ax2.plot(range(1, len(training_accuracy) + 1), training_accuracy, label='Training Accuracy', color='r')\n",
    "ax2.set_ylabel('Accuracy', color='r')\n",
    "ax2.tick_params(axis='y', labelcolor='r')\n",
    "ax2.legend(loc='upper right')\n",
    "\n",
    "plt.title('Training Loss and Accuracy')\n",
    "plt.show()"
   ]
  },
  {
   "cell_type": "code",
   "execution_count": null,
   "id": "ad66f172-0a89-466b-8be9-c16ae9982cc6",
   "metadata": {},
   "outputs": [],
   "source": []
  }
 ],
 "metadata": {
  "kernelspec": {
   "display_name": "Python 3 (ipykernel)",
   "language": "python",
   "name": "python3"
  },
  "language_info": {
   "codemirror_mode": {
    "name": "ipython",
    "version": 3
   },
   "file_extension": ".py",
   "mimetype": "text/x-python",
   "name": "python",
   "nbconvert_exporter": "python",
   "pygments_lexer": "ipython3",
   "version": "3.11.4"
  }
 },
 "nbformat": 4,
 "nbformat_minor": 5
}
