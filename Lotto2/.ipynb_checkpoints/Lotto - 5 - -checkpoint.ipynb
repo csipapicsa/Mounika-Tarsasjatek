{
 "cells": [
  {
   "cell_type": "code",
   "execution_count": 7,
   "id": "39fe9eea-dd34-4269-a172-8d181846cefa",
   "metadata": {},
   "outputs": [],
   "source": [
    "import tensorflow as tf\n",
    "from tensorflow import keras\n",
    "from tensorflow.keras.models import Sequential\n",
    "from tensorflow.keras.layers import Dense, LSTM, Bidirectional, Dropout, GRU\n",
    "from tensorflow.keras.optimizers import Adam\n",
    "\n",
    "from sklearn.preprocessing import MinMaxScaler"
   ]
  },
  {
   "cell_type": "code",
   "execution_count": 84,
   "id": "d2ce819e-d72a-40a5-96ec-3c0560a7a16e",
   "metadata": {},
   "outputs": [],
   "source": [
    "import numpy as np\n",
    "import pandas as pd\n",
    "import matplotlib.pyplot as plt\n",
    "\n",
    "import lottoMainFunctions as mf\n",
    "\n",
    "from tensorflow.keras.callbacks import ReduceLROnPlateau\n"
   ]
  },
  {
   "cell_type": "code",
   "execution_count": 83,
   "id": "dc0345f9-ef0a-47e4-82e4-b5d5033b607d",
   "metadata": {},
   "outputs": [],
   "source": [
    "import importlib as i"
   ]
  },
  {
   "cell_type": "code",
   "execution_count": 4,
   "id": "a6ae9370-3012-41d1-82ec-8a9c8cf2a73b",
   "metadata": {},
   "outputs": [
    {
     "data": {
      "text/plain": [
       "<module 'lottoMainFunctions' from 'D:\\\\GITHUB\\\\Mounika-Tarsasjatek\\\\Lotto2\\\\lottoMainFunctions.py'>"
      ]
     },
     "execution_count": 4,
     "metadata": {},
     "output_type": "execute_result"
    }
   ],
   "source": [
    "i.reload(mf)"
   ]
  },
  {
   "cell_type": "code",
   "execution_count": 73,
   "id": "2d3de0f6-2be1-4d14-bb89-19d9d39b1ca1",
   "metadata": {},
   "outputs": [],
   "source": [
    "tip =  \"ötös\", 5\n",
    "df, dfRaw = mf.getLotto(mf.getLottoDB(tip[0]), type=tip[0])\n",
    "Years = 30\n",
    "# cut\n",
    "dfRaw = dfRaw[0:(Years*52)]"
   ]
  },
  {
   "cell_type": "markdown",
   "id": "356c9939-8bbf-4dc9-9c95-96b941958596",
   "metadata": {},
   "source": [
    "# One Hot Encoder"
   ]
  },
  {
   "cell_type": "code",
   "execution_count": 46,
   "id": "80a58a3f-3a75-4015-bd74-cc82911de99e",
   "metadata": {
    "scrolled": true
   },
   "outputs": [
    {
     "data": {
      "text/plain": [
       "<tf.Tensor: shape=(1, 5), dtype=float32, numpy=array([[0., 0., 0., 0., 0.]], dtype=float32)>"
      ]
     },
     "execution_count": 46,
     "metadata": {},
     "output_type": "execute_result"
    }
   ],
   "source": [
    "one_hot_encoded = tf.one_hot(dfRaw, depth=90)\n",
    "transformed_array = tf.reduce_max(one_hot_encoded, axis=1)\n",
    "transformed_array[1+14:1+14+1,0:5]"
   ]
  },
  {
   "cell_type": "code",
   "execution_count": 70,
   "id": "7b14554d-ab0d-4de5-9b95-6c2873d8b17d",
   "metadata": {},
   "outputs": [
    {
     "data": {
      "text/plain": [
       "<tf.Tensor: shape=(90,), dtype=float32, numpy=\n",
       "array([0., 0., 0., 0., 0., 0., 0., 0., 0., 0., 0., 0., 0., 0., 0., 0., 0.,\n",
       "       0., 0., 0., 0., 0., 0., 0., 0., 0., 0., 0., 0., 0., 0., 0., 0., 0.,\n",
       "       0., 0., 0., 0., 0., 0., 0., 0., 0., 0., 0., 0., 0., 0., 0., 0., 0.,\n",
       "       1., 0., 0., 0., 0., 0., 0., 0., 0., 0., 1., 0., 1., 0., 0., 0., 1.,\n",
       "       0., 0., 0., 0., 0., 0., 0., 1., 0., 0., 0., 0., 0., 0., 0., 0., 0.,\n",
       "       0., 0., 0., 0., 0.], dtype=float32)>"
      ]
     },
     "execution_count": 70,
     "metadata": {},
     "output_type": "execute_result"
    }
   ],
   "source": [
    "transformed_array[0]"
   ]
  },
  {
   "cell_type": "code",
   "execution_count": 67,
   "id": "44462f77-9da0-48ec-9481-bb53a42383cd",
   "metadata": {},
   "outputs": [
    {
     "data": {
      "text/plain": [
       "3471"
      ]
     },
     "execution_count": 67,
     "metadata": {},
     "output_type": "execute_result"
    }
   ],
   "source": [
    "df.shape[0]"
   ]
  },
  {
   "cell_type": "code",
   "execution_count": 72,
   "id": "e953f6e0-86cb-43dc-af98-ae6bcc7dcbfb",
   "metadata": {},
   "outputs": [
    {
     "data": {
      "text/plain": [
       "array([51, 61, 63, 67, 75], dtype=int64)"
      ]
     },
     "execution_count": 72,
     "metadata": {},
     "output_type": "execute_result"
    }
   ],
   "source": [
    "dfRaw[0]"
   ]
  },
  {
   "cell_type": "markdown",
   "id": "3a8462ce-d201-41a5-a44f-c1c25790eb8c",
   "metadata": {},
   "source": [
    "# No encoder"
   ]
  },
  {
   "cell_type": "code",
   "execution_count": 78,
   "id": "55fbab84-b28e-4e5b-988e-80b3ef25a908",
   "metadata": {},
   "outputs": [],
   "source": [
    "transformed_array = dfRaw\n",
    "LOTTOSIZE = 5"
   ]
  },
  {
   "cell_type": "markdown",
   "id": "1803ce09-506f-438a-a4e1-dbbf9074455e",
   "metadata": {},
   "source": [
    "# MinMaxScalar"
   ]
  },
  {
   "cell_type": "code",
   "execution_count": 74,
   "id": "06565f09-a39e-4216-b31b-e88ac7d68590",
   "metadata": {},
   "outputs": [],
   "source": [
    "# Initialize the MinMaxScaler\n",
    "scaler = MinMaxScaler()\n",
    "LOTTOSIZE = 5\n",
    "transformed_array = scaler.fit_transform(dfRaw)"
   ]
  },
  {
   "cell_type": "markdown",
   "id": "ec63335d-bdeb-43fa-9dae-5a2398f104a5",
   "metadata": {},
   "source": [
    "## Prepare training"
   ]
  },
  {
   "cell_type": "code",
   "execution_count": 75,
   "id": "412d7686-1585-43ab-9bb0-b328369ed4e4",
   "metadata": {},
   "outputs": [],
   "source": [
    "window_length = 21 # weeks\n",
    "# Balls counts\n",
    "number_of_features = tip[1] # how many ball, 5, 6 \n",
    "number_of_rows = transformed_array.shape[0]"
   ]
  },
  {
   "cell_type": "code",
   "execution_count": 76,
   "id": "11df2e53-2a6d-4d3e-8235-345140a2f9e1",
   "metadata": {},
   "outputs": [
    {
     "data": {
      "text/plain": [
       "array([[0.0483871 , 0.19480519, 0.61842105, 0.7027027 , 0.98360656],\n",
       "       [0.27419355, 0.51948052, 0.47368421, 0.44594595, 0.93442623],\n",
       "       [0.38709677, 0.44155844, 0.39473684, 0.48648649, 0.98360656],\n",
       "       [0.17741935, 0.45454545, 0.55263158, 0.7972973 , 0.78688525],\n",
       "       [0.37096774, 0.32467532, 0.55263158, 0.52702703, 0.68852459],\n",
       "       [0.4516129 , 0.42857143, 0.36842105, 0.44594595, 0.8852459 ],\n",
       "       [0.22580645, 0.31168831, 0.27631579, 0.47297297, 0.67213115],\n",
       "       [0.        , 0.23376623, 0.44736842, 0.37837838, 0.54098361],\n",
       "       [0.5483871 , 0.48051948, 0.94736842, 0.98648649, 1.        ],\n",
       "       [0.09677419, 0.11688312, 0.09210526, 0.54054054, 0.73770492],\n",
       "       [0.09677419, 0.14285714, 0.26315789, 0.43243243, 0.47540984],\n",
       "       [0.14516129, 0.19480519, 0.22368421, 0.2027027 , 0.8852459 ],\n",
       "       [0.22580645, 0.32467532, 0.60526316, 0.63513514, 0.7704918 ],\n",
       "       [0.29032258, 0.46753247, 0.59210526, 0.58108108, 0.68852459],\n",
       "       [0.08064516, 0.09090909, 0.35526316, 0.86486486, 0.91803279],\n",
       "       [0.19354839, 0.28571429, 0.34210526, 0.40540541, 0.49180328],\n",
       "       [0.41935484, 0.62337662, 0.75      , 0.7027027 , 0.8852459 ],\n",
       "       [0.38709677, 0.49350649, 0.52631579, 0.71621622, 0.86885246],\n",
       "       [0.01612903, 0.02597403, 0.47368421, 0.44594595, 0.72131148],\n",
       "       [0.01612903, 0.53246753, 0.84210526, 0.7972973 , 0.86885246],\n",
       "       [0.43548387, 0.45454545, 0.59210526, 0.71621622, 0.90163934]])"
      ]
     },
     "execution_count": 76,
     "metadata": {},
     "output_type": "execute_result"
    }
   ],
   "source": [
    "i = 10\n",
    "transformed_array[i : i + window_length]"
   ]
  },
  {
   "cell_type": "code",
   "execution_count": 77,
   "id": "cb39504d-168a-4ded-8fe7-66b4d7f8a495",
   "metadata": {},
   "outputs": [],
   "source": [
    "X = np.empty([number_of_rows - window_length, window_length, LOTTOSIZE], dtype=float)\n",
    "y = np.empty([number_of_rows - window_length, LOTTOSIZE], dtype=float)\n",
    "\n",
    "for i in range(0, number_of_rows - window_length):\n",
    "    #X[i] = transformed_df.iloc[i : i + window_length, 0 : number_of_features].values\n",
    "    #y[i] = transformed_df.iloc[i + window_length : i + window_length + 1, 0 : number_of_features].values\n",
    "    X[i] = transformed_array[i : i + window_length, 0 : LOTTOSIZE]\n",
    "    #X[i] = transformed_array[i : i + window_length]\n",
    "    y[i] = transformed_array[i + window_length : i + window_length + 1, 0 : LOTTOSIZE]\n",
    "    # y[i] = transformed_array[i + window_length : i + window_length + 1]"
   ]
  },
  {
   "cell_type": "markdown",
   "id": "60dd8670-251e-4b56-88db-fcbd073e3a57",
   "metadata": {},
   "source": [
    "# Focal LOSS"
   ]
  },
  {
   "cell_type": "code",
   "execution_count": 83,
   "id": "fe1d098b-dd28-4f9c-b15b-285284e79658",
   "metadata": {},
   "outputs": [
    {
     "ename": "ValueError",
     "evalue": "classes should include all valid labels that can be in y",
     "output_type": "error",
     "traceback": [
      "\u001b[1;31m---------------------------------------------------------------------------\u001b[0m",
      "\u001b[1;31mValueError\u001b[0m                                Traceback (most recent call last)",
      "Cell \u001b[1;32mIn[83], line 32\u001b[0m\n\u001b[0;32m     27\u001b[0m \u001b[38;5;66;03m# history = model.fit(x=X, y=y, batch_size=BATCH_SIZE, epochs=EPOCHS, verbose=2)\u001b[39;00m\n\u001b[0;32m     28\u001b[0m \n\u001b[0;32m     29\u001b[0m \u001b[38;5;66;03m# Calculate class weights\u001b[39;00m\n\u001b[0;32m     30\u001b[0m \u001b[38;5;28;01mfrom\u001b[39;00m \u001b[38;5;21;01msklearn\u001b[39;00m\u001b[38;5;21;01m.\u001b[39;00m\u001b[38;5;21;01mutils\u001b[39;00m\u001b[38;5;21;01m.\u001b[39;00m\u001b[38;5;21;01mclass_weight\u001b[39;00m \u001b[38;5;28;01mimport\u001b[39;00m compute_class_weight\n\u001b[1;32m---> 32\u001b[0m class_weights \u001b[38;5;241m=\u001b[39m \u001b[43mcompute_class_weight\u001b[49m\u001b[43m(\u001b[49m\u001b[38;5;124;43m'\u001b[39;49m\u001b[38;5;124;43mbalanced\u001b[39;49m\u001b[38;5;124;43m'\u001b[39;49m\u001b[43m,\u001b[49m\u001b[43m \u001b[49m\u001b[43mclasses\u001b[49m\u001b[38;5;241;43m=\u001b[39;49m\u001b[43m[\u001b[49m\u001b[38;5;241;43m0\u001b[39;49m\u001b[43m,\u001b[49m\u001b[43m \u001b[49m\u001b[38;5;241;43m1\u001b[39;49m\u001b[43m]\u001b[49m\u001b[43m,\u001b[49m\u001b[43m \u001b[49m\u001b[43my\u001b[49m\u001b[38;5;241;43m=\u001b[39;49m\u001b[43my\u001b[49m\u001b[38;5;241;43m.\u001b[39;49m\u001b[43mflatten\u001b[49m\u001b[43m(\u001b[49m\u001b[43m)\u001b[49m\u001b[43m)\u001b[49m\n\u001b[0;32m     34\u001b[0m \u001b[38;5;66;03m# Fit the model with class weights\u001b[39;00m\n\u001b[0;32m     35\u001b[0m history \u001b[38;5;241m=\u001b[39m model\u001b[38;5;241m.\u001b[39mfit(x\u001b[38;5;241m=\u001b[39mX, y\u001b[38;5;241m=\u001b[39my, batch_size\u001b[38;5;241m=\u001b[39mBATCH_SIZE, epochs\u001b[38;5;241m=\u001b[39mEPOCHS, verbose\u001b[38;5;241m=\u001b[39m\u001b[38;5;241m2\u001b[39m, class_weight\u001b[38;5;241m=\u001b[39m\u001b[38;5;28mdict\u001b[39m(\u001b[38;5;28menumerate\u001b[39m(class_weights)))\n",
      "File \u001b[1;32m~\\AppData\\Local\\Programs\\Python\\Python311\\Lib\\site-packages\\sklearn\\utils\\class_weight.py:42\u001b[0m, in \u001b[0;36mcompute_class_weight\u001b[1;34m(class_weight, classes, y)\u001b[0m\n\u001b[0;32m     39\u001b[0m \u001b[38;5;28;01mfrom\u001b[39;00m \u001b[38;5;21;01m.\u001b[39;00m\u001b[38;5;21;01m.\u001b[39;00m\u001b[38;5;21;01mpreprocessing\u001b[39;00m \u001b[38;5;28;01mimport\u001b[39;00m LabelEncoder\n\u001b[0;32m     41\u001b[0m \u001b[38;5;28;01mif\u001b[39;00m \u001b[38;5;28mset\u001b[39m(y) \u001b[38;5;241m-\u001b[39m \u001b[38;5;28mset\u001b[39m(classes):\n\u001b[1;32m---> 42\u001b[0m     \u001b[38;5;28;01mraise\u001b[39;00m \u001b[38;5;167;01mValueError\u001b[39;00m(\u001b[38;5;124m\"\u001b[39m\u001b[38;5;124mclasses should include all valid labels that can be in y\u001b[39m\u001b[38;5;124m\"\u001b[39m)\n\u001b[0;32m     43\u001b[0m \u001b[38;5;28;01mif\u001b[39;00m class_weight \u001b[38;5;129;01mis\u001b[39;00m \u001b[38;5;28;01mNone\u001b[39;00m \u001b[38;5;129;01mor\u001b[39;00m \u001b[38;5;28mlen\u001b[39m(class_weight) \u001b[38;5;241m==\u001b[39m \u001b[38;5;241m0\u001b[39m:\n\u001b[0;32m     44\u001b[0m     \u001b[38;5;66;03m# uniform class weights\u001b[39;00m\n\u001b[0;32m     45\u001b[0m     weight \u001b[38;5;241m=\u001b[39m np\u001b[38;5;241m.\u001b[39mones(classes\u001b[38;5;241m.\u001b[39mshape[\u001b[38;5;241m0\u001b[39m], dtype\u001b[38;5;241m=\u001b[39mnp\u001b[38;5;241m.\u001b[39mfloat64, order\u001b[38;5;241m=\u001b[39m\u001b[38;5;124m\"\u001b[39m\u001b[38;5;124mC\u001b[39m\u001b[38;5;124m\"\u001b[39m)\n",
      "\u001b[1;31mValueError\u001b[0m: classes should include all valid labels that can be in y"
     ]
    }
   ],
   "source": [
    "\n",
    "BATCH_SIZE = 100 # 100\n",
    "biDirectionalNeurons = 90*1 # \n",
    "EPOCHS = 100 # 100\n",
    "\n",
    "model = Sequential()\n",
    "model.add(Bidirectional(LSTM(biDirectionalNeurons, input_shape = (window_length, LOTTOSIZE), return_sequences = True)))\n",
    "model.add(Dropout(0.2))\n",
    "model.add(Bidirectional(LSTM(biDirectionalNeurons, input_shape = (window_length, LOTTOSIZE), return_sequences = True)))\n",
    "model.add(Dropout(0.2))\n",
    "model.add(Bidirectional(LSTM(biDirectionalNeurons, input_shape = (window_length, LOTTOSIZE), return_sequences = True)))\n",
    "model.add(Bidirectional(LSTM(biDirectionalNeurons, input_shape = (window_length, LOTTOSIZE), return_sequences = False)))\n",
    "#model.add(Dense(90))\n",
    "model.add(Dense(LOTTOSIZE,activation='sigmoid'))\n",
    "\n",
    "def focal_loss(gamma=2.0, alpha=0.25):\n",
    "    def focal_loss_fixed(y_true, y_pred):\n",
    "        pt = y_pred * y_true + (1 - y_pred) * (1 - y_true)\n",
    "        focal_loss = -alpha * (1 - pt)**gamma * tf.math.log(pt + 1e-7)\n",
    "        return tf.reduce_mean(focal_loss)\n",
    "    return focal_loss_fixed\n",
    "\n",
    "\n",
    "#model.compile(optimizer=Adam(learning_rate=0.0001), loss ='categorical_crossentropy', metrics=['accuracy'])\n",
    "# Compile the model with focal loss\n",
    "model.compile(optimizer=Adam(learning_rate=0.0001), loss=focal_loss(), metrics=['accuracy'])\n",
    "\n",
    "# history = model.fit(x=X, y=y, batch_size=BATCH_SIZE, epochs=EPOCHS, verbose=2)\n",
    "\n",
    "# Calculate class weights\n",
    "from sklearn.utils.class_weight import compute_class_weight\n",
    "\n",
    "class_weights = compute_class_weight('balanced', classes=[0, 1], y=y.flatten())\n",
    "\n",
    "# Fit the model with class weights\n",
    "history = model.fit(x=X, y=y, batch_size=BATCH_SIZE, epochs=EPOCHS, verbose=2, class_weight=dict(enumerate(class_weights)))"
   ]
  },
  {
   "cell_type": "markdown",
   "id": "85b6b803-f937-499c-8aa5-d7c751722e6c",
   "metadata": {},
   "source": [
    "# NN1"
   ]
  },
  {
   "cell_type": "code",
   "execution_count": 40,
   "id": "1e065888-465a-4d4c-b34a-191c63c9c521",
   "metadata": {},
   "outputs": [],
   "source": [
    "LOTTOSIZE\n",
    "from tensorflow.keras.callbacks import TensorBoard\n"
   ]
  },
  {
   "cell_type": "code",
   "execution_count": 89,
   "id": "87fc34df-f9cf-4fd8-ad63-7a31aa2ad3be",
   "metadata": {},
   "outputs": [
    {
     "name": "stdout",
     "output_type": "stream",
     "text": [
      "Epoch 1/50\n",
      "16/16 - 6s - loss: 0.7018 - accuracy: 0.0565 - lr: 1.0000e-04 - 6s/epoch - 390ms/step\n",
      "Epoch 2/50\n",
      "16/16 - 0s - loss: 0.6938 - accuracy: 0.0559 - lr: 1.0000e-04 - 367ms/epoch - 23ms/step\n",
      "Epoch 3/50\n",
      "16/16 - 0s - loss: 0.6865 - accuracy: 0.0559 - lr: 1.0000e-04 - 367ms/epoch - 23ms/step\n",
      "Epoch 4/50\n",
      "16/16 - 0s - loss: 0.6809 - accuracy: 0.0565 - lr: 5.0000e-05 - 372ms/epoch - 23ms/step\n",
      "Epoch 5/50\n",
      "16/16 - 0s - loss: 0.6774 - accuracy: 0.0585 - lr: 5.0000e-05 - 364ms/epoch - 23ms/step\n",
      "Epoch 6/50\n",
      "16/16 - 0s - loss: 0.6737 - accuracy: 0.0591 - lr: 5.0000e-05 - 378ms/epoch - 24ms/step\n",
      "Epoch 7/50\n",
      "16/16 - 0s - loss: 0.6701 - accuracy: 0.0598 - lr: 5.0000e-05 - 369ms/epoch - 23ms/step\n",
      "Epoch 8/50\n",
      "16/16 - 0s - loss: 0.6664 - accuracy: 0.0643 - lr: 5.0000e-05 - 364ms/epoch - 23ms/step\n",
      "Epoch 9/50\n",
      "16/16 - 0s - loss: 0.6626 - accuracy: 0.0669 - lr: 5.0000e-05 - 351ms/epoch - 22ms/step\n",
      "Epoch 10/50\n",
      "16/16 - 0s - loss: 0.6588 - accuracy: 0.1261 - lr: 5.0000e-05 - 370ms/epoch - 23ms/step\n",
      "Epoch 11/50\n",
      "16/16 - 0s - loss: 0.6550 - accuracy: 0.3028 - lr: 5.0000e-05 - 416ms/epoch - 26ms/step\n",
      "Epoch 12/50\n",
      "16/16 - 0s - loss: 0.6511 - accuracy: 0.5510 - lr: 5.0000e-05 - 370ms/epoch - 23ms/step\n",
      "Epoch 13/50\n",
      "16/16 - 0s - loss: 0.6472 - accuracy: 0.7349 - lr: 5.0000e-05 - 367ms/epoch - 23ms/step\n",
      "Epoch 14/50\n",
      "16/16 - 0s - loss: 0.6435 - accuracy: 0.7537 - lr: 5.0000e-05 - 377ms/epoch - 24ms/step\n",
      "Epoch 15/50\n",
      "16/16 - 0s - loss: 0.6398 - accuracy: 0.7563 - lr: 5.0000e-05 - 356ms/epoch - 22ms/step\n",
      "Epoch 16/50\n",
      "16/16 - 0s - loss: 0.6365 - accuracy: 0.7563 - lr: 5.0000e-05 - 370ms/epoch - 23ms/step\n",
      "Epoch 17/50\n",
      "16/16 - 0s - loss: 0.6334 - accuracy: 0.7563 - lr: 5.0000e-05 - 368ms/epoch - 23ms/step\n",
      "Epoch 18/50\n",
      "16/16 - 0s - loss: 0.6315 - accuracy: 0.7563 - lr: 2.5000e-05 - 354ms/epoch - 22ms/step\n",
      "Epoch 19/50\n",
      "16/16 - 0s - loss: 0.6301 - accuracy: 0.7563 - lr: 2.5000e-05 - 356ms/epoch - 22ms/step\n",
      "Epoch 20/50\n",
      "16/16 - 0s - loss: 0.6291 - accuracy: 0.7563 - lr: 1.2500e-05 - 360ms/epoch - 22ms/step\n",
      "Epoch 21/50\n",
      "16/16 - 0s - loss: 0.6287 - accuracy: 0.7563 - lr: 1.2500e-05 - 369ms/epoch - 23ms/step\n",
      "Epoch 22/50\n",
      "16/16 - 0s - loss: 0.6283 - accuracy: 0.7563 - lr: 1.0000e-05 - 376ms/epoch - 24ms/step\n",
      "Epoch 23/50\n",
      "16/16 - 0s - loss: 0.6279 - accuracy: 0.7563 - lr: 1.0000e-05 - 381ms/epoch - 24ms/step\n",
      "Epoch 24/50\n",
      "16/16 - 0s - loss: 0.6276 - accuracy: 0.7563 - lr: 1.0000e-05 - 356ms/epoch - 22ms/step\n",
      "Epoch 25/50\n",
      "16/16 - 0s - loss: 0.6271 - accuracy: 0.7563 - lr: 1.0000e-05 - 372ms/epoch - 23ms/step\n",
      "Epoch 26/50\n",
      "16/16 - 0s - loss: 0.6268 - accuracy: 0.7563 - lr: 1.0000e-05 - 365ms/epoch - 23ms/step\n",
      "Epoch 27/50\n",
      "16/16 - 0s - loss: 0.6264 - accuracy: 0.7563 - lr: 1.0000e-05 - 383ms/epoch - 24ms/step\n",
      "Epoch 28/50\n",
      "16/16 - 0s - loss: 0.6261 - accuracy: 0.7563 - lr: 1.0000e-05 - 423ms/epoch - 26ms/step\n",
      "Epoch 29/50\n",
      "16/16 - 0s - loss: 0.6258 - accuracy: 0.7563 - lr: 1.0000e-05 - 384ms/epoch - 24ms/step\n",
      "Epoch 30/50\n",
      "16/16 - 0s - loss: 0.6256 - accuracy: 0.7563 - lr: 1.0000e-05 - 365ms/epoch - 23ms/step\n",
      "Epoch 31/50\n",
      "16/16 - 0s - loss: 0.6252 - accuracy: 0.7563 - lr: 1.0000e-05 - 374ms/epoch - 23ms/step\n",
      "Epoch 32/50\n",
      "16/16 - 0s - loss: 0.6250 - accuracy: 0.7563 - lr: 1.0000e-05 - 363ms/epoch - 23ms/step\n",
      "Epoch 33/50\n",
      "16/16 - 0s - loss: 0.6247 - accuracy: 0.7563 - lr: 1.0000e-05 - 364ms/epoch - 23ms/step\n",
      "Epoch 34/50\n",
      "16/16 - 0s - loss: 0.6245 - accuracy: 0.7563 - lr: 1.0000e-05 - 377ms/epoch - 24ms/step\n",
      "Epoch 35/50\n",
      "16/16 - 0s - loss: 0.6242 - accuracy: 0.7563 - lr: 1.0000e-05 - 386ms/epoch - 24ms/step\n",
      "Epoch 36/50\n",
      "16/16 - 0s - loss: 0.6240 - accuracy: 0.7563 - lr: 1.0000e-05 - 373ms/epoch - 23ms/step\n",
      "Epoch 37/50\n",
      "16/16 - 0s - loss: 0.6237 - accuracy: 0.7563 - lr: 1.0000e-05 - 363ms/epoch - 23ms/step\n",
      "Epoch 38/50\n",
      "16/16 - 0s - loss: 0.6236 - accuracy: 0.7563 - lr: 1.0000e-05 - 440ms/epoch - 28ms/step\n",
      "Epoch 39/50\n",
      "16/16 - 0s - loss: 0.6234 - accuracy: 0.7563 - lr: 1.0000e-05 - 368ms/epoch - 23ms/step\n",
      "Epoch 40/50\n",
      "16/16 - 0s - loss: 0.6232 - accuracy: 0.7563 - lr: 1.0000e-05 - 386ms/epoch - 24ms/step\n",
      "Epoch 41/50\n",
      "16/16 - 0s - loss: 0.6231 - accuracy: 0.7563 - lr: 1.0000e-05 - 380ms/epoch - 24ms/step\n",
      "Epoch 42/50\n",
      "16/16 - 0s - loss: 0.6229 - accuracy: 0.7563 - lr: 1.0000e-05 - 375ms/epoch - 23ms/step\n",
      "Epoch 43/50\n",
      "16/16 - 0s - loss: 0.6227 - accuracy: 0.7563 - lr: 1.0000e-05 - 372ms/epoch - 23ms/step\n",
      "Epoch 44/50\n",
      "16/16 - 0s - loss: 0.6224 - accuracy: 0.7563 - lr: 1.0000e-05 - 386ms/epoch - 24ms/step\n",
      "Epoch 45/50\n",
      "16/16 - 0s - loss: 0.6225 - accuracy: 0.7563 - lr: 1.0000e-05 - 380ms/epoch - 24ms/step\n",
      "Epoch 46/50\n",
      "16/16 - 0s - loss: 0.6221 - accuracy: 0.7563 - lr: 1.0000e-05 - 372ms/epoch - 23ms/step\n",
      "Epoch 47/50\n",
      "16/16 - 0s - loss: 0.6222 - accuracy: 0.7563 - lr: 1.0000e-05 - 364ms/epoch - 23ms/step\n",
      "Epoch 48/50\n",
      "16/16 - 0s - loss: 0.6219 - accuracy: 0.7563 - lr: 1.0000e-05 - 376ms/epoch - 23ms/step\n",
      "Epoch 49/50\n",
      "16/16 - 0s - loss: 0.6220 - accuracy: 0.7563 - lr: 1.0000e-05 - 366ms/epoch - 23ms/step\n",
      "Epoch 50/50\n",
      "16/16 - 0s - loss: 0.6218 - accuracy: 0.7563 - lr: 1.0000e-05 - 388ms/epoch - 24ms/step\n",
      "1/1 [==============================] - 1s 1s/step\n",
      "[[0.24131155 0.35695073 0.510404   0.59749013 0.71304446]]\n"
     ]
    },
    {
     "data": {
      "text/plain": [
       "<module 'matplotlib.pyplot' from 'C:\\\\Users\\\\Gergo Gyori\\\\AppData\\\\Local\\\\Programs\\\\Python\\\\Python311\\\\Lib\\\\site-packages\\\\matplotlib\\\\pyplot.py'>"
      ]
     },
     "execution_count": 89,
     "metadata": {},
     "output_type": "execute_result"
    },
    {
     "data": {
      "image/png": "[encoded data removed]",
      "text/plain": [
       "<Figure size 640x480 with 2 Axes>"
      ]
     },
     "metadata": {},
     "output_type": "display_data"
    }
   ],
   "source": [
    "BATCH_SIZE = 100 # 100\n",
    "biDirectionalNeurons = 25 # We can play with this. \n",
    "EPOCHS = 50 # 100\n",
    "#%tensorboard --logdir logs  # Specify the same log directory path as used in the callback\n",
    "\n",
    "model = Sequential()\n",
    "\n",
    "model.add(Bidirectional(GRU(4, return_sequences=True), input_shape=(window_length, LOTTOSIZE)))\n",
    "#model.add(Bidirectional(LSTM(biDirectionalNeurons, input_shape = (window_length, LOTTOSIZE), return_sequences = True)))\n",
    "#model.add(Dropout(0.2))\n",
    "#model.add(Bidirectional(LSTM(biDirectionalNeurons, input_shape = (window_length, LOTTOSIZE), return_sequences = True)))\n",
    "#model.add(Dropout(0.2))\n",
    "#model.add(Bidirectional(LSTM(biDirectionalNeurons, input_shape = (window_length, LOTTOSIZE), return_sequences = True)))\n",
    "model.add(Dropout(0.2))\n",
    "model.add(Bidirectional(LSTM(biDirectionalNeurons, input_shape = (window_length, LOTTOSIZE), return_sequences = False)))\n",
    "#model.add(Dense(90))\n",
    "model.add(Dense(tip[1],activation='sigmoid'))\n",
    "\n",
    "reduce_lr = ReduceLROnPlateau(monitor='accuracy', \n",
    "                              factor=0.5, \n",
    "                              patience=1, \n",
    "                              min_lr=0.00001)\n",
    "\n",
    "#model.compile(optimizer=Adam(learning_rate=0.0001), loss ='categorical_crossentropy', metrics=['accuracy']) #for binary numbers\n",
    "model.compile(optimizer=Adam(learning_rate=0.0001), loss='binary_crossentropy', metrics=['accuracy']) # for whatever reasones\n",
    "#model.compile(optimizer=Adam(learning_rate=0.0001), loss='mean_squared_error', metrics=['accuracy']) # for numbers between 0 nad 90\n",
    "\n",
    "#log_dir = \"logs\"  # Replace with your desired log directory path\n",
    "#tensorboard_callback = TensorBoard(log_dir=log_dir, histogram_freq=1)\n",
    "\n",
    "#%tensorboard --logdir logs  # Specify the same log directory path as used in the callback\n",
    "\n",
    "history = model.fit(x=X, y=y, batch_size=BATCH_SIZE, epochs=EPOCHS, verbose=2, callbacks=[reduce_lr])\n",
    "\n",
    "X_sample = X[0].reshape(1, window_length, tip[1])\n",
    "print(model.predict(X_sample))\n",
    "\n",
    "mf.plotTrainingHistory(history)"
   ]
  },
  {
   "cell_type": "code",
   "execution_count": 50,
   "id": "c5e64597-292e-447c-b27a-bab1f29167f0",
   "metadata": {},
   "outputs": [
    {
     "data": {
      "text/plain": [
       "array([[0.03225806, 0.31343284, 0.24657534, 0.55555556, 0.94915254],\n",
       "       [0.80645161, 0.86567164, 0.7260274 , 0.70833333, 0.74576271],\n",
       "       [0.12903226, 0.64179104, 0.50684932, 0.625     , 0.93220339],\n",
       "       [0.09677419, 0.07462687, 0.05479452, 0.05555556, 0.27118644],\n",
       "       [0.33870968, 0.64179104, 0.5890411 , 0.55555556, 0.61016949],\n",
       "       [0.24193548, 0.92537313, 0.79452055, 0.75      , 1.        ],\n",
       "       [0.        , 0.01492537, 0.31506849, 0.375     , 0.57627119],\n",
       "       [0.14516129, 0.28358209, 0.17808219, 0.47222222, 0.50847458],\n",
       "       [0.30645161, 0.32835821, 0.2739726 , 0.26388889, 0.71186441],\n",
       "       [0.41935484, 0.79104478, 0.89041096, 0.83333333, 0.84745763],\n",
       "       [0.0483871 , 0.20895522, 0.61643836, 0.70833333, 0.98305085],\n",
       "       [0.27419355, 0.58208955, 0.46575342, 0.44444444, 0.93220339],\n",
       "       [0.38709677, 0.49253731, 0.38356164, 0.48611111, 0.98305085],\n",
       "       [0.17741935, 0.50746269, 0.54794521, 0.80555556, 0.77966102]])"
      ]
     },
     "execution_count": 50,
     "metadata": {},
     "output_type": "execute_result"
    }
   ],
   "source": [
    "transformed_array[0:14]"
   ]
  },
  {
   "cell_type": "code",
   "execution_count": 72,
   "id": "0bbfb8b5-9040-4886-b099-da796faaf755",
   "metadata": {},
   "outputs": [
    {
     "data": {
      "text/plain": [
       "array([[ 3, 24, 28, 56, 87],\n",
       "       [51, 61, 63, 67, 75],\n",
       "       [ 9, 46, 47, 61, 86],\n",
       "       [ 7,  8, 14, 20, 47],\n",
       "       [22, 46, 53, 56, 67],\n",
       "       [16, 65, 68, 70, 90],\n",
       "       [ 1,  4, 33, 43, 65],\n",
       "       [10, 22, 23, 50, 61],\n",
       "       [20, 25, 30, 35, 73],\n",
       "       [27, 56, 75, 76, 81],\n",
       "       [ 4, 17, 55, 67, 89],\n",
       "       [18, 42, 44, 48, 86],\n",
       "       [25, 36, 38, 51, 89],\n",
       "       [12, 37, 50, 74, 77],\n",
       "       [24, 27, 50, 54, 71],\n",
       "       [29, 35, 36, 48, 83],\n",
       "       [15, 26, 29, 50, 70],\n",
       "       [ 1, 20, 42, 43, 62],\n",
       "       [35, 39, 80, 88, 90],\n",
       "       [ 7, 11, 15, 55, 74],\n",
       "       [ 7, 13, 28, 47, 58]], dtype=int64)"
      ]
     },
     "execution_count": 72,
     "metadata": {},
     "output_type": "execute_result"
    }
   ],
   "source": [
    "dfRaw[0:21]"
   ]
  },
  {
   "cell_type": "code",
   "execution_count": 68,
   "id": "5db0f297-e3c6-4a30-aa9a-e794849a97bd",
   "metadata": {},
   "outputs": [],
   "source": [
    "LASTHOWMANYLOTTO = 100\n",
    "X_sample = transformed_array[0:LASTHOWMANYLOTTO].reshape(1, LASTHOWMANYLOTTO, tip[1])"
   ]
  },
  {
   "cell_type": "code",
   "execution_count": 69,
   "id": "2d39f9db-4410-410a-ba4d-fe44de5c279c",
   "metadata": {},
   "outputs": [
    {
     "name": "stdout",
     "output_type": "stream",
     "text": [
      "1/1 [==============================] - 0s 36ms/step\n"
     ]
    },
    {
     "data": {
      "text/plain": [
       "array([[57.638443, 66.35943 , 81.60011 , 86.86233 , 89.53202 ]],\n",
       "      dtype=float32)"
      ]
     },
     "execution_count": 69,
     "metadata": {},
     "output_type": "execute_result"
    }
   ],
   "source": [
    "#X_sample = X[0].reshape(1, 21, tip[1])\n",
    "#model.predict(transformed_array[0:14])\n",
    "scaler.inverse_transform(model.predict(X_sample))"
   ]
  },
  {
   "cell_type": "code",
   "execution_count": 32,
   "id": "38759f24-70b5-493c-a452-524bbc6460af",
   "metadata": {},
   "outputs": [
    {
     "name": "stdout",
     "output_type": "stream",
     "text": [
      "You must install pydot (`pip install pydot`) and install graphviz (see instructions at https://graphviz.gitlab.io/download/) for plot_model to work.\n"
     ]
    }
   ],
   "source": [
    "from tensorflow.keras.utils import plot_model\n",
    "import matplotlib.pyplot as plt\n",
    "\n",
    "# Assuming you have already created and compiled your model\n",
    "# model = ...\n",
    "\n",
    "# Plot the model structure and display it\n",
    "plot_model(model, show_shapes=True, show_layer_names=True)\n",
    "\n",
    "# Show the plot\n",
    "plt.show()"
   ]
  },
  {
   "cell_type": "code",
   "execution_count": 36,
   "id": "baa3960c-9107-465a-aaa2-ced5fc5d857b",
   "metadata": {},
   "outputs": [
    {
     "name": "stdout",
     "output_type": "stream",
     "text": [
      "You must install pydot (`pip install pydot`) and install graphviz (see instructions at https://graphviz.gitlab.io/download/) for plot_model to work.\n"
     ]
    },
    {
     "ename": "FileNotFoundError",
     "evalue": "[Errno 2] No such file or directory: 'model_structure.png'",
     "output_type": "error",
     "traceback": [
      "\u001b[1;31m---------------------------------------------------------------------------\u001b[0m",
      "\u001b[1;31mFileNotFoundError\u001b[0m                         Traceback (most recent call last)",
      "Cell \u001b[1;32mIn[36], line 14\u001b[0m\n\u001b[0;32m     12\u001b[0m \u001b[38;5;66;03m# Display the saved plot using a library like matplotlib\u001b[39;00m\n\u001b[0;32m     13\u001b[0m \u001b[38;5;28;01mimport\u001b[39;00m \u001b[38;5;21;01mmatplotlib\u001b[39;00m\u001b[38;5;21;01m.\u001b[39;00m\u001b[38;5;21;01mpyplot\u001b[39;00m \u001b[38;5;28;01mas\u001b[39;00m \u001b[38;5;21;01mplt\u001b[39;00m\n\u001b[1;32m---> 14\u001b[0m img \u001b[38;5;241m=\u001b[39m \u001b[43mplt\u001b[49m\u001b[38;5;241;43m.\u001b[39;49m\u001b[43mimread\u001b[49m\u001b[43m(\u001b[49m\u001b[43mplot_file\u001b[49m\u001b[43m)\u001b[49m\n\u001b[0;32m     15\u001b[0m plt\u001b[38;5;241m.\u001b[39mimshow(img)\n\u001b[0;32m     16\u001b[0m plt\u001b[38;5;241m.\u001b[39maxis(\u001b[38;5;124m'\u001b[39m\u001b[38;5;124moff\u001b[39m\u001b[38;5;124m'\u001b[39m)  \u001b[38;5;66;03m# Turn off axis labels\u001b[39;00m\n",
      "File \u001b[1;32m~\\AppData\\Local\\Programs\\Python\\Python311\\Lib\\site-packages\\matplotlib\\pyplot.py:2195\u001b[0m, in \u001b[0;36mimread\u001b[1;34m(fname, format)\u001b[0m\n\u001b[0;32m   2193\u001b[0m \u001b[38;5;129m@_copy_docstring_and_deprecators\u001b[39m(matplotlib\u001b[38;5;241m.\u001b[39mimage\u001b[38;5;241m.\u001b[39mimread)\n\u001b[0;32m   2194\u001b[0m \u001b[38;5;28;01mdef\u001b[39;00m \u001b[38;5;21mimread\u001b[39m(fname, \u001b[38;5;28mformat\u001b[39m\u001b[38;5;241m=\u001b[39m\u001b[38;5;28;01mNone\u001b[39;00m):\n\u001b[1;32m-> 2195\u001b[0m     \u001b[38;5;28;01mreturn\u001b[39;00m \u001b[43mmatplotlib\u001b[49m\u001b[38;5;241;43m.\u001b[39;49m\u001b[43mimage\u001b[49m\u001b[38;5;241;43m.\u001b[39;49m\u001b[43mimread\u001b[49m\u001b[43m(\u001b[49m\u001b[43mfname\u001b[49m\u001b[43m,\u001b[49m\u001b[43m \u001b[49m\u001b[38;5;28;43mformat\u001b[39;49m\u001b[43m)\u001b[49m\n",
      "File \u001b[1;32m~\\AppData\\Local\\Programs\\Python\\Python311\\Lib\\site-packages\\matplotlib\\image.py:1563\u001b[0m, in \u001b[0;36mimread\u001b[1;34m(fname, format)\u001b[0m\n\u001b[0;32m   1556\u001b[0m \u001b[38;5;28;01mif\u001b[39;00m \u001b[38;5;28misinstance\u001b[39m(fname, \u001b[38;5;28mstr\u001b[39m) \u001b[38;5;129;01mand\u001b[39;00m \u001b[38;5;28mlen\u001b[39m(parse\u001b[38;5;241m.\u001b[39murlparse(fname)\u001b[38;5;241m.\u001b[39mscheme) \u001b[38;5;241m>\u001b[39m \u001b[38;5;241m1\u001b[39m:\n\u001b[0;32m   1557\u001b[0m     \u001b[38;5;66;03m# Pillow doesn't handle URLs directly.\u001b[39;00m\n\u001b[0;32m   1558\u001b[0m     \u001b[38;5;28;01mraise\u001b[39;00m \u001b[38;5;167;01mValueError\u001b[39;00m(\n\u001b[0;32m   1559\u001b[0m         \u001b[38;5;124m\"\u001b[39m\u001b[38;5;124mPlease open the URL for reading and pass the \u001b[39m\u001b[38;5;124m\"\u001b[39m\n\u001b[0;32m   1560\u001b[0m         \u001b[38;5;124m\"\u001b[39m\u001b[38;5;124mresult to Pillow, e.g. with \u001b[39m\u001b[38;5;124m\"\u001b[39m\n\u001b[0;32m   1561\u001b[0m         \u001b[38;5;124m\"\u001b[39m\u001b[38;5;124m``np.array(PIL.Image.open(urllib.request.urlopen(url)))``.\u001b[39m\u001b[38;5;124m\"\u001b[39m\n\u001b[0;32m   1562\u001b[0m         )\n\u001b[1;32m-> 1563\u001b[0m \u001b[38;5;28;01mwith\u001b[39;00m \u001b[43mimg_open\u001b[49m\u001b[43m(\u001b[49m\u001b[43mfname\u001b[49m\u001b[43m)\u001b[49m \u001b[38;5;28;01mas\u001b[39;00m image:\n\u001b[0;32m   1564\u001b[0m     \u001b[38;5;28;01mreturn\u001b[39;00m (_pil_png_to_float_array(image)\n\u001b[0;32m   1565\u001b[0m             \u001b[38;5;28;01mif\u001b[39;00m \u001b[38;5;28misinstance\u001b[39m(image, PIL\u001b[38;5;241m.\u001b[39mPngImagePlugin\u001b[38;5;241m.\u001b[39mPngImageFile) \u001b[38;5;28;01melse\u001b[39;00m\n\u001b[0;32m   1566\u001b[0m             pil_to_array(image))\n",
      "File \u001b[1;32m~\\AppData\\Local\\Programs\\Python\\Python311\\Lib\\site-packages\\PIL\\ImageFile.py:105\u001b[0m, in \u001b[0;36mImageFile.__init__\u001b[1;34m(self, fp, filename)\u001b[0m\n\u001b[0;32m    101\u001b[0m \u001b[38;5;28mself\u001b[39m\u001b[38;5;241m.\u001b[39mdecodermaxblock \u001b[38;5;241m=\u001b[39m MAXBLOCK\n\u001b[0;32m    103\u001b[0m \u001b[38;5;28;01mif\u001b[39;00m is_path(fp):\n\u001b[0;32m    104\u001b[0m     \u001b[38;5;66;03m# filename\u001b[39;00m\n\u001b[1;32m--> 105\u001b[0m     \u001b[38;5;28mself\u001b[39m\u001b[38;5;241m.\u001b[39mfp \u001b[38;5;241m=\u001b[39m \u001b[38;5;28;43mopen\u001b[39;49m\u001b[43m(\u001b[49m\u001b[43mfp\u001b[49m\u001b[43m,\u001b[49m\u001b[43m \u001b[49m\u001b[38;5;124;43m\"\u001b[39;49m\u001b[38;5;124;43mrb\u001b[39;49m\u001b[38;5;124;43m\"\u001b[39;49m\u001b[43m)\u001b[49m\n\u001b[0;32m    106\u001b[0m     \u001b[38;5;28mself\u001b[39m\u001b[38;5;241m.\u001b[39mfilename \u001b[38;5;241m=\u001b[39m fp\n\u001b[0;32m    107\u001b[0m     \u001b[38;5;28mself\u001b[39m\u001b[38;5;241m.\u001b[39m_exclusive_fp \u001b[38;5;241m=\u001b[39m \u001b[38;5;28;01mTrue\u001b[39;00m\n",
      "\u001b[1;31mFileNotFoundError\u001b[0m: [Errno 2] No such file or directory: 'model_structure.png'"
     ]
    }
   ],
   "source": [
    "from keras.utils import plot_model\n",
    "\n",
    "# Assuming you have already created and compiled your model\n",
    "# model = ...\n",
    "\n",
    "# Specify the file name for saving the visualization\n",
    "plot_file = \"model_structure.png\"\n",
    "\n",
    "# Plot and save the model structure to a file\n",
    "plot_model(model, to_file=plot_file, show_shapes=True, show_layer_names=True)\n",
    "\n",
    "# Display the saved plot using a library like matplotlib\n",
    "import matplotlib.pyplot as plt\n",
    "img = plt.imread(plot_file)\n",
    "plt.imshow(img)\n",
    "plt.axis('off')  # Turn off axis labels\n",
    "plt.show()"
   ]
  },
  {
   "cell_type": "code",
   "execution_count": 35,
   "id": "c2a08ce0-ff24-46f6-9832-de17834b0bbc",
   "metadata": {},
   "outputs": [],
   "source": [
    "import keras.utils"
   ]
  },
  {
   "cell_type": "code",
   "execution_count": 31,
   "id": "a9c21603-5776-40af-a6e8-7206ed71e0d6",
   "metadata": {},
   "outputs": [
    {
     "name": "stdout",
     "output_type": "stream",
     "text": [
      "The tensorboard extension is already loaded. To reload it, use:\n",
      "  %reload_ext tensorboard\n"
     ]
    }
   ],
   "source": [
    "%load_ext tensorboard\n",
    "import tensorboard\n"
   ]
  },
  {
   "cell_type": "code",
   "execution_count": 123,
   "id": "b30c93b2-bcc4-4d62-803a-12b9c0fbd337",
   "metadata": {},
   "outputs": [
    {
     "name": "stdout",
     "output_type": "stream",
     "text": [
      "1/1 [==============================] - 2s 2s/step\n",
      "[[[ 0.7176677   0.35877034 -0.05154084  0.59601676  0.910071  ]\n",
      "  [ 0.8360099   0.08457763 -0.12732844  0.5612186   0.97027487]\n",
      "  [ 0.9107233  -0.07855833 -0.11235988  0.45339745  0.97366154]\n",
      "  [ 0.81269205 -0.00950749  0.02351335  0.4211741   1.019437  ]\n",
      "  [ 0.6967037  -0.02237226  0.12428887  0.34347004  1.0488539 ]\n",
      "  [ 0.6417426  -0.01656725  0.16770521  0.25911838  1.0786625 ]\n",
      "  [ 0.4364555   0.22777371  0.26216424  0.36471313  1.2159626 ]\n",
      "  [ 0.40797633  0.24439538  0.28113732  0.38817745  1.2940286 ]\n",
      "  [ 0.43720162  0.25356302  0.28194296  0.41963404  1.3195149 ]\n",
      "  [ 0.530188    0.19397572  0.23249823  0.3951531   1.3333802 ]\n",
      "  [ 0.47987127  0.26422578  0.25513673  0.486621    1.4345078 ]\n",
      "  [ 0.39906347  0.30178288  0.27679473  0.50746197  1.4625928 ]\n",
      "  [ 0.3511904   0.30543643  0.27121216  0.5122521   1.4565772 ]\n",
      "  [ 0.3028031   0.2944385   0.30510336  0.5258594   1.5583605 ]\n",
      "  [ 0.28948367  0.28433847  0.26169845  0.55165386  1.561666  ]\n",
      "  [ 0.3550666   0.19704364  0.19240433  0.54005986  1.5169284 ]\n",
      "  [ 0.5163609   0.00985821  0.08356535  0.48355538  1.4244218 ]\n",
      "  [ 0.39764768  0.08210731  0.13146403  0.48803332  1.3704515 ]\n",
      "  [ 0.2848971   0.05088275  0.07783446  0.41076645  1.2066357 ]\n",
      "  [ 0.12538642  0.07036189  0.10550168  0.31811005  0.9889746 ]\n",
      "  [ 0.03018185  0.01286106 -0.00328657  0.21428585  0.5605618 ]]]\n"
     ]
    }
   ],
   "source": [
    "import numpy as np\n",
    "from keras.models import Sequential\n",
    "from keras.layers import Bidirectional, GRU, Dense\n",
    "from keras.optimizers import Adam\n",
    "import matplotlib.pyplot as plt\n",
    "\n",
    "# Assuming you have already loaded and preprocessed your data into X and y\n",
    "# X should be in the shape: (number_of_samples, window_length, number_of_features)\n",
    "# y should be in the shape: (number_of_samples, number_of_features)\n",
    "\n",
    "model = Sequential()\n",
    "model.add(Bidirectional(GRU(45, return_sequences=True), input_shape=(window_length, LOTTOSIZE)))\n",
    "model.add(Bidirectional(GRU(45, return_sequences=True)))\n",
    "model.add(Bidirectional(GRU(4, return_sequences=True)))\n",
    "model.add(Dense(tip[1], activation='linear'))  # Use 'linear' activation for regression\n",
    "\n",
    "# Compile the model\n",
    "model.compile(optimizer=Adam(learning_rate=0.0001), loss='mean_squared_error', metrics=['mean_absolute_error'])\n",
    "\n",
    "# Fit the model\n",
    "#history = model.fit(x=X, y=y, batch_size=BATCH_SIZE, epochs=EPOCHS, verbose=2)\n",
    "\n",
    "# Make a prediction\n",
    "X_sample = X[0].reshape(1, window_length, tip[1])\n",
    "predictions = model.predict(X_sample)\n",
    "\n",
    "print(predictions)\n"
   ]
  },
  {
   "cell_type": "code",
   "execution_count": 144,
   "id": "dbc7940c-7e15-45db-84eb-9d833fb941e0",
   "metadata": {},
   "outputs": [
    {
     "data": {
      "text/plain": [
       "45"
      ]
     },
     "execution_count": 144,
     "metadata": {},
     "output_type": "execute_result"
    }
   ],
   "source": [
    "LOTTO"
   ]
  },
  {
   "cell_type": "markdown",
   "id": "9b32086a-4012-46a0-9110-8f2eb7001783",
   "metadata": {},
   "source": [
    "# NN2"
   ]
  },
  {
   "cell_type": "code",
   "execution_count": 154,
   "id": "880b027a-99b9-489e-b0cd-9d76cd97c512",
   "metadata": {},
   "outputs": [
    {
     "name": "stdout",
     "output_type": "stream",
     "text": [
      "Epoch 1/10\n",
      "5/5 - 9s - loss: 2545.3760 - mean_absolute_error: 43.4446 - 9s/epoch - 2s/step\n",
      "Epoch 2/10\n",
      "5/5 - 1s - loss: 2541.7332 - mean_absolute_error: 43.4104 - 1s/epoch - 250ms/step\n",
      "Epoch 3/10\n",
      "5/5 - 1s - loss: 2538.1140 - mean_absolute_error: 43.3755 - 1s/epoch - 250ms/step\n",
      "Epoch 4/10\n",
      "5/5 - 1s - loss: 2534.4993 - mean_absolute_error: 43.3397 - 1s/epoch - 256ms/step\n",
      "Epoch 5/10\n",
      "5/5 - 1s - loss: 2530.9116 - mean_absolute_error: 43.3030 - 1s/epoch - 256ms/step\n",
      "Epoch 6/10\n",
      "5/5 - 1s - loss: 2527.4670 - mean_absolute_error: 43.2662 - 1s/epoch - 250ms/step\n",
      "Epoch 7/10\n",
      "5/5 - 1s - loss: 2524.2349 - mean_absolute_error: 43.2303 - 1s/epoch - 250ms/step\n",
      "Epoch 8/10\n",
      "5/5 - 1s - loss: 2521.3477 - mean_absolute_error: 43.1962 - 1s/epoch - 250ms/step\n",
      "Epoch 9/10\n",
      "5/5 - 1s - loss: 2518.8794 - mean_absolute_error: 43.1654 - 1s/epoch - 257ms/step\n",
      "Epoch 10/10\n",
      "5/5 - 1s - loss: 2516.8215 - mean_absolute_error: 43.1385 - 1s/epoch - 249ms/step\n"
     ]
    }
   ],
   "source": [
    "LOTTO = 90\n",
    "BATCH_SIZE = 100 # 100\n",
    "biDirectionalNeurons = LOTTO # \n",
    "EPOCHS = 10 # 100\n",
    "\n",
    "model = Sequential()\n",
    "\n",
    "model.add(Bidirectional(GRU(4, return_sequences=True), input_shape=(window_length, tip[1])))\n",
    "model.add(Bidirectional(GRU(45, return_sequences=True), input_shape=(window_length, 90)))\n",
    "#model.add(Bidirectional(GRU(4, return_sequences=True), input_shape=(window_length, 90)))\n",
    "model.add(Bidirectional(LSTM(biDirectionalNeurons, input_shape = (window_length, LOTTO), return_sequences = False)))\n",
    "model.add(Dense(tip[1],activation='sigmoid'))\n",
    "\n",
    "#model.compile(optimizer=Adam(learning_rate=0.0001), loss ='categorical_crossentropy', metrics=['accuracy'])\n",
    "model.compile(optimizer=Adam(learning_rate=0.0001), loss='mean_squared_error', metrics=['mean_absolute_error'])\n",
    "\n",
    "history = model.fit(x=X, y=y, batch_size=BATCH_SIZE, epochs=EPOCHS, verbose=2)"
   ]
  },
  {
   "cell_type": "code",
   "execution_count": 159,
   "id": "d040b853-0a3b-4adb-a24f-1578957409f2",
   "metadata": {},
   "outputs": [
    {
     "data": {
      "text/plain": [
       "<keras.src.callbacks.History at 0x167ea4e3d10>"
      ]
     },
     "execution_count": 159,
     "metadata": {},
     "output_type": "execute_result"
    }
   ],
   "source": [
    "history"
   ]
  },
  {
   "cell_type": "code",
   "execution_count": 156,
   "id": "4a66e002-9f28-4ed7-9c56-f9ecf1bc252d",
   "metadata": {},
   "outputs": [
    {
     "name": "stdout",
     "output_type": "stream",
     "text": [
      "1/1 [==============================] - 2s 2s/step\n"
     ]
    },
    {
     "data": {
      "text/plain": [
       "array([[0.8305661 , 0.81018466, 0.9215216 , 0.954499  , 0.9501319 ]],\n",
       "      dtype=float32)"
      ]
     },
     "execution_count": 156,
     "metadata": {},
     "output_type": "execute_result"
    }
   ],
   "source": [
    "X_sample = X[0].reshape(1, window_length, tip[1])\n",
    "model.predict(X_sample)"
   ]
  },
  {
   "cell_type": "code",
   "execution_count": 42,
   "id": "74f9cb3e-8d0e-4ee4-a106-6d2d5fe73d5e",
   "metadata": {},
   "outputs": [
    {
     "ename": "AttributeError",
     "evalue": "'numpy.ndarray' object has no attribute 'values'",
     "output_type": "error",
     "traceback": [
      "\u001b[1;31m---------------------------------------------------------------------------\u001b[0m",
      "\u001b[1;31mAttributeError\u001b[0m                            Traceback (most recent call last)",
      "Cell \u001b[1;32mIn[42], line 1\u001b[0m\n\u001b[1;32m----> 1\u001b[0m model\u001b[38;5;241m.\u001b[39mpredict(\u001b[43mX\u001b[49m\u001b[43m[\u001b[49m\u001b[38;5;241;43m0\u001b[39;49m\u001b[43m]\u001b[49m\u001b[38;5;241;43m.\u001b[39;49m\u001b[43mvalues\u001b[49m)\n",
      "\u001b[1;31mAttributeError\u001b[0m: 'numpy.ndarray' object has no attribute 'values'"
     ]
    }
   ],
   "source": [
    "model.predict(X[0].values)"
   ]
  },
  {
   "cell_type": "code",
   "execution_count": 89,
   "id": "8c681799-c0a1-45a3-a698-b5ad0d47212f",
   "metadata": {},
   "outputs": [
    {
     "name": "stdout",
     "output_type": "stream",
     "text": [
      "Num GPUs Available:  0\n"
     ]
    }
   ],
   "source": [
    "print(\"Num GPUs Available: \", len(tf.config.list_physical_devices('GPU')))"
   ]
  },
  {
   "cell_type": "code",
   "execution_count": 158,
   "id": "d7302998-dfd5-4eec-be7e-6aa8aad453c7",
   "metadata": {},
   "outputs": [
    {
     "name": "stdout",
     "output_type": "stream",
     "text": [
      "Unexpected exception formatting exception. Falling back to standard exception\n"
     ]
    },
    {
     "name": "stderr",
     "output_type": "stream",
     "text": [
      "Traceback (most recent call last):\n",
      "  File \"C:\\Users\\Gergo Gyori\\AppData\\Local\\Programs\\Python\\Python311\\Lib\\site-packages\\IPython\\core\\interactiveshell.py\", line 3508, in run_code\n",
      "    exec(code_obj, self.user_global_ns, self.user_ns)\n",
      "  File \"C:\\Users\\Gergo Gyori\\AppData\\Local\\Temp\\ipykernel_16060\\4054057160.py\", line 1, in <module>\n",
      "    mf.plotTrainingHistory(history)\n",
      "  File \"D:\\GITHUB\\Mounika-Tarsasjatek\\Lotto2\\lottoMainFunctions.py\", line 36, in plotTrainingHistory\n",
      "KeyError: 'accuracy'\n",
      "\n",
      "During handling of the above exception, another exception occurred:\n",
      "\n",
      "Traceback (most recent call last):\n",
      "  File \"C:\\Users\\Gergo Gyori\\AppData\\Local\\Programs\\Python\\Python311\\Lib\\site-packages\\IPython\\core\\interactiveshell.py\", line 2105, in showtraceback\n",
      "    stb = self.InteractiveTB.structured_traceback(\n",
      "          ^^^^^^^^^^^^^^^^^^^^^^^^^^^^^^^^^^^^^^^^\n",
      "  File \"C:\\Users\\Gergo Gyori\\AppData\\Local\\Programs\\Python\\Python311\\Lib\\site-packages\\IPython\\core\\ultratb.py\", line 1428, in structured_traceback\n",
      "    return FormattedTB.structured_traceback(\n",
      "           ^^^^^^^^^^^^^^^^^^^^^^^^^^^^^^^^^\n",
      "  File \"C:\\Users\\Gergo Gyori\\AppData\\Local\\Programs\\Python\\Python311\\Lib\\site-packages\\IPython\\core\\ultratb.py\", line 1319, in structured_traceback\n",
      "    return VerboseTB.structured_traceback(\n",
      "           ^^^^^^^^^^^^^^^^^^^^^^^^^^^^^^^\n",
      "  File \"C:\\Users\\Gergo Gyori\\AppData\\Local\\Programs\\Python\\Python311\\Lib\\site-packages\\IPython\\core\\ultratb.py\", line 1172, in structured_traceback\n",
      "    formatted_exception = self.format_exception_as_a_whole(etype, evalue, etb, number_of_lines_of_context,\n",
      "                          ^^^^^^^^^^^^^^^^^^^^^^^^^^^^^^^^^^^^^^^^^^^^^^^^^^^^^^^^^^^^^^^^^^^^^^^^^^^^^^^^\n",
      "  File \"C:\\Users\\Gergo Gyori\\AppData\\Local\\Programs\\Python\\Python311\\Lib\\site-packages\\IPython\\core\\ultratb.py\", line 1087, in format_exception_as_a_whole\n",
      "    frames.append(self.format_record(record))\n",
      "                  ^^^^^^^^^^^^^^^^^^^^^^^^^^\n",
      "  File \"C:\\Users\\Gergo Gyori\\AppData\\Local\\Programs\\Python\\Python311\\Lib\\site-packages\\IPython\\core\\ultratb.py\", line 969, in format_record\n",
      "    frame_info.lines, Colors, self.has_colors, lvals\n",
      "    ^^^^^^^^^^^^^^^^\n",
      "  File \"C:\\Users\\Gergo Gyori\\AppData\\Local\\Programs\\Python\\Python311\\Lib\\site-packages\\IPython\\core\\ultratb.py\", line 792, in lines\n",
      "    return self._sd.lines\n",
      "           ^^^^^^^^^^^^^^\n",
      "  File \"C:\\Users\\Gergo Gyori\\AppData\\Local\\Programs\\Python\\Python311\\Lib\\site-packages\\stack_data\\utils.py\", line 144, in cached_property_wrapper\n",
      "    value = obj.__dict__[self.func.__name__] = self.func(obj)\n",
      "                                               ^^^^^^^^^^^^^^\n",
      "  File \"C:\\Users\\Gergo Gyori\\AppData\\Local\\Programs\\Python\\Python311\\Lib\\site-packages\\stack_data\\core.py\", line 734, in lines\n",
      "    pieces = self.included_pieces\n",
      "             ^^^^^^^^^^^^^^^^^^^^\n",
      "  File \"C:\\Users\\Gergo Gyori\\AppData\\Local\\Programs\\Python\\Python311\\Lib\\site-packages\\stack_data\\utils.py\", line 144, in cached_property_wrapper\n",
      "    value = obj.__dict__[self.func.__name__] = self.func(obj)\n",
      "                                               ^^^^^^^^^^^^^^\n",
      "  File \"C:\\Users\\Gergo Gyori\\AppData\\Local\\Programs\\Python\\Python311\\Lib\\site-packages\\stack_data\\core.py\", line 681, in included_pieces\n",
      "    pos = scope_pieces.index(self.executing_piece)\n",
      "                             ^^^^^^^^^^^^^^^^^^^^\n",
      "  File \"C:\\Users\\Gergo Gyori\\AppData\\Local\\Programs\\Python\\Python311\\Lib\\site-packages\\stack_data\\utils.py\", line 144, in cached_property_wrapper\n",
      "    value = obj.__dict__[self.func.__name__] = self.func(obj)\n",
      "                                               ^^^^^^^^^^^^^^\n",
      "  File \"C:\\Users\\Gergo Gyori\\AppData\\Local\\Programs\\Python\\Python311\\Lib\\site-packages\\stack_data\\core.py\", line 660, in executing_piece\n",
      "    return only(\n",
      "           ^^^^^\n",
      "  File \"C:\\Users\\Gergo Gyori\\AppData\\Local\\Programs\\Python\\Python311\\Lib\\site-packages\\executing\\executing.py\", line 190, in only\n",
      "    raise NotOneValueFound('Expected one value, found 0')\n",
      "executing.executing.NotOneValueFound: Expected one value, found 0\n"
     ]
    }
   ],
   "source": [
    "mf.plotTrainingHistory(history)"
   ]
  },
  {
   "cell_type": "code",
   "execution_count": 71,
   "id": "17a71150-b49d-4054-83cf-2f1d6d3d47fb",
   "metadata": {},
   "outputs": [
    {
     "data": {
      "image/png": "[encoded data removed]",
      "text/plain": [
       "<Figure size 640x480 with 2 Axes>"
      ]
     },
     "metadata": {},
     "output_type": "display_data"
    }
   ],
   "source": [
    "# Create a figure and axis for the loss plot\n",
    "fig, ax1 = plt.subplots()\n",
    "\n",
    "# Plot the training loss on the left y-axis\n",
    "ax1.plot(range(1, len(training_loss) + 1), training_loss, label='Training Loss', color='b')\n",
    "ax1.set_xlabel('Epoch')\n",
    "ax1.set_ylabel('Loss', color='b')\n",
    "ax1.tick_params(axis='y', labelcolor='b')\n",
    "ax1.legend(loc='upper left')\n",
    "\n",
    "# Create a second axis for the accuracy plot, sharing the same x-axis\n",
    "ax2 = ax1.twinx()\n",
    "\n",
    "# Plot the training accuracy on the right y-axis\n",
    "ax2.plot(range(1, len(training_accuracy) + 1), training_accuracy, label='Training Accuracy', color='r')\n",
    "ax2.set_ylabel('Accuracy', color='r')\n",
    "ax2.tick_params(axis='y', labelcolor='r')\n",
    "ax2.legend(loc='upper right')\n",
    "\n",
    "plt.title('Training Loss and Accuracy')\n",
    "plt.show()"
   ]
  },
  {
   "cell_type": "code",
   "execution_count": null,
   "id": "ad66f172-0a89-466b-8be9-c16ae9982cc6",
   "metadata": {},
   "outputs": [],
   "source": []
  }
 ],
 "metadata": {
  "kernelspec": {
   "display_name": "Python 3 (ipykernel)",
   "language": "python",
   "name": "python3"
  },
  "language_info": {
   "codemirror_mode": {
    "name": "ipython",
    "version": 3
   },
   "file_extension": ".py",
   "mimetype": "text/x-python",
   "name": "python",
   "nbconvert_exporter": "python",
   "pygments_lexer": "ipython3",
   "version": "3.11.4"
  }
 },
 "nbformat": 4,
 "nbformat_minor": 5
}
