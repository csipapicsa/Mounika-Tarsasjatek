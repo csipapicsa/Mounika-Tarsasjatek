{
 "cells": [
  {
   "cell_type": "code",
   "execution_count": 27,
   "id": "39fe9eea-dd34-4269-a172-8d181846cefa",
   "metadata": {},
   "outputs": [],
   "source": [
    "import tensorflow as tf"
   ]
  },
  {
   "cell_type": "code",
   "execution_count": 28,
   "id": "d2ce819e-d72a-40a5-96ec-3c0560a7a16e",
   "metadata": {},
   "outputs": [],
   "source": [
    "import numpy as np"
   ]
  },
  {
   "cell_type": "code",
   "execution_count": 20,
   "id": "9b068002-c9a9-40c3-a5ec-02d9f6302b0d",
   "metadata": {},
   "outputs": [],
   "source": [
    "def getLotto(link):\n",
    "    df = pd.read_excel(link, index_col=0)\n",
    "    df.drop(columns=['Hét', 'Húzásdátum', '6 találat (db)', '6 találat (Ft)',\n",
    "       '5+1 találat (db)', '5+1 találat (Ft)', '5 találat (db)',\n",
    "       '5 találat (Ft)', '4 találat (db)', '4 találat (Ft)', '3 találat (db)',\n",
    "       '3 találat (Ft)', \"Unnamed: 19\"], inplace=True)\n",
    "    \n",
    "    df.rename(columns={\"Számok\": \"1\", \"Unnamed: 14\": \"2\", \"Unnamed: 15\": \"3\", 'Unnamed: 16':\"4\", \"Unnamed: 17\":\"5\", \"Unnamed: 18\": \"6\"}, inplace=True)\n",
    "    column_values = df[[\"1\", \"2\", \"3\", \"4\", \"5\", \"6\"]].values\n",
    "    return df, column_values"
   ]
  },
  {
   "cell_type": "code",
   "execution_count": 21,
   "id": "2d3de0f6-2be1-4d14-bb89-19d9d39b1ca1",
   "metadata": {},
   "outputs": [],
   "source": [
    "link = \"https://bet.szerencsejatek.hu/cmsfiles/hatos.xls\"\n",
    "df, dfRaw = getLotto(link)"
   ]
  },
  {
   "cell_type": "code",
   "execution_count": 24,
   "id": "2d617193-6d12-402d-9f3b-0b449d67b12c",
   "metadata": {},
   "outputs": [
    {
     "data": {
      "text/plain": [
       "array([ 7, 11, 15, 18, 19, 32], dtype=int64)"
      ]
     },
     "execution_count": 24,
     "metadata": {},
     "output_type": "execute_result"
    }
   ],
   "source": [
    "dfRaw[0]"
   ]
  },
  {
   "cell_type": "code",
   "execution_count": 26,
   "id": "7cb47ba9-b2c9-424b-b736-22d7578f6614",
   "metadata": {},
   "outputs": [
    {
     "ename": "AttributeError",
     "evalue": "module 'pandas' has no attribute 'get_dummmies'",
     "output_type": "error",
     "traceback": [
      "\u001b[1;31m---------------------------------------------------------------------------\u001b[0m",
      "\u001b[1;31mAttributeError\u001b[0m                            Traceback (most recent call last)",
      "Cell \u001b[1;32mIn[26], line 1\u001b[0m\n\u001b[1;32m----> 1\u001b[0m \u001b[43mpd\u001b[49m\u001b[38;5;241;43m.\u001b[39;49m\u001b[43mget_dummmies\u001b[49m(dfRaw)\n",
      "\u001b[1;31mAttributeError\u001b[0m: module 'pandas' has no attribute 'get_dummmies'"
     ]
    }
   ],
   "source": [
    "pd.get_dummmies(dfRaw)"
   ]
  },
  {
   "cell_type": "code",
   "execution_count": 31,
   "id": "80a58a3f-3a75-4015-bd74-cc82911de99e",
   "metadata": {},
   "outputs": [],
   "source": [
    "one_hot_encoded = tf.one_hot(dfRaw, depth=45)"
   ]
  },
  {
   "cell_type": "code",
   "execution_count": 38,
   "id": "63461c01-5233-4d14-8b31-a5c050aa20a6",
   "metadata": {},
   "outputs": [
    {
     "data": {
      "text/plain": [
       "<tf.Tensor: shape=(1630, 6, 45), dtype=float32, numpy=\n",
       "array([[[0., 0., 0., ..., 0., 0., 0.],\n",
       "        [0., 0., 0., ..., 0., 0., 0.],\n",
       "        [0., 0., 0., ..., 0., 0., 0.],\n",
       "        [0., 0., 0., ..., 0., 0., 0.],\n",
       "        [0., 0., 0., ..., 0., 0., 0.],\n",
       "        [0., 0., 0., ..., 0., 0., 0.]],\n",
       "\n",
       "       [[0., 0., 0., ..., 0., 0., 0.],\n",
       "        [0., 0., 0., ..., 0., 0., 0.],\n",
       "        [0., 0., 0., ..., 0., 0., 0.],\n",
       "        [0., 0., 0., ..., 0., 0., 0.],\n",
       "        [0., 0., 0., ..., 0., 0., 0.],\n",
       "        [0., 0., 0., ..., 0., 0., 0.]],\n",
       "\n",
       "       [[0., 0., 0., ..., 0., 0., 0.],\n",
       "        [0., 0., 0., ..., 0., 0., 0.],\n",
       "        [0., 0., 0., ..., 0., 0., 0.],\n",
       "        [0., 0., 0., ..., 0., 0., 0.],\n",
       "        [0., 0., 0., ..., 0., 0., 0.],\n",
       "        [0., 0., 0., ..., 0., 0., 1.]],\n",
       "\n",
       "       ...,\n",
       "\n",
       "       [[0., 0., 0., ..., 0., 0., 0.],\n",
       "        [0., 0., 0., ..., 0., 0., 0.],\n",
       "        [0., 0., 0., ..., 0., 0., 0.],\n",
       "        [0., 0., 0., ..., 0., 0., 0.],\n",
       "        [0., 0., 0., ..., 0., 0., 0.],\n",
       "        [0., 0., 0., ..., 0., 1., 0.]],\n",
       "\n",
       "       [[0., 0., 0., ..., 0., 0., 0.],\n",
       "        [0., 0., 0., ..., 0., 0., 0.],\n",
       "        [0., 0., 0., ..., 0., 0., 0.],\n",
       "        [0., 0., 0., ..., 0., 0., 0.],\n",
       "        [0., 0., 0., ..., 0., 0., 0.],\n",
       "        [0., 0., 0., ..., 0., 0., 0.]],\n",
       "\n",
       "       [[0., 0., 0., ..., 0., 0., 0.],\n",
       "        [0., 0., 0., ..., 0., 0., 0.],\n",
       "        [0., 0., 0., ..., 0., 0., 0.],\n",
       "        [0., 0., 0., ..., 0., 0., 0.],\n",
       "        [0., 0., 0., ..., 0., 0., 0.],\n",
       "        [0., 0., 0., ..., 0., 0., 0.]]], dtype=float32)>"
      ]
     },
     "execution_count": 38,
     "metadata": {},
     "output_type": "execute_result"
    }
   ],
   "source": [
    "one_hot_encoded"
   ]
  },
  {
   "cell_type": "code",
   "execution_count": 34,
   "id": "4659d5d5-fba6-4715-a21c-c4c5aa767794",
   "metadata": {},
   "outputs": [],
   "source": [
    "#merged_array = tf.reduce_sum(one_hot_encoded, axis=0)"
   ]
  },
  {
   "cell_type": "code",
   "execution_count": 42,
   "id": "30f34659-fd50-4dc4-873a-355b347d9fe8",
   "metadata": {},
   "outputs": [
    {
     "data": {
      "text/plain": [
       "<tf.Tensor: shape=(45,), dtype=float32, numpy=\n",
       "array([0., 0., 0., 0., 0., 0., 0., 0., 0., 0., 1., 0., 0., 0., 1., 1., 0.,\n",
       "       0., 0., 0., 0., 0., 1., 0., 0., 0., 0., 0., 0., 0., 0., 0., 1., 0.,\n",
       "       0., 0., 1., 0., 0., 0., 0., 0., 0., 0., 0.], dtype=float32)>"
      ]
     },
     "execution_count": 42,
     "metadata": {},
     "output_type": "execute_result"
    }
   ],
   "source": [
    "merged_array = tf.reduce_max(one_hot_encoded, axis=1)\n"
   ]
  },
  {
   "cell_type": "code",
   "execution_count": null,
   "id": "9f710379-f32b-4f66-a2d1-c4b72c1b1fdb",
   "metadata": {},
   "outputs": [],
   "source": []
  }
 ],
 "metadata": {
  "kernelspec": {
   "display_name": "Python 3 (ipykernel)",
   "language": "python",
   "name": "python3"
  },
  "language_info": {
   "codemirror_mode": {
    "name": "ipython",
    "version": 3
   },
   "file_extension": ".py",
   "mimetype": "text/x-python",
   "name": "python",
   "nbconvert_exporter": "python",
   "pygments_lexer": "ipython3",
   "version": "3.11.4"
  }
 },
 "nbformat": 4,
 "nbformat_minor": 5
}
