{
 "cells": [
  {
   "cell_type": "code",
   "execution_count": 2,
   "id": "369269db-a114-428a-9684-c86a2fd889fb",
   "metadata": {},
   "outputs": [
    {
     "ename": "ModuleNotFoundError",
     "evalue": "No module named 'TTS'",
     "output_type": "error",
     "traceback": [
      "\u001b[1;31m---------------------------------------------------------------------------\u001b[0m",
      "\u001b[1;31mModuleNotFoundError\u001b[0m                       Traceback (most recent call last)",
      "Cell \u001b[1;32mIn[2], line 2\u001b[0m\n\u001b[0;32m      1\u001b[0m \u001b[38;5;66;03m#import torch\u001b[39;00m\n\u001b[1;32m----> 2\u001b[0m \u001b[38;5;28;01mfrom\u001b[39;00m \u001b[38;5;21;01mTTS\u001b[39;00m\u001b[38;5;21;01m.\u001b[39;00m\u001b[38;5;21;01mapi\u001b[39;00m \u001b[38;5;28;01mimport\u001b[39;00m TTS\n",
      "\u001b[1;31mModuleNotFoundError\u001b[0m: No module named 'TTS'"
     ]
    }
   ],
   "source": [
    "#import torch\n",
    "from TTS.api import TTS"
   ]
  },
  {
   "cell_type": "code",
   "execution_count": null,
   "id": "839ea415-de64-4755-9bee-7a50be34a26b",
   "metadata": {},
   "outputs": [],
   "source": [
    "import random\n",
    "import main as m\n",
    "say = m.engine\n",
    "\n",
    "# Define an empty dictionary to store Danish-English sentence pairs\n",
    "danish_english = {}\n",
    "files = [\"question\", \"mix\"]\n",
    "# Read sentences from a text file in the specified format\n",
    "\n",
    "def readIn(danish_english, files):\n",
    "    for f in files:\n",
    "        with open(f+\".txt\", 'r', encoding='utf-8') as file:\n",
    "            lines = file.readlines()\n",
    "            for line in lines:\n",
    "                parts = line.strip().split('|')\n",
    "                if len(parts) == 2:\n",
    "                    danish_english[parts[0].strip()] = parts[1].strip()\n",
    "    return danish_english\n",
    "\n",
    "# Function to generate a quiz question with 5 possible answers\n",
    "def generate_quiz_question(danish_english):\n",
    "    # Select a random Danish sentence as the question\n",
    "    question = random.choice(list(danish_english.keys()))\n",
    "    \n",
    "    # Select the correct English translation\n",
    "    correct_answer = danish_english[question]\n",
    "    \n",
    "    # Create a list of possible answers\n",
    "    answers = [correct_answer]\n",
    "    \n",
    "    # Generate 4 more random incorrect answers\n",
    "    while len(answers) < 5:\n",
    "        random_answer = random.choice(list(danish_english.values()))\n",
    "        if random_answer not in answers:\n",
    "            answers.append(random_answer)\n",
    "    \n",
    "    # Shuffle the answers so that the correct answer is not always in the same position\n",
    "    random.shuffle(answers)\n",
    "    \n",
    "    return question, correct_answer, answers\n",
    "\n",
    "# Generate a quiz question\n",
    "question, correct_answer, answers = generate_quiz_question(readIn(danish_english, files))\n",
    "\n",
    "# Print the question and possible answers\n",
    "print(\"Translate the following Danish sentence to English:\")\n",
    "\n",
    "print(question)\n",
    "\n",
    "\n",
    "\n",
    "for i, answer in enumerate(answers):\n",
    "    print(f\"{i + 1}. {answer}\")\n",
    "    \n",
    "# say it\n",
    "text = question\n",
    "say.say(text)\n",
    "say.runAndWait()\n",
    "\n",
    "# Prompt the user to select an answer (1-5)\n",
    "user_choice = int(input(\"Enter the number of your answer (1-5): \"))\n",
    "\n",
    "\n",
    "# Check if the user's answer is correct\n",
    "if answers[user_choice - 1] == correct_answer:\n",
    "    print(\"Correct! Well done.\")\n",
    "else:\n",
    "    print(\"Incorrect. The correct answer is:\", correct_answer)"
   ]
  },
  {
   "cell_type": "code",
   "execution_count": 3,
   "id": "a0fe9518-2587-4297-8d70-47d4732a97c4",
   "metadata": {},
   "outputs": [],
   "source": [
    "import random\n",
    "import main as m\n",
    "say = m.engine"
   ]
  },
  {
   "cell_type": "code",
   "execution_count": 5,
   "id": "2d5ef513-be33-452d-8671-4cea89fb3bd0",
   "metadata": {},
   "outputs": [],
   "source": [
    "import pyttsx3\n",
    "engine = pyttsx3.init()"
   ]
  },
  {
   "cell_type": "code",
   "execution_count": 6,
   "id": "4ebb6cf9-4506-407d-b2f2-a1fcfb6bb6b9",
   "metadata": {},
   "outputs": [],
   "source": [
    "engine.setProperty('voice', 'da-DK')"
   ]
  },
  {
   "cell_type": "code",
   "execution_count": 7,
   "id": "fd745028-702d-4a1c-ae2e-43cc8ca4c1e7",
   "metadata": {},
   "outputs": [],
   "source": [
    "engine.setProperty('rate', 150)  # Speed of speech"
   ]
  },
  {
   "cell_type": "code",
   "execution_count": 8,
   "id": "73c943af-e269-418d-a1f1-ae1b31bf5826",
   "metadata": {},
   "outputs": [],
   "source": [
    "say = m.engine"
   ]
  },
  {
   "cell_type": "code",
   "execution_count": 9,
   "id": "c69e86b0-f332-4d0e-94f5-096886b6aca9",
   "metadata": {},
   "outputs": [],
   "source": [
    "say.runAndWait()"
   ]
  },
  {
   "cell_type": "code",
   "execution_count": 10,
   "id": "b2dc84f9-4f11-46f0-8c45-14f68f6bbed6",
   "metadata": {},
   "outputs": [],
   "source": [
    "say.say(\"whatsup\")"
   ]
  },
  {
   "cell_type": "code",
   "execution_count": null,
   "id": "ff6eef1c-b471-43d9-8395-f4b9659ad743",
   "metadata": {},
   "outputs": [],
   "source": []
  }
 ],
 "metadata": {
  "kernelspec": {
   "display_name": "Python 3 (ipykernel)",
   "language": "python",
   "name": "python3"
  },
  "language_info": {
   "codemirror_mode": {
    "name": "ipython",
    "version": 3
   },
   "file_extension": ".py",
   "mimetype": "text/x-python",
   "name": "python",
   "nbconvert_exporter": "python",
   "pygments_lexer": "ipython3",
   "version": "3.11.6"
  }
 },
 "nbformat": 4,
 "nbformat_minor": 5
}
