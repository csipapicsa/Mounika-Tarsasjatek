{
 "cells": [
  {
   "cell_type": "code",
   "execution_count": 97,
   "id": "9f0cdb41",
   "metadata": {},
   "outputs": [
    {
     "name": "stdout",
     "output_type": "stream",
     "text": [
      "*** get the sheet\n"
     ]
    }
   ],
   "source": [
    "#### import\n",
    "import main as mm\n",
    "import importlib as r\n",
    "# get the sheets\n",
    "print(\"*** get the sheet\")\n",
    "sheet = mm.googleDocReadIn()\n",
    "records_df, wordsStat, words_array, meaning_array, stats_data, stat, help_array = mm.wordsSheet(sheet)"
   ]
  },
  {
   "cell_type": "code",
   "execution_count": 98,
   "id": "844b57cd",
   "metadata": {},
   "outputs": [
    {
     "name": "stdout",
     "output_type": "stream",
     "text": [
      "Number of known words:  131 \n",
      " Number of unknown words:  140\n"
     ]
    }
   ],
   "source": [
    "r.reload(mm)\n",
    "# handle empty cells in meaning and help arrays\n",
    "meaning_array, help_array= mm.emptyCellsHandler(words_array, meaning_array, help_array)\n",
    "# get rid of known words\n",
    "daysInt = 62\n",
    "words_array, meaning_array, help_array, numbersQuiz = mm.deleteKnownWords(wordsStat, words_array, meaning_array, help_array, days=daysInt)\n",
    "# user inputs - how many questions, how many possible answers\n",
    "#print(\" How many words? \")\n",
    "#numberOfQuestions = mm.userInputValidator(100)\n",
    "#print(\" how many possible answers? \")\n",
    "#numberWrongAnswers = mm.userInputValidator(100)\n",
    "#print(\"*** making the quiz\")\n",
    "\n",
    "# make quiz\n",
    "quizQ, possibleWrongAnswers = mm.questions(words_array, meaning_array, help_array, numbersQuiz, length=numberOfQuestions)"
   ]
  },
  {
   "cell_type": "code",
   "execution_count": null,
   "id": "f68f2a80",
   "metadata": {},
   "outputs": [],
   "source": []
  },
  {
   "cell_type": "code",
   "execution_count": 14,
   "id": "865079e9",
   "metadata": {},
   "outputs": [],
   "source": [
    "import soundcard as sc\n",
    "\n",
    "# get a list of all speakers:\n",
    "speakers = sc.all_speakers()\n",
    "# get the current default speaker on your system:\n",
    "default_speaker = sc.default_speaker()"
   ]
  },
  {
   "cell_type": "code",
   "execution_count": 15,
   "id": "6bdbb857",
   "metadata": {},
   "outputs": [
    {
     "data": {
      "text/plain": [
       "<Speaker Hangszórók (Realtek High Definition Audio) (2 channels)>"
      ]
     },
     "execution_count": 15,
     "metadata": {},
     "output_type": "execute_result"
    }
   ],
   "source": [
    "default_speaker"
   ]
  },
  {
   "cell_type": "code",
   "execution_count": 18,
   "id": "93019602",
   "metadata": {},
   "outputs": [
    {
     "ename": "NameError",
     "evalue": "name 'sd' is not defined",
     "output_type": "error",
     "traceback": [
      "\u001b[1;31m---------------------------------------------------------------------------\u001b[0m",
      "\u001b[1;31mNameError\u001b[0m                                 Traceback (most recent call last)",
      "Cell \u001b[1;32mIn [18], line 1\u001b[0m\n\u001b[1;32m----> 1\u001b[0m sd\u001b[38;5;241m.\u001b[39mquery_devices()\n",
      "\u001b[1;31mNameError\u001b[0m: name 'sd' is not defined"
     ]
    }
   ],
   "source": [
    "sd.query_devices()\n"
   ]
  },
  {
   "cell_type": "code",
   "execution_count": 53,
   "id": "adb9d94e",
   "metadata": {},
   "outputs": [
    {
     "data": {
      "text/plain": [
       "<module 'main' from 'D:\\\\DICTIONARY\\\\Dictionary\\\\main.py'>"
      ]
     },
     "execution_count": 53,
     "metadata": {},
     "output_type": "execute_result"
    }
   ],
   "source": [
    "r.reload(mm)"
   ]
  },
  {
   "cell_type": "code",
   "execution_count": 51,
   "id": "177b2495",
   "metadata": {},
   "outputs": [],
   "source": [
    "###################################################### \n",
    "######################################################\n",
    "############### TODO: SOLVE THE PROBLEM OF THE HELP ARRAY ( BASED ON THE INDEXIES)"
   ]
  },
  {
   "cell_type": "code",
   "execution_count": 4,
   "id": "0418eb59",
   "metadata": {},
   "outputs": [
    {
     "name": "stdout",
     "output_type": "stream",
     "text": [
      "commutative\n",
      "1  -  idézet, szemelvény\n",
      "2  -  szomszédos\n",
      "3  -  utolagos bölcsesség\n",
      "4  -  sokszínűség, változatosság\n",
      "5  -  Összegyűjtő, fordító\n",
      "6  -  határozza meg\n",
      "7  -  felcserélhető\n",
      "8  -  elkerülhetetlen\n",
      "9  -  szorgalmas\n",
      "10  -  megszerezni, megkapni\n",
      "11  -  Előre látott, vizionizált cél\n",
      "7\n",
      "Good answer! \n",
      "commutative  :  felcserélhető\n",
      "Signify\n",
      "1  -  Egyeztetett\n",
      "2  -  émelyít, hányingert keltő\n",
      "3  -  jelent, jelez, kifejez\n",
      "4  -  nem tudván\n",
      "5  -  szó szerinti\n",
      "6  -  névleges / fiktív\n",
      "7  -  akaszt\n",
      "8  -  Közösen, kölcsönösen\n",
      "9  -  magába foglal, beágyaz\n",
      "10  -  nyilvánvalóan, kézzelfoghatóan\n",
      "11  -  kölcsönkér\n"
     ]
    },
    {
     "ename": "KeyboardInterrupt",
     "evalue": "Interrupted by user",
     "output_type": "error",
     "traceback": [
      "\u001b[1;31m---------------------------------------------------------------------------\u001b[0m",
      "\u001b[1;31mKeyboardInterrupt\u001b[0m                         Traceback (most recent call last)",
      "Cell \u001b[1;32mIn [4], line 75\u001b[0m\n\u001b[0;32m     72\u001b[0m wrongAnswersDict \u001b[38;5;241m=\u001b[39m {}\n\u001b[0;32m     73\u001b[0m goodAnswersDict \u001b[38;5;241m=\u001b[39m {}\n\u001b[1;32m---> 75\u001b[0m quizF(quizQ, possibleWrongAnswers, numberWrongAnswers)\n",
      "Cell \u001b[1;32mIn [4], line 9\u001b[0m, in \u001b[0;36mquizF\u001b[1;34m(quizQ, possibleWrongAnswers, numberWrongAnswers)\u001b[0m\n\u001b[0;32m      6\u001b[0m \u001b[38;5;66;03m# define x wrong answer\u001b[39;00m\n\u001b[0;32m      7\u001b[0m \u001b[38;5;66;03m# print(\"-------- quizF \", question, goodAnswer)\u001b[39;00m\n\u001b[0;32m      8\u001b[0m wrongAnswers \u001b[38;5;241m=\u001b[39m mm\u001b[38;5;241m.\u001b[39mrandom\u001b[38;5;241m.\u001b[39mchoices(possibleWrongAnswers, k\u001b[38;5;241m=\u001b[39mnumberWrongAnswers)\n\u001b[1;32m----> 9\u001b[0m \u001b[43mmapAnswers\u001b[49m\u001b[43m(\u001b[49m\u001b[43mquestion\u001b[49m\u001b[43m,\u001b[49m\u001b[43m \u001b[49m\u001b[43mgoodAnswer\u001b[49m\u001b[43m,\u001b[49m\u001b[43m \u001b[49m\u001b[43mhelP\u001b[49m\u001b[43m,\u001b[49m\u001b[43m \u001b[49m\u001b[43mwrongAnswers\u001b[49m\u001b[43m,\u001b[49m\u001b[43m \u001b[49m\u001b[43mnumberWrongAnswers\u001b[49m\u001b[43m)\u001b[49m\n",
      "Cell \u001b[1;32mIn [4], line 29\u001b[0m, in \u001b[0;36mmapAnswers\u001b[1;34m(question, goodAnswer, helP, wrongAnswers, numberWrongAnswers)\u001b[0m\n\u001b[0;32m     24\u001b[0m \u001b[38;5;28;01mfor\u001b[39;00m n, a \u001b[38;5;129;01min\u001b[39;00m \u001b[38;5;28mzip\u001b[39m(n, q):\n\u001b[0;32m     25\u001b[0m     \u001b[38;5;66;03m# n=number, a=corresponding answer\u001b[39;00m\n\u001b[0;32m     26\u001b[0m     \u001b[38;5;66;03m# print(n, \"  \", a)\u001b[39;00m\n\u001b[0;32m     27\u001b[0m     dicT[n] \u001b[38;5;241m=\u001b[39m a\n\u001b[1;32m---> 29\u001b[0m \u001b[43mansweringF\u001b[49m\u001b[43m(\u001b[49m\u001b[43mdicT\u001b[49m\u001b[43m,\u001b[49m\u001b[43mgoodAnswer\u001b[49m\u001b[43m,\u001b[49m\u001b[43m \u001b[49m\u001b[43mhelP\u001b[49m\u001b[43m,\u001b[49m\u001b[43m \u001b[49m\u001b[43mquestion\u001b[49m\u001b[43m)\u001b[49m \u001b[38;5;66;03m### unlock it after the help is done\u001b[39;00m\n\u001b[0;32m     30\u001b[0m \u001b[38;5;28;01mreturn\u001b[39;00m \u001b[38;5;28;01mNone\u001b[39;00m\n",
      "Cell \u001b[1;32mIn [4], line 54\u001b[0m, in \u001b[0;36mansweringF\u001b[1;34m(dicT, goodAnswer, helP, question)\u001b[0m\n\u001b[0;32m     52\u001b[0m     \u001b[38;5;28mprint\u001b[39m(i,\u001b[38;5;124m\"\u001b[39m\u001b[38;5;124m - \u001b[39m\u001b[38;5;124m\"\u001b[39m, dicT[i])\n\u001b[0;32m     53\u001b[0m \u001b[38;5;66;03m# answer\u001b[39;00m\n\u001b[1;32m---> 54\u001b[0m ans \u001b[38;5;241m=\u001b[39m \u001b[43mmm\u001b[49m\u001b[38;5;241;43m.\u001b[39;49m\u001b[43muserInputValidator\u001b[49m\u001b[43m(\u001b[49m\u001b[43mnumberWrongAnswers\u001b[49m\u001b[38;5;241;43m+\u001b[39;49m\u001b[38;5;241;43m1\u001b[39;49m\u001b[43m)\u001b[49m\n\u001b[0;32m     55\u001b[0m \u001b[38;5;28;01mif\u001b[39;00m goodAnswerChecker(dicT, ans, goodAnswer): \u001b[38;5;66;03m#if the answer is good\u001b[39;00m\n\u001b[0;32m     56\u001b[0m     goodAnswerDictWrite(question, goodAnswer)\n",
      "File \u001b[1;32mD:\\DICTIONARY\\Dictionary\\main.py:166\u001b[0m, in \u001b[0;36muserInputValidator\u001b[1;34m(maxN)\u001b[0m\n\u001b[0;32m    164\u001b[0m \u001b[38;5;28;01mwhile\u001b[39;00m \u001b[38;5;28;01mTrue\u001b[39;00m:\n\u001b[0;32m    165\u001b[0m     \u001b[38;5;28;01mtry\u001b[39;00m:\n\u001b[1;32m--> 166\u001b[0m         number \u001b[38;5;241m=\u001b[39m \u001b[38;5;28mint\u001b[39m(\u001b[38;5;28;43minput\u001b[39;49m\u001b[43m(\u001b[49m\u001b[43m)\u001b[49m)\n\u001b[0;32m    167\u001b[0m         \u001b[38;5;28;01mif\u001b[39;00m number \u001b[38;5;241m<\u001b[39m \u001b[38;5;241m1\u001b[39m \u001b[38;5;129;01mor\u001b[39;00m number \u001b[38;5;241m>\u001b[39m maxN:\n\u001b[0;32m    168\u001b[0m             \u001b[38;5;28;01mraise\u001b[39;00m \u001b[38;5;167;01mValueError\u001b[39;00m \u001b[38;5;66;03m#this will send it to the print message and back to the input option\u001b[39;00m\n",
      "File \u001b[1;32m~\\AppData\\Local\\Programs\\Python\\Python310\\lib\\site-packages\\ipykernel\\kernelbase.py:1177\u001b[0m, in \u001b[0;36mKernel.raw_input\u001b[1;34m(self, prompt)\u001b[0m\n\u001b[0;32m   1173\u001b[0m \u001b[38;5;28;01mif\u001b[39;00m \u001b[38;5;129;01mnot\u001b[39;00m \u001b[38;5;28mself\u001b[39m\u001b[38;5;241m.\u001b[39m_allow_stdin:\n\u001b[0;32m   1174\u001b[0m     \u001b[38;5;28;01mraise\u001b[39;00m StdinNotImplementedError(\n\u001b[0;32m   1175\u001b[0m         \u001b[38;5;124m\"\u001b[39m\u001b[38;5;124mraw_input was called, but this frontend does not support input requests.\u001b[39m\u001b[38;5;124m\"\u001b[39m\n\u001b[0;32m   1176\u001b[0m     )\n\u001b[1;32m-> 1177\u001b[0m \u001b[38;5;28;01mreturn\u001b[39;00m \u001b[38;5;28;43mself\u001b[39;49m\u001b[38;5;241;43m.\u001b[39;49m\u001b[43m_input_request\u001b[49m\u001b[43m(\u001b[49m\n\u001b[0;32m   1178\u001b[0m \u001b[43m    \u001b[49m\u001b[38;5;28;43mstr\u001b[39;49m\u001b[43m(\u001b[49m\u001b[43mprompt\u001b[49m\u001b[43m)\u001b[49m\u001b[43m,\u001b[49m\n\u001b[0;32m   1179\u001b[0m \u001b[43m    \u001b[49m\u001b[38;5;28;43mself\u001b[39;49m\u001b[38;5;241;43m.\u001b[39;49m\u001b[43m_parent_ident\u001b[49m\u001b[43m[\u001b[49m\u001b[38;5;124;43m\"\u001b[39;49m\u001b[38;5;124;43mshell\u001b[39;49m\u001b[38;5;124;43m\"\u001b[39;49m\u001b[43m]\u001b[49m\u001b[43m,\u001b[49m\n\u001b[0;32m   1180\u001b[0m \u001b[43m    \u001b[49m\u001b[38;5;28;43mself\u001b[39;49m\u001b[38;5;241;43m.\u001b[39;49m\u001b[43mget_parent\u001b[49m\u001b[43m(\u001b[49m\u001b[38;5;124;43m\"\u001b[39;49m\u001b[38;5;124;43mshell\u001b[39;49m\u001b[38;5;124;43m\"\u001b[39;49m\u001b[43m)\u001b[49m\u001b[43m,\u001b[49m\n\u001b[0;32m   1181\u001b[0m \u001b[43m    \u001b[49m\u001b[43mpassword\u001b[49m\u001b[38;5;241;43m=\u001b[39;49m\u001b[38;5;28;43;01mFalse\u001b[39;49;00m\u001b[43m,\u001b[49m\n\u001b[0;32m   1182\u001b[0m \u001b[43m\u001b[49m\u001b[43m)\u001b[49m\n",
      "File \u001b[1;32m~\\AppData\\Local\\Programs\\Python\\Python310\\lib\\site-packages\\ipykernel\\kernelbase.py:1219\u001b[0m, in \u001b[0;36mKernel._input_request\u001b[1;34m(self, prompt, ident, parent, password)\u001b[0m\n\u001b[0;32m   1216\u001b[0m             \u001b[38;5;28;01mbreak\u001b[39;00m\n\u001b[0;32m   1217\u001b[0m \u001b[38;5;28;01mexcept\u001b[39;00m \u001b[38;5;167;01mKeyboardInterrupt\u001b[39;00m:\n\u001b[0;32m   1218\u001b[0m     \u001b[38;5;66;03m# re-raise KeyboardInterrupt, to truncate traceback\u001b[39;00m\n\u001b[1;32m-> 1219\u001b[0m     \u001b[38;5;28;01mraise\u001b[39;00m \u001b[38;5;167;01mKeyboardInterrupt\u001b[39;00m(\u001b[38;5;124m\"\u001b[39m\u001b[38;5;124mInterrupted by user\u001b[39m\u001b[38;5;124m\"\u001b[39m) \u001b[38;5;28;01mfrom\u001b[39;00m \u001b[38;5;28mNone\u001b[39m\n\u001b[0;32m   1220\u001b[0m \u001b[38;5;28;01mexcept\u001b[39;00m \u001b[38;5;167;01mException\u001b[39;00m:\n\u001b[0;32m   1221\u001b[0m     \u001b[38;5;28mself\u001b[39m\u001b[38;5;241m.\u001b[39mlog\u001b[38;5;241m.\u001b[39mwarning(\u001b[38;5;124m\"\u001b[39m\u001b[38;5;124mInvalid Message:\u001b[39m\u001b[38;5;124m\"\u001b[39m, exc_info\u001b[38;5;241m=\u001b[39m\u001b[38;5;28;01mTrue\u001b[39;00m)\n",
      "\u001b[1;31mKeyboardInterrupt\u001b[0m: Interrupted by user"
     ]
    }
   ],
   "source": [
    "def quizF (quizQ, possibleWrongAnswers,numberWrongAnswers):\n",
    "    for i in quizQ:\n",
    "        question = i[0]\n",
    "        goodAnswer = i[1]\n",
    "        helP = i[2]\n",
    "        # define x wrong answer\n",
    "        # print(\"-------- quizF \", question, goodAnswer)\n",
    "        wrongAnswers = mm.random.choices(possibleWrongAnswers, k=numberWrongAnswers)\n",
    "        mapAnswers(question, goodAnswer, helP, wrongAnswers, numberWrongAnswers)\n",
    "        # print(question, goodAnswer, \" ::: wrong ones ::: \", wrongAnswers)\n",
    "        \n",
    "def mapAnswers(question, goodAnswer, helP, wrongAnswers, numberWrongAnswers):\n",
    "    q = [] #variable for all answers\n",
    "    q.append(goodAnswer)\n",
    "    dicT = {}\n",
    "    # print(\"Q: \", question, \" A: \", goodAnswer, \" H: \", helP)\n",
    "    ######## until here it is good\n",
    "    for i in wrongAnswers:\n",
    "        q.append(i)\n",
    "    mm.random.shuffle(q)\n",
    "    #print(\"## q is this: \", q)\n",
    "    n = range(1,numberWrongAnswers+2)\n",
    "    ######## until here it is good\n",
    "    for n, a in zip(n, q):\n",
    "        # n=number, a=corresponding answer\n",
    "        # print(n, \"  \", a)\n",
    "        dicT[n] = a\n",
    "    \n",
    "    answeringF(dicT,goodAnswer, helP, question) ### unlock it after the help is done\n",
    "    return None\n",
    "\n",
    "\n",
    "def goodAnswerDictWrite(question, goodAnswer):\n",
    "    print(\"Good answer! \")\n",
    "    print(question, \" : \",goodAnswer)\n",
    "    goodAnswersDict[question] = int(mm.datetime.datetime.now().timestamp())\n",
    "    return \n",
    "\n",
    "def goodAnswerChecker(dicT, ans, goodAnswer):\n",
    "    if dicT[ans] == goodAnswer:\n",
    "        return True\n",
    "    else:\n",
    "        return False\n",
    "    \n",
    "def answeringF(dicT, goodAnswer, helP, question):\n",
    "    print(question)\n",
    "    # say it\n",
    "    mm.speak(question)\n",
    "    # print(helP)\n",
    "    # print the answers\n",
    "    for i in dicT:\n",
    "        print(i,\" - \", dicT[i])\n",
    "    # answer\n",
    "    ans = mm.userInputValidator(numberWrongAnswers+1)\n",
    "    if goodAnswerChecker(dicT, ans, goodAnswer): #if the answer is good\n",
    "        goodAnswerDictWrite(question, goodAnswer)\n",
    "    else:\n",
    "        # wrong answer, print help\n",
    "        wrongAnswersDict[question] = int(mm.datetime.datetime.now().timestamp())\n",
    "        print(\"### Wrong answer, help: \", helP)\n",
    "        ans = mm.userInputValidator(numberWrongAnswers+1)\n",
    "        if goodAnswerChecker(dicT, ans, goodAnswer):\n",
    "            goodAnswerDictWrite(question)\n",
    "        if goodAnswerChecker(dicT, ans, goodAnswer) == False:\n",
    "            wrongAnswersDict[question] = int(mm.datetime.datetime.now().timestamp())\n",
    "            print(\"Correct answer: \", goodAnswer)\n",
    "            mm.webbrowser.open('https://www.collinsdictionary.com/dictionary/english/'+question)\n",
    "            # print(\"::: MAPPED GOOD ANSWER IS: \", )\n",
    "            # print(\" ::: DICT :::: \", dicT)\n",
    "            \n",
    "# decleare an empty viaraible for the wrong answers\n",
    "wrongAnswersDict = {}\n",
    "goodAnswersDict = {}\n",
    "\n",
    "quizF(quizQ, possibleWrongAnswers, numberWrongAnswers)"
   ]
  },
  {
   "cell_type": "code",
   "execution_count": 6,
   "id": "0205fcae",
   "metadata": {},
   "outputs": [
    {
     "data": {
      "text/plain": [
       "{'compile': 1665332604}"
      ]
     },
     "execution_count": 6,
     "metadata": {},
     "output_type": "execute_result"
    }
   ],
   "source": [
    "wrongAnswersDict"
   ]
  },
  {
   "cell_type": "code",
   "execution_count": 8,
   "id": "9a1f5175",
   "metadata": {},
   "outputs": [
    {
     "data": {
      "text/plain": [
       "' Validate user input '"
      ]
     },
     "execution_count": 8,
     "metadata": {},
     "output_type": "execute_result"
    }
   ],
   "source": [
    "mm.userInputValidator.__doc__"
   ]
  },
  {
   "cell_type": "code",
   "execution_count": 36,
   "id": "0c380724",
   "metadata": {},
   "outputs": [],
   "source": [
    "type(wordsStat)\n",
    "tt = wordsStat.squeeze('columns')"
   ]
  },
  {
   "cell_type": "code",
   "execution_count": 37,
   "id": "09c54b27",
   "metadata": {},
   "outputs": [
    {
     "data": {
      "text/plain": [
       "pandas.core.frame.DataFrame"
      ]
     },
     "execution_count": 37,
     "metadata": {},
     "output_type": "execute_result"
    }
   ],
   "source": [
    "type(tt)"
   ]
  },
  {
   "cell_type": "code",
   "execution_count": 38,
   "id": "f215a32f",
   "metadata": {},
   "outputs": [
    {
     "data": {
      "text/plain": [
       "pandas.core.series.Series"
      ]
     },
     "execution_count": 38,
     "metadata": {},
     "output_type": "execute_result"
    }
   ],
   "source": [
    "type(t)"
   ]
  },
  {
   "cell_type": "code",
   "execution_count": 30,
   "id": "bd1e8edc",
   "metadata": {},
   "outputs": [
    {
     "ename": "SyntaxError",
     "evalue": "invalid syntax (3237625668.py, line 2)",
     "output_type": "error",
     "traceback": [
      "\u001b[1;36m  Cell \u001b[1;32mIn [30], line 2\u001b[1;36m\u001b[0m\n\u001b[1;33m    t =\u001b[0m\n\u001b[1;37m        ^\u001b[0m\n\u001b[1;31mSyntaxError\u001b[0m\u001b[1;31m:\u001b[0m invalid syntax\n"
     ]
    }
   ],
   "source": [
    "# append wrong and good answers\n",
    "t = \n",
    "for i in wrongAnswersDict:\n",
    "    #wordsStat = wordsStat.append({'Word': i, \"NOK\":wrongAnswersDict[i], \"OK\":\"\" }, ignore_index=True)\n",
    "    t = mm.pd.Series([i, \"\", wrongAnswersDict[i]])\n",
    "    print(t)\n",
    "    print(mm.pd.concat(wordsStat, [t]))\n",
    "for i in goodAnswersDict:\n",
    "    None\n",
    "    #wordsStat = wordsStat.append({'Word': i, \"OK\":goodAnswersDict[i], \"NOK\":\"\" }, ignore_index=True)\n",
    "\n",
    "# update the sheet\n",
    "#stat.update([wordsStat.columns.values.tolist()] + wordsStat.values.tolist())"
   ]
  },
  {
   "cell_type": "code",
   "execution_count": 12,
   "id": "ce5d7b68",
   "metadata": {},
   "outputs": [
    {
     "data": {
      "text/plain": [
       "pandas.core.frame.DataFrame"
      ]
     },
     "execution_count": 12,
     "metadata": {},
     "output_type": "execute_result"
    }
   ],
   "source": [
    "type(wordsStat)"
   ]
  },
  {
   "cell_type": "code",
   "execution_count": 9,
   "id": "0c0da8c9",
   "metadata": {},
   "outputs": [
    {
     "data": {
      "text/html": [
       "<div>\n",
       "<style scoped>\n",
       "    .dataframe tbody tr th:only-of-type {\n",
       "        vertical-align: middle;\n",
       "    }\n",
       "\n",
       "    .dataframe tbody tr th {\n",
       "        vertical-align: top;\n",
       "    }\n",
       "\n",
       "    .dataframe thead th {\n",
       "        text-align: right;\n",
       "    }\n",
       "</style>\n",
       "<table border=\"1\" class=\"dataframe\">\n",
       "  <thead>\n",
       "    <tr style=\"text-align: right;\">\n",
       "      <th></th>\n",
       "      <th>Word</th>\n",
       "      <th>OK</th>\n",
       "      <th>NOK</th>\n",
       "    </tr>\n",
       "  </thead>\n",
       "  <tbody>\n",
       "    <tr>\n",
       "      <th>0</th>\n",
       "      <td>Forge</td>\n",
       "      <td></td>\n",
       "      <td>1663608778</td>\n",
       "    </tr>\n",
       "    <tr>\n",
       "      <th>1</th>\n",
       "      <td>Evasion</td>\n",
       "      <td></td>\n",
       "      <td>1663608840</td>\n",
       "    </tr>\n",
       "    <tr>\n",
       "      <th>2</th>\n",
       "      <td>submit</td>\n",
       "      <td>1663608759</td>\n",
       "      <td></td>\n",
       "    </tr>\n",
       "    <tr>\n",
       "      <th>3</th>\n",
       "      <td>Inertia</td>\n",
       "      <td>1663608765</td>\n",
       "      <td></td>\n",
       "    </tr>\n",
       "    <tr>\n",
       "      <th>4</th>\n",
       "      <td>Classification</td>\n",
       "      <td>1663608770</td>\n",
       "      <td></td>\n",
       "    </tr>\n",
       "    <tr>\n",
       "      <th>...</th>\n",
       "      <td>...</td>\n",
       "      <td>...</td>\n",
       "      <td>...</td>\n",
       "    </tr>\n",
       "    <tr>\n",
       "      <th>417</th>\n",
       "      <td>investigation</td>\n",
       "      <td>1665332238</td>\n",
       "      <td></td>\n",
       "    </tr>\n",
       "    <tr>\n",
       "      <th>418</th>\n",
       "      <td>plausible</td>\n",
       "      <td>1665332250</td>\n",
       "      <td></td>\n",
       "    </tr>\n",
       "    <tr>\n",
       "      <th>419</th>\n",
       "      <td>disseminate</td>\n",
       "      <td>1665332271</td>\n",
       "      <td></td>\n",
       "    </tr>\n",
       "    <tr>\n",
       "      <th>420</th>\n",
       "      <td>compile</td>\n",
       "      <td></td>\n",
       "      <td>1665332604</td>\n",
       "    </tr>\n",
       "    <tr>\n",
       "      <th>421</th>\n",
       "      <td>ordinal</td>\n",
       "      <td>1665332609</td>\n",
       "      <td></td>\n",
       "    </tr>\n",
       "  </tbody>\n",
       "</table>\n",
       "<p>422 rows × 3 columns</p>\n",
       "</div>"
      ],
      "text/plain": [
       "               Word          OK         NOK\n",
       "0             Forge              1663608778\n",
       "1           Evasion              1663608840\n",
       "2            submit  1663608759            \n",
       "3           Inertia  1663608765            \n",
       "4    Classification  1663608770            \n",
       "..              ...         ...         ...\n",
       "417   investigation  1665332238            \n",
       "418       plausible  1665332250            \n",
       "419     disseminate  1665332271            \n",
       "420         compile              1665332604\n",
       "421         ordinal  1665332609            \n",
       "\n",
       "[422 rows x 3 columns]"
      ]
     },
     "execution_count": 9,
     "metadata": {},
     "output_type": "execute_result"
    }
   ],
   "source": [
    "wordsStat"
   ]
  },
  {
   "cell_type": "code",
   "execution_count": 7,
   "id": "dff3ba21",
   "metadata": {},
   "outputs": [
    {
     "data": {
      "text/plain": [
       "{'spreadsheetId': '1FLbb3hTuk6CV8IbjYAw1IF8ABTWY6T8ZTfneCiRJ2TM',\n",
       " 'updatedRange': 'STAT!A1:C421',\n",
       " 'updatedRows': 421,\n",
       " 'updatedColumns': 3,\n",
       " 'updatedCells': 1263}"
      ]
     },
     "execution_count": 7,
     "metadata": {},
     "output_type": "execute_result"
    }
   ],
   "source": [
    "stat.update([wordsStat.columns.values.tolist()] + wordsStat.values.tolist())"
   ]
  },
  {
   "cell_type": "code",
   "execution_count": null,
   "id": "6736774e",
   "metadata": {},
   "outputs": [],
   "source": []
  }
 ],
 "metadata": {
  "kernelspec": {
   "display_name": "Python 3 (ipykernel)",
   "language": "python",
   "name": "python3"
  },
  "language_info": {
   "codemirror_mode": {
    "name": "ipython",
    "version": 3
   },
   "file_extension": ".py",
   "mimetype": "text/x-python",
   "name": "python",
   "nbconvert_exporter": "python",
   "pygments_lexer": "ipython3",
   "version": "3.10.7"
  }
 },
 "nbformat": 4,
 "nbformat_minor": 5
}
